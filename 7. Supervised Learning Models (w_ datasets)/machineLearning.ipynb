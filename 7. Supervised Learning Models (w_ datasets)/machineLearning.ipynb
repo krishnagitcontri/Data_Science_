{
 "cells": [
  {
   "cell_type": "markdown",
   "id": "827c06e7-2272-4c44-8056-372725644a0e",
   "metadata": {},
   "source": [
    "## Evaluating Regression - Loss / Cost / Error\n",
    "\n",
    "- MAE - Mean Absolute Error\n",
    "    - won't highlight large errors - (outliers)\n",
    "- MSE - Mean Squared Error\n",
    "    - for large errors\n",
    "- RMSE - Root Mean Squared Error"
   ]
  },
  {
   "cell_type": "markdown",
   "id": "2f13319f-fbc3-4051-8d53-7f333862275e",
   "metadata": {},
   "source": [
    "---"
   ]
  },
  {
   "cell_type": "markdown",
   "id": "aedef65d-d3a3-4bd0-aaa8-861f4c120b88",
   "metadata": {},
   "source": [
    "# Test / Train"
   ]
  },
  {
   "cell_type": "code",
   "execution_count": 26,
   "id": "34c0557d-85ca-4d17-89cf-6edd2a06a6ee",
   "metadata": {},
   "outputs": [],
   "source": [
    "import numpy as np\n",
    "# %pip install scikit-learn"
   ]
  },
  {
   "cell_type": "code",
   "execution_count": 20,
   "id": "37c37b11-46e1-4998-9117-218b2abbf00b",
   "metadata": {},
   "outputs": [
    {
     "data": {
      "text/plain": [
       "array([[0, 1],\n",
       "       [2, 3],\n",
       "       [4, 5],\n",
       "       [6, 7],\n",
       "       [8, 9]])"
      ]
     },
     "execution_count": 20,
     "metadata": {},
     "output_type": "execute_result"
    }
   ],
   "source": [
    "x = np.arange(10).reshape(5,2)\n",
    "x"
   ]
  },
  {
   "cell_type": "code",
   "execution_count": 21,
   "id": "6c0035e1-6128-4e84-b7e4-6c9f42a4ddcc",
   "metadata": {},
   "outputs": [
    {
     "data": {
      "text/plain": [
       "[0, 1, 2, 3, 4]"
      ]
     },
     "execution_count": 21,
     "metadata": {},
     "output_type": "execute_result"
    }
   ],
   "source": [
    "y = range(5)\n",
    "list(y)"
   ]
  },
  {
   "cell_type": "markdown",
   "id": "6f5f85c8-69e3-411c-8a2a-246be459dff3",
   "metadata": {},
   "source": [
    "### Importing sklearn "
   ]
  },
  {
   "cell_type": "code",
   "execution_count": 45,
   "id": "059480c3-2738-4476-96fe-93a5f3931182",
   "metadata": {},
   "outputs": [],
   "source": [
    "from sklearn.model_selection import train_test_split # to split data into train and test\n",
    "from sklearn.linear_model import LinearRegression # for models and linear regression\n",
    "from sklearn import metrics\n",
    "import pandas as pd"
   ]
  },
  {
   "cell_type": "code",
   "execution_count": 23,
   "id": "bd344b76-f08f-4ed7-b975-495960650129",
   "metadata": {},
   "outputs": [],
   "source": [
    "x_train, x_test, y_train, y_test = train_test_split( x , y )"
   ]
  },
  {
   "cell_type": "code",
   "execution_count": 29,
   "id": "53ccc78b-450c-4f47-9777-0475e51bef9e",
   "metadata": {},
   "outputs": [
    {
     "data": {
      "text/plain": [
       "array([[6, 7],\n",
       "       [8, 9],\n",
       "       [0, 1]])"
      ]
     },
     "execution_count": 29,
     "metadata": {},
     "output_type": "execute_result"
    }
   ],
   "source": [
    "x_train # this will output random shuffled numbers"
   ]
  },
  {
   "cell_type": "code",
   "execution_count": 30,
   "id": "c8f5687f-3e3d-4f9a-8b8a-fa85f13c74b2",
   "metadata": {},
   "outputs": [
    {
     "data": {
      "text/plain": [
       "[3, 4, 0]"
      ]
     },
     "execution_count": 30,
     "metadata": {},
     "output_type": "execute_result"
    }
   ],
   "source": [
    "y_train"
   ]
  },
  {
   "cell_type": "code",
   "execution_count": 41,
   "id": "0c1f0abf-0077-48ff-a688-5b744d06d66c",
   "metadata": {},
   "outputs": [],
   "source": [
    "model = LinearRegression()"
   ]
  },
  {
   "cell_type": "code",
   "execution_count": 42,
   "id": "4a6d775e-a46a-4058-b583-f95db5990b57",
   "metadata": {},
   "outputs": [
    {
     "data": {
      "text/html": [
       "<style>#sk-container-id-1 {color: black;}#sk-container-id-1 pre{padding: 0;}#sk-container-id-1 div.sk-toggleable {background-color: white;}#sk-container-id-1 label.sk-toggleable__label {cursor: pointer;display: block;width: 100%;margin-bottom: 0;padding: 0.3em;box-sizing: border-box;text-align: center;}#sk-container-id-1 label.sk-toggleable__label-arrow:before {content: \"▸\";float: left;margin-right: 0.25em;color: #696969;}#sk-container-id-1 label.sk-toggleable__label-arrow:hover:before {color: black;}#sk-container-id-1 div.sk-estimator:hover label.sk-toggleable__label-arrow:before {color: black;}#sk-container-id-1 div.sk-toggleable__content {max-height: 0;max-width: 0;overflow: hidden;text-align: left;background-color: #f0f8ff;}#sk-container-id-1 div.sk-toggleable__content pre {margin: 0.2em;color: black;border-radius: 0.25em;background-color: #f0f8ff;}#sk-container-id-1 input.sk-toggleable__control:checked~div.sk-toggleable__content {max-height: 200px;max-width: 100%;overflow: auto;}#sk-container-id-1 input.sk-toggleable__control:checked~label.sk-toggleable__label-arrow:before {content: \"▾\";}#sk-container-id-1 div.sk-estimator input.sk-toggleable__control:checked~label.sk-toggleable__label {background-color: #d4ebff;}#sk-container-id-1 div.sk-label input.sk-toggleable__control:checked~label.sk-toggleable__label {background-color: #d4ebff;}#sk-container-id-1 input.sk-hidden--visually {border: 0;clip: rect(1px 1px 1px 1px);clip: rect(1px, 1px, 1px, 1px);height: 1px;margin: -1px;overflow: hidden;padding: 0;position: absolute;width: 1px;}#sk-container-id-1 div.sk-estimator {font-family: monospace;background-color: #f0f8ff;border: 1px dotted black;border-radius: 0.25em;box-sizing: border-box;margin-bottom: 0.5em;}#sk-container-id-1 div.sk-estimator:hover {background-color: #d4ebff;}#sk-container-id-1 div.sk-parallel-item::after {content: \"\";width: 100%;border-bottom: 1px solid gray;flex-grow: 1;}#sk-container-id-1 div.sk-label:hover label.sk-toggleable__label {background-color: #d4ebff;}#sk-container-id-1 div.sk-serial::before {content: \"\";position: absolute;border-left: 1px solid gray;box-sizing: border-box;top: 0;bottom: 0;left: 50%;z-index: 0;}#sk-container-id-1 div.sk-serial {display: flex;flex-direction: column;align-items: center;background-color: white;padding-right: 0.2em;padding-left: 0.2em;position: relative;}#sk-container-id-1 div.sk-item {position: relative;z-index: 1;}#sk-container-id-1 div.sk-parallel {display: flex;align-items: stretch;justify-content: center;background-color: white;position: relative;}#sk-container-id-1 div.sk-item::before, #sk-container-id-1 div.sk-parallel-item::before {content: \"\";position: absolute;border-left: 1px solid gray;box-sizing: border-box;top: 0;bottom: 0;left: 50%;z-index: -1;}#sk-container-id-1 div.sk-parallel-item {display: flex;flex-direction: column;z-index: 1;position: relative;background-color: white;}#sk-container-id-1 div.sk-parallel-item:first-child::after {align-self: flex-end;width: 50%;}#sk-container-id-1 div.sk-parallel-item:last-child::after {align-self: flex-start;width: 50%;}#sk-container-id-1 div.sk-parallel-item:only-child::after {width: 0;}#sk-container-id-1 div.sk-dashed-wrapped {border: 1px dashed gray;margin: 0 0.4em 0.5em 0.4em;box-sizing: border-box;padding-bottom: 0.4em;background-color: white;}#sk-container-id-1 div.sk-label label {font-family: monospace;font-weight: bold;display: inline-block;line-height: 1.2em;}#sk-container-id-1 div.sk-label-container {text-align: center;}#sk-container-id-1 div.sk-container {/* jupyter's `normalize.less` sets `[hidden] { display: none; }` but bootstrap.min.css set `[hidden] { display: none !important; }` so we also need the `!important` here to be able to override the default hidden behavior on the sphinx rendered scikit-learn.org. See: https://github.com/scikit-learn/scikit-learn/issues/21755 */display: inline-block !important;position: relative;}#sk-container-id-1 div.sk-text-repr-fallback {display: none;}</style><div id=\"sk-container-id-1\" class=\"sk-top-container\"><div class=\"sk-text-repr-fallback\"><pre>LinearRegression()</pre><b>In a Jupyter environment, please rerun this cell to show the HTML representation or trust the notebook. <br />On GitHub, the HTML representation is unable to render, please try loading this page with nbviewer.org.</b></div><div class=\"sk-container\" hidden><div class=\"sk-item\"><div class=\"sk-estimator sk-toggleable\"><input class=\"sk-toggleable__control sk-hidden--visually\" id=\"sk-estimator-id-1\" type=\"checkbox\" checked><label for=\"sk-estimator-id-1\" class=\"sk-toggleable__label sk-toggleable__label-arrow\">LinearRegression</label><div class=\"sk-toggleable__content\"><pre>LinearRegression()</pre></div></div></div></div></div>"
      ],
      "text/plain": [
       "LinearRegression()"
      ]
     },
     "execution_count": 42,
     "metadata": {},
     "output_type": "execute_result"
    }
   ],
   "source": [
    "model.fit(x_train, y_train)"
   ]
  },
  {
   "cell_type": "code",
   "execution_count": 48,
   "id": "4bb1c12d-1723-4771-ab2f-80f24a4dad43",
   "metadata": {},
   "outputs": [
    {
     "data": {
      "text/plain": [
       "array([2., 1.])"
      ]
     },
     "execution_count": 48,
     "metadata": {},
     "output_type": "execute_result"
    }
   ],
   "source": [
    "predict = model.predict(x_test)\n",
    "predict"
   ]
  },
  {
   "cell_type": "code",
   "execution_count": 49,
   "id": "069c7389-e4bd-4e4b-9b9a-b1c5372bf83e",
   "metadata": {},
   "outputs": [
    {
     "data": {
      "text/plain": [
       "[2, 1]"
      ]
     },
     "execution_count": 49,
     "metadata": {},
     "output_type": "execute_result"
    }
   ],
   "source": [
    "y_test"
   ]
  },
  {
   "cell_type": "code",
   "execution_count": 51,
   "id": "908595f0-ad17-4c4b-8203-b206bffaf8f2",
   "metadata": {},
   "outputs": [
    {
     "data": {
      "text/plain": [
       "2.220446049250313e-16"
      ]
     },
     "execution_count": 51,
     "metadata": {},
     "output_type": "execute_result"
    }
   ],
   "source": [
    "metrics.mean_absolute_error(y_test, predict)"
   ]
  },
  {
   "cell_type": "markdown",
   "id": "c876893a-1b32-495d-a0ed-c807747b4963",
   "metadata": {},
   "source": [
    "# Housing Data "
   ]
  },
  {
   "cell_type": "code",
   "execution_count": 54,
   "id": "861b0d41-f1b3-457b-9b02-28d6acaa14b3",
   "metadata": {},
   "outputs": [
    {
     "data": {
      "text/html": [
       "<div>\n",
       "<style scoped>\n",
       "    .dataframe tbody tr th:only-of-type {\n",
       "        vertical-align: middle;\n",
       "    }\n",
       "\n",
       "    .dataframe tbody tr th {\n",
       "        vertical-align: top;\n",
       "    }\n",
       "\n",
       "    .dataframe thead th {\n",
       "        text-align: right;\n",
       "    }\n",
       "</style>\n",
       "<table border=\"1\" class=\"dataframe\">\n",
       "  <thead>\n",
       "    <tr style=\"text-align: right;\">\n",
       "      <th></th>\n",
       "      <th>Avg. Area Income</th>\n",
       "      <th>Avg. Area House Age</th>\n",
       "      <th>Avg. Area Number of Rooms</th>\n",
       "      <th>Avg. Area Number of Bedrooms</th>\n",
       "      <th>Area Population</th>\n",
       "      <th>Price</th>\n",
       "    </tr>\n",
       "  </thead>\n",
       "  <tbody>\n",
       "    <tr>\n",
       "      <th>count</th>\n",
       "      <td>5000.000000</td>\n",
       "      <td>5000.000000</td>\n",
       "      <td>5000.000000</td>\n",
       "      <td>5000.000000</td>\n",
       "      <td>5000.000000</td>\n",
       "      <td>5.000000e+03</td>\n",
       "    </tr>\n",
       "    <tr>\n",
       "      <th>mean</th>\n",
       "      <td>68583.108984</td>\n",
       "      <td>5.977222</td>\n",
       "      <td>6.987792</td>\n",
       "      <td>3.981330</td>\n",
       "      <td>36163.516039</td>\n",
       "      <td>1.232073e+06</td>\n",
       "    </tr>\n",
       "    <tr>\n",
       "      <th>std</th>\n",
       "      <td>10657.991214</td>\n",
       "      <td>0.991456</td>\n",
       "      <td>1.005833</td>\n",
       "      <td>1.234137</td>\n",
       "      <td>9925.650114</td>\n",
       "      <td>3.531176e+05</td>\n",
       "    </tr>\n",
       "    <tr>\n",
       "      <th>min</th>\n",
       "      <td>17796.631190</td>\n",
       "      <td>2.644304</td>\n",
       "      <td>3.236194</td>\n",
       "      <td>2.000000</td>\n",
       "      <td>172.610686</td>\n",
       "      <td>1.593866e+04</td>\n",
       "    </tr>\n",
       "    <tr>\n",
       "      <th>25%</th>\n",
       "      <td>61480.562388</td>\n",
       "      <td>5.322283</td>\n",
       "      <td>6.299250</td>\n",
       "      <td>3.140000</td>\n",
       "      <td>29403.928702</td>\n",
       "      <td>9.975771e+05</td>\n",
       "    </tr>\n",
       "    <tr>\n",
       "      <th>50%</th>\n",
       "      <td>68804.286404</td>\n",
       "      <td>5.970429</td>\n",
       "      <td>7.002902</td>\n",
       "      <td>4.050000</td>\n",
       "      <td>36199.406689</td>\n",
       "      <td>1.232669e+06</td>\n",
       "    </tr>\n",
       "    <tr>\n",
       "      <th>75%</th>\n",
       "      <td>75783.338666</td>\n",
       "      <td>6.650808</td>\n",
       "      <td>7.665871</td>\n",
       "      <td>4.490000</td>\n",
       "      <td>42861.290769</td>\n",
       "      <td>1.471210e+06</td>\n",
       "    </tr>\n",
       "    <tr>\n",
       "      <th>max</th>\n",
       "      <td>107701.748378</td>\n",
       "      <td>9.519088</td>\n",
       "      <td>10.759588</td>\n",
       "      <td>6.500000</td>\n",
       "      <td>69621.713378</td>\n",
       "      <td>2.469066e+06</td>\n",
       "    </tr>\n",
       "  </tbody>\n",
       "</table>\n",
       "</div>"
      ],
      "text/plain": [
       "       Avg. Area Income  Avg. Area House Age  Avg. Area Number of Rooms  \\\n",
       "count       5000.000000          5000.000000                5000.000000   \n",
       "mean       68583.108984             5.977222                   6.987792   \n",
       "std        10657.991214             0.991456                   1.005833   \n",
       "min        17796.631190             2.644304                   3.236194   \n",
       "25%        61480.562388             5.322283                   6.299250   \n",
       "50%        68804.286404             5.970429                   7.002902   \n",
       "75%        75783.338666             6.650808                   7.665871   \n",
       "max       107701.748378             9.519088                  10.759588   \n",
       "\n",
       "       Avg. Area Number of Bedrooms  Area Population         Price  \n",
       "count                   5000.000000      5000.000000  5.000000e+03  \n",
       "mean                       3.981330     36163.516039  1.232073e+06  \n",
       "std                        1.234137      9925.650114  3.531176e+05  \n",
       "min                        2.000000       172.610686  1.593866e+04  \n",
       "25%                        3.140000     29403.928702  9.975771e+05  \n",
       "50%                        4.050000     36199.406689  1.232669e+06  \n",
       "75%                        4.490000     42861.290769  1.471210e+06  \n",
       "max                        6.500000     69621.713378  2.469066e+06  "
      ]
     },
     "execution_count": 54,
     "metadata": {},
     "output_type": "execute_result"
    }
   ],
   "source": [
    "data = pd.read_csv('./datasets/USA_Housing.csv')\n",
    "data.describe()"
   ]
  },
  {
   "cell_type": "code",
   "execution_count": 56,
   "id": "e2e6321f-3e8c-4409-b8f9-eb5b79df9bcc",
   "metadata": {},
   "outputs": [
    {
     "data": {
      "text/plain": [
       "0       1059034.0\n",
       "1       1505891.0\n",
       "2       1058988.0\n",
       "3       1260617.0\n",
       "4        630943.0\n",
       "          ...    \n",
       "4995    1060194.0\n",
       "4996    1482618.0\n",
       "4997    1030730.0\n",
       "4998    1198657.0\n",
       "4999    1298950.0\n",
       "Name: Price, Length: 5000, dtype: float64"
      ]
     },
     "execution_count": 56,
     "metadata": {},
     "output_type": "execute_result"
    }
   ],
   "source": [
    "data['Price'].round()"
   ]
  },
  {
   "cell_type": "code",
   "execution_count": 57,
   "id": "77faf3c9-cc17-4ad3-925b-b630fbb6f463",
   "metadata": {},
   "outputs": [
    {
     "name": "stdout",
     "output_type": "stream",
     "text": [
      "<class 'pandas.core.frame.DataFrame'>\n",
      "RangeIndex: 5000 entries, 0 to 4999\n",
      "Data columns (total 7 columns):\n",
      " #   Column                        Non-Null Count  Dtype  \n",
      "---  ------                        --------------  -----  \n",
      " 0   Avg. Area Income              5000 non-null   float64\n",
      " 1   Avg. Area House Age           5000 non-null   float64\n",
      " 2   Avg. Area Number of Rooms     5000 non-null   float64\n",
      " 3   Avg. Area Number of Bedrooms  5000 non-null   float64\n",
      " 4   Area Population               5000 non-null   float64\n",
      " 5   Price                         5000 non-null   float64\n",
      " 6   Address                       5000 non-null   object \n",
      "dtypes: float64(6), object(1)\n",
      "memory usage: 273.6+ KB\n"
     ]
    }
   ],
   "source": [
    "data.info()"
   ]
  },
  {
   "cell_type": "markdown",
   "id": "3252fa41-d6cd-4cf5-aa8e-aedb74c52938",
   "metadata": {},
   "source": [
    "### Dividing the Dataset"
   ]
  },
  {
   "cell_type": "code",
   "execution_count": 61,
   "id": "93e28e30-f6ca-4180-b73a-a268419ce6c3",
   "metadata": {},
   "outputs": [],
   "source": [
    "x = data[['Avg. Area Income', 'Avg. Area House Age', 'Avg. Area Number of Rooms', 'Avg. Area Number of Bedrooms', 'Area Population']]\n",
    "y = data[['Price']]"
   ]
  },
  {
   "cell_type": "markdown",
   "id": "7dcd8da1-98e8-46f2-8d29-2dddaf53be85",
   "metadata": {},
   "source": [
    "### Splitting the data"
   ]
  },
  {
   "cell_type": "code",
   "execution_count": 63,
   "id": "f4541498-600d-458a-ab54-f79aa211156f",
   "metadata": {},
   "outputs": [],
   "source": [
    "x_train, x_test, y_train, y_test = train_test_split( x , y )"
   ]
  },
  {
   "cell_type": "code",
   "execution_count": 73,
   "id": "2676d060-b9ff-469c-aa68-71b2d0ab04b5",
   "metadata": {},
   "outputs": [
    {
     "data": {
      "text/html": [
       "<div>\n",
       "<style scoped>\n",
       "    .dataframe tbody tr th:only-of-type {\n",
       "        vertical-align: middle;\n",
       "    }\n",
       "\n",
       "    .dataframe tbody tr th {\n",
       "        vertical-align: top;\n",
       "    }\n",
       "\n",
       "    .dataframe thead th {\n",
       "        text-align: right;\n",
       "    }\n",
       "</style>\n",
       "<table border=\"1\" class=\"dataframe\">\n",
       "  <thead>\n",
       "    <tr style=\"text-align: right;\">\n",
       "      <th></th>\n",
       "      <th>Avg. Area Income</th>\n",
       "      <th>Avg. Area House Age</th>\n",
       "      <th>Avg. Area Number of Rooms</th>\n",
       "      <th>Avg. Area Number of Bedrooms</th>\n",
       "      <th>Area Population</th>\n",
       "    </tr>\n",
       "  </thead>\n",
       "  <tbody>\n",
       "    <tr>\n",
       "      <th>3651</th>\n",
       "      <td>64617.438159</td>\n",
       "      <td>7.618949</td>\n",
       "      <td>6.948013</td>\n",
       "      <td>4.44</td>\n",
       "      <td>27995.215129</td>\n",
       "    </tr>\n",
       "    <tr>\n",
       "      <th>1494</th>\n",
       "      <td>57925.044700</td>\n",
       "      <td>3.214868</td>\n",
       "      <td>6.988818</td>\n",
       "      <td>2.33</td>\n",
       "      <td>43867.844545</td>\n",
       "    </tr>\n",
       "    <tr>\n",
       "      <th>874</th>\n",
       "      <td>45493.208426</td>\n",
       "      <td>7.381581</td>\n",
       "      <td>7.266475</td>\n",
       "      <td>3.20</td>\n",
       "      <td>38938.271201</td>\n",
       "    </tr>\n",
       "    <tr>\n",
       "      <th>4786</th>\n",
       "      <td>67043.212293</td>\n",
       "      <td>4.876857</td>\n",
       "      <td>7.555253</td>\n",
       "      <td>3.19</td>\n",
       "      <td>62402.742391</td>\n",
       "    </tr>\n",
       "    <tr>\n",
       "      <th>3408</th>\n",
       "      <td>65417.891826</td>\n",
       "      <td>6.222731</td>\n",
       "      <td>7.701180</td>\n",
       "      <td>5.25</td>\n",
       "      <td>39446.674858</td>\n",
       "    </tr>\n",
       "    <tr>\n",
       "      <th>...</th>\n",
       "      <td>...</td>\n",
       "      <td>...</td>\n",
       "      <td>...</td>\n",
       "      <td>...</td>\n",
       "      <td>...</td>\n",
       "    </tr>\n",
       "    <tr>\n",
       "      <th>2589</th>\n",
       "      <td>76808.344277</td>\n",
       "      <td>7.422467</td>\n",
       "      <td>6.739909</td>\n",
       "      <td>4.21</td>\n",
       "      <td>31129.642484</td>\n",
       "    </tr>\n",
       "    <tr>\n",
       "      <th>4856</th>\n",
       "      <td>60850.702061</td>\n",
       "      <td>3.690574</td>\n",
       "      <td>7.415056</td>\n",
       "      <td>4.41</td>\n",
       "      <td>56303.305988</td>\n",
       "    </tr>\n",
       "    <tr>\n",
       "      <th>4323</th>\n",
       "      <td>69179.700409</td>\n",
       "      <td>5.424774</td>\n",
       "      <td>6.083480</td>\n",
       "      <td>3.25</td>\n",
       "      <td>36323.694451</td>\n",
       "    </tr>\n",
       "    <tr>\n",
       "      <th>3311</th>\n",
       "      <td>75766.124332</td>\n",
       "      <td>6.405793</td>\n",
       "      <td>8.574791</td>\n",
       "      <td>5.23</td>\n",
       "      <td>30776.526728</td>\n",
       "    </tr>\n",
       "    <tr>\n",
       "      <th>4031</th>\n",
       "      <td>68182.465143</td>\n",
       "      <td>5.982990</td>\n",
       "      <td>6.420078</td>\n",
       "      <td>4.48</td>\n",
       "      <td>41933.847999</td>\n",
       "    </tr>\n",
       "  </tbody>\n",
       "</table>\n",
       "<p>3750 rows × 5 columns</p>\n",
       "</div>"
      ],
      "text/plain": [
       "      Avg. Area Income  Avg. Area House Age  Avg. Area Number of Rooms  \\\n",
       "3651      64617.438159             7.618949                   6.948013   \n",
       "1494      57925.044700             3.214868                   6.988818   \n",
       "874       45493.208426             7.381581                   7.266475   \n",
       "4786      67043.212293             4.876857                   7.555253   \n",
       "3408      65417.891826             6.222731                   7.701180   \n",
       "...                ...                  ...                        ...   \n",
       "2589      76808.344277             7.422467                   6.739909   \n",
       "4856      60850.702061             3.690574                   7.415056   \n",
       "4323      69179.700409             5.424774                   6.083480   \n",
       "3311      75766.124332             6.405793                   8.574791   \n",
       "4031      68182.465143             5.982990                   6.420078   \n",
       "\n",
       "      Avg. Area Number of Bedrooms  Area Population  \n",
       "3651                          4.44     27995.215129  \n",
       "1494                          2.33     43867.844545  \n",
       "874                           3.20     38938.271201  \n",
       "4786                          3.19     62402.742391  \n",
       "3408                          5.25     39446.674858  \n",
       "...                            ...              ...  \n",
       "2589                          4.21     31129.642484  \n",
       "4856                          4.41     56303.305988  \n",
       "4323                          3.25     36323.694451  \n",
       "3311                          5.23     30776.526728  \n",
       "4031                          4.48     41933.847999  \n",
       "\n",
       "[3750 rows x 5 columns]"
      ]
     },
     "execution_count": 73,
     "metadata": {},
     "output_type": "execute_result"
    }
   ],
   "source": [
    "x_train"
   ]
  },
  {
   "cell_type": "markdown",
   "id": "6d9e0e37-414e-4f72-9ee4-dc0792b58ecd",
   "metadata": {},
   "source": [
    "### Training"
   ]
  },
  {
   "cell_type": "code",
   "execution_count": 66,
   "id": "4e50c4d7-6633-4745-979b-c9ea64d4c319",
   "metadata": {},
   "outputs": [],
   "source": [
    "model = LinearRegression()"
   ]
  },
  {
   "cell_type": "code",
   "execution_count": 67,
   "id": "796f7e19-a4c4-4270-b2cd-14430246a76d",
   "metadata": {},
   "outputs": [
    {
     "data": {
      "text/html": [
       "<style>#sk-container-id-2 {color: black;}#sk-container-id-2 pre{padding: 0;}#sk-container-id-2 div.sk-toggleable {background-color: white;}#sk-container-id-2 label.sk-toggleable__label {cursor: pointer;display: block;width: 100%;margin-bottom: 0;padding: 0.3em;box-sizing: border-box;text-align: center;}#sk-container-id-2 label.sk-toggleable__label-arrow:before {content: \"▸\";float: left;margin-right: 0.25em;color: #696969;}#sk-container-id-2 label.sk-toggleable__label-arrow:hover:before {color: black;}#sk-container-id-2 div.sk-estimator:hover label.sk-toggleable__label-arrow:before {color: black;}#sk-container-id-2 div.sk-toggleable__content {max-height: 0;max-width: 0;overflow: hidden;text-align: left;background-color: #f0f8ff;}#sk-container-id-2 div.sk-toggleable__content pre {margin: 0.2em;color: black;border-radius: 0.25em;background-color: #f0f8ff;}#sk-container-id-2 input.sk-toggleable__control:checked~div.sk-toggleable__content {max-height: 200px;max-width: 100%;overflow: auto;}#sk-container-id-2 input.sk-toggleable__control:checked~label.sk-toggleable__label-arrow:before {content: \"▾\";}#sk-container-id-2 div.sk-estimator input.sk-toggleable__control:checked~label.sk-toggleable__label {background-color: #d4ebff;}#sk-container-id-2 div.sk-label input.sk-toggleable__control:checked~label.sk-toggleable__label {background-color: #d4ebff;}#sk-container-id-2 input.sk-hidden--visually {border: 0;clip: rect(1px 1px 1px 1px);clip: rect(1px, 1px, 1px, 1px);height: 1px;margin: -1px;overflow: hidden;padding: 0;position: absolute;width: 1px;}#sk-container-id-2 div.sk-estimator {font-family: monospace;background-color: #f0f8ff;border: 1px dotted black;border-radius: 0.25em;box-sizing: border-box;margin-bottom: 0.5em;}#sk-container-id-2 div.sk-estimator:hover {background-color: #d4ebff;}#sk-container-id-2 div.sk-parallel-item::after {content: \"\";width: 100%;border-bottom: 1px solid gray;flex-grow: 1;}#sk-container-id-2 div.sk-label:hover label.sk-toggleable__label {background-color: #d4ebff;}#sk-container-id-2 div.sk-serial::before {content: \"\";position: absolute;border-left: 1px solid gray;box-sizing: border-box;top: 0;bottom: 0;left: 50%;z-index: 0;}#sk-container-id-2 div.sk-serial {display: flex;flex-direction: column;align-items: center;background-color: white;padding-right: 0.2em;padding-left: 0.2em;position: relative;}#sk-container-id-2 div.sk-item {position: relative;z-index: 1;}#sk-container-id-2 div.sk-parallel {display: flex;align-items: stretch;justify-content: center;background-color: white;position: relative;}#sk-container-id-2 div.sk-item::before, #sk-container-id-2 div.sk-parallel-item::before {content: \"\";position: absolute;border-left: 1px solid gray;box-sizing: border-box;top: 0;bottom: 0;left: 50%;z-index: -1;}#sk-container-id-2 div.sk-parallel-item {display: flex;flex-direction: column;z-index: 1;position: relative;background-color: white;}#sk-container-id-2 div.sk-parallel-item:first-child::after {align-self: flex-end;width: 50%;}#sk-container-id-2 div.sk-parallel-item:last-child::after {align-self: flex-start;width: 50%;}#sk-container-id-2 div.sk-parallel-item:only-child::after {width: 0;}#sk-container-id-2 div.sk-dashed-wrapped {border: 1px dashed gray;margin: 0 0.4em 0.5em 0.4em;box-sizing: border-box;padding-bottom: 0.4em;background-color: white;}#sk-container-id-2 div.sk-label label {font-family: monospace;font-weight: bold;display: inline-block;line-height: 1.2em;}#sk-container-id-2 div.sk-label-container {text-align: center;}#sk-container-id-2 div.sk-container {/* jupyter's `normalize.less` sets `[hidden] { display: none; }` but bootstrap.min.css set `[hidden] { display: none !important; }` so we also need the `!important` here to be able to override the default hidden behavior on the sphinx rendered scikit-learn.org. See: https://github.com/scikit-learn/scikit-learn/issues/21755 */display: inline-block !important;position: relative;}#sk-container-id-2 div.sk-text-repr-fallback {display: none;}</style><div id=\"sk-container-id-2\" class=\"sk-top-container\"><div class=\"sk-text-repr-fallback\"><pre>LinearRegression()</pre><b>In a Jupyter environment, please rerun this cell to show the HTML representation or trust the notebook. <br />On GitHub, the HTML representation is unable to render, please try loading this page with nbviewer.org.</b></div><div class=\"sk-container\" hidden><div class=\"sk-item\"><div class=\"sk-estimator sk-toggleable\"><input class=\"sk-toggleable__control sk-hidden--visually\" id=\"sk-estimator-id-2\" type=\"checkbox\" checked><label for=\"sk-estimator-id-2\" class=\"sk-toggleable__label sk-toggleable__label-arrow\">LinearRegression</label><div class=\"sk-toggleable__content\"><pre>LinearRegression()</pre></div></div></div></div></div>"
      ],
      "text/plain": [
       "LinearRegression()"
      ]
     },
     "execution_count": 67,
     "metadata": {},
     "output_type": "execute_result"
    }
   ],
   "source": [
    "model.fit(x_train, y_train)"
   ]
  },
  {
   "cell_type": "markdown",
   "id": "319a4f11-0da9-4f99-9d23-229578dc0d5b",
   "metadata": {},
   "source": [
    "### Predicting"
   ]
  },
  {
   "cell_type": "code",
   "execution_count": 82,
   "id": "93bbae09-e93b-4e6a-903d-9a7da242de65",
   "metadata": {},
   "outputs": [
    {
     "data": {
      "text/plain": [
       "array([[ 945716.69],\n",
       "       [1518356.3 ],\n",
       "       [1372718.35],\n",
       "       ...,\n",
       "       [1232417.92],\n",
       "       [1476535.91],\n",
       "       [1472941.59]])"
      ]
     },
     "execution_count": 82,
     "metadata": {},
     "output_type": "execute_result"
    }
   ],
   "source": [
    "predict = model.predict(x_test)\n",
    "predict.round(2)"
   ]
  },
  {
   "cell_type": "markdown",
   "id": "b33fdf7c-5c23-4884-9388-17d47621e66b",
   "metadata": {},
   "source": [
    "###  MAE"
   ]
  },
  {
   "cell_type": "code",
   "execution_count": 83,
   "id": "88c724a6-5b9c-4009-b138-223037472cc6",
   "metadata": {},
   "outputs": [
    {
     "data": {
      "text/plain": [
       "83987.29494980416"
      ]
     },
     "execution_count": 83,
     "metadata": {},
     "output_type": "execute_result"
    }
   ],
   "source": [
    "metrics.mean_absolute_error(y_test, predict)"
   ]
  },
  {
   "cell_type": "markdown",
   "id": "2bdb3c1d-403d-4be0-b78d-939860de4ad3",
   "metadata": {},
   "source": [
    "###  MSE"
   ]
  },
  {
   "cell_type": "code",
   "execution_count": 84,
   "id": "7aafa5dd-83a7-493f-8070-2072aae78187",
   "metadata": {},
   "outputs": [
    {
     "data": {
      "text/plain": [
       "10875692549.905588"
      ]
     },
     "execution_count": 84,
     "metadata": {},
     "output_type": "execute_result"
    }
   ],
   "source": [
    "mse = metrics.mean_squared_error(y_test, predict)\n",
    "mse"
   ]
  },
  {
   "cell_type": "markdown",
   "id": "8eecc2f7-1f2e-448c-a045-eaea09f37168",
   "metadata": {},
   "source": [
    "###  RMSE"
   ]
  },
  {
   "cell_type": "code",
   "execution_count": 85,
   "id": "a55d98fa-8838-4420-ad17-e7d59dbcc345",
   "metadata": {},
   "outputs": [
    {
     "data": {
      "text/plain": [
       "104286.5885428495"
      ]
     },
     "execution_count": 85,
     "metadata": {},
     "output_type": "execute_result"
    }
   ],
   "source": [
    "rmse = np.sqrt(mse)\n",
    "rmse"
   ]
  },
  {
   "cell_type": "markdown",
   "id": "2e63eea0-582c-475d-aa4f-70a631fb9ed7",
   "metadata": {},
   "source": [
    "### Model Evaluation"
   ]
  },
  {
   "cell_type": "code",
   "execution_count": 86,
   "id": "6ba31f3b-1dfc-4fb7-bf1c-94901486e01f",
   "metadata": {},
   "outputs": [
    {
     "data": {
      "text/plain": [
       "array([-2628924.45297443])"
      ]
     },
     "execution_count": 86,
     "metadata": {},
     "output_type": "execute_result"
    }
   ],
   "source": [
    "model.intercept_"
   ]
  },
  {
   "cell_type": "code",
   "execution_count": 87,
   "id": "d52a8e87-30af-44f5-b033-7fcc064b76f4",
   "metadata": {},
   "outputs": [
    {
     "data": {
      "text/plain": [
       "array([[2.15298652e+01, 1.65730808e+05, 1.20157414e+05, 4.13402112e+02,\n",
       "        1.52486639e+01]])"
      ]
     },
     "execution_count": 87,
     "metadata": {},
     "output_type": "execute_result"
    }
   ],
   "source": [
    "model.coef_"
   ]
  },
  {
   "cell_type": "markdown",
   "id": "020142dd-7007-4ac4-b084-e618b570678c",
   "metadata": {},
   "source": [
    "---"
   ]
  },
  {
   "cell_type": "markdown",
   "id": "a0d57498-a234-412b-b7b0-f98244c971cf",
   "metadata": {},
   "source": [
    "# Ecommerce Data - Task"
   ]
  },
  {
   "cell_type": "code",
   "execution_count": 89,
   "id": "a5fdfdc3-d80a-44df-84a6-a186562a6fe3",
   "metadata": {},
   "outputs": [
    {
     "data": {
      "text/html": [
       "<div>\n",
       "<style scoped>\n",
       "    .dataframe tbody tr th:only-of-type {\n",
       "        vertical-align: middle;\n",
       "    }\n",
       "\n",
       "    .dataframe tbody tr th {\n",
       "        vertical-align: top;\n",
       "    }\n",
       "\n",
       "    .dataframe thead th {\n",
       "        text-align: right;\n",
       "    }\n",
       "</style>\n",
       "<table border=\"1\" class=\"dataframe\">\n",
       "  <thead>\n",
       "    <tr style=\"text-align: right;\">\n",
       "      <th></th>\n",
       "      <th>Avg. Session Length</th>\n",
       "      <th>Time on App</th>\n",
       "      <th>Time on Website</th>\n",
       "      <th>Length of Membership</th>\n",
       "      <th>Yearly Amount Spent</th>\n",
       "    </tr>\n",
       "  </thead>\n",
       "  <tbody>\n",
       "    <tr>\n",
       "      <th>count</th>\n",
       "      <td>500.000000</td>\n",
       "      <td>500.000000</td>\n",
       "      <td>500.000000</td>\n",
       "      <td>500.000000</td>\n",
       "      <td>500.000000</td>\n",
       "    </tr>\n",
       "    <tr>\n",
       "      <th>mean</th>\n",
       "      <td>33.053194</td>\n",
       "      <td>12.052488</td>\n",
       "      <td>37.060445</td>\n",
       "      <td>3.533462</td>\n",
       "      <td>499.314038</td>\n",
       "    </tr>\n",
       "    <tr>\n",
       "      <th>std</th>\n",
       "      <td>0.992563</td>\n",
       "      <td>0.994216</td>\n",
       "      <td>1.010489</td>\n",
       "      <td>0.999278</td>\n",
       "      <td>79.314782</td>\n",
       "    </tr>\n",
       "    <tr>\n",
       "      <th>min</th>\n",
       "      <td>29.532429</td>\n",
       "      <td>8.508152</td>\n",
       "      <td>33.913847</td>\n",
       "      <td>0.269901</td>\n",
       "      <td>256.670582</td>\n",
       "    </tr>\n",
       "    <tr>\n",
       "      <th>25%</th>\n",
       "      <td>32.341822</td>\n",
       "      <td>11.388153</td>\n",
       "      <td>36.349257</td>\n",
       "      <td>2.930450</td>\n",
       "      <td>445.038277</td>\n",
       "    </tr>\n",
       "    <tr>\n",
       "      <th>50%</th>\n",
       "      <td>33.082008</td>\n",
       "      <td>11.983231</td>\n",
       "      <td>37.069367</td>\n",
       "      <td>3.533975</td>\n",
       "      <td>498.887875</td>\n",
       "    </tr>\n",
       "    <tr>\n",
       "      <th>75%</th>\n",
       "      <td>33.711985</td>\n",
       "      <td>12.753850</td>\n",
       "      <td>37.716432</td>\n",
       "      <td>4.126502</td>\n",
       "      <td>549.313828</td>\n",
       "    </tr>\n",
       "    <tr>\n",
       "      <th>max</th>\n",
       "      <td>36.139662</td>\n",
       "      <td>15.126994</td>\n",
       "      <td>40.005182</td>\n",
       "      <td>6.922689</td>\n",
       "      <td>765.518462</td>\n",
       "    </tr>\n",
       "  </tbody>\n",
       "</table>\n",
       "</div>"
      ],
      "text/plain": [
       "       Avg. Session Length  Time on App  Time on Website  \\\n",
       "count           500.000000   500.000000       500.000000   \n",
       "mean             33.053194    12.052488        37.060445   \n",
       "std               0.992563     0.994216         1.010489   \n",
       "min              29.532429     8.508152        33.913847   \n",
       "25%              32.341822    11.388153        36.349257   \n",
       "50%              33.082008    11.983231        37.069367   \n",
       "75%              33.711985    12.753850        37.716432   \n",
       "max              36.139662    15.126994        40.005182   \n",
       "\n",
       "       Length of Membership  Yearly Amount Spent  \n",
       "count            500.000000           500.000000  \n",
       "mean               3.533462           499.314038  \n",
       "std                0.999278            79.314782  \n",
       "min                0.269901           256.670582  \n",
       "25%                2.930450           445.038277  \n",
       "50%                3.533975           498.887875  \n",
       "75%                4.126502           549.313828  \n",
       "max                6.922689           765.518462  "
      ]
     },
     "execution_count": 89,
     "metadata": {},
     "output_type": "execute_result"
    }
   ],
   "source": [
    "data = pd.read_csv('./datasets/Ecommerce Customers')\n",
    "data.describe()"
   ]
  },
  {
   "cell_type": "code",
   "execution_count": 93,
   "id": "2dedadab-aa64-4649-8228-c71bc1ace6f8",
   "metadata": {},
   "outputs": [
    {
     "data": {
      "text/plain": [
       "Index(['Email', 'Address', 'Avatar', 'Avg. Session Length', 'Time on App',\n",
       "       'Time on Website', 'Length of Membership', 'Yearly Amount Spent'],\n",
       "      dtype='object')"
      ]
     },
     "execution_count": 93,
     "metadata": {},
     "output_type": "execute_result"
    }
   ],
   "source": [
    "data.columns"
   ]
  },
  {
   "cell_type": "markdown",
   "id": "fc0864f3-ebfc-4e12-9cb0-a70ba61d34e3",
   "metadata": {},
   "source": [
    "### Dividing the Dataset"
   ]
  },
  {
   "cell_type": "code",
   "execution_count": 94,
   "id": "32c5f39d-fad0-4a94-b140-bec2d3910525",
   "metadata": {},
   "outputs": [],
   "source": [
    "x = data[['Avg. Session Length', 'Time on App',\n",
    "       'Time on Website', 'Length of Membership']]\n",
    "y = data[['Yearly Amount Spent']]"
   ]
  },
  {
   "cell_type": "markdown",
   "id": "5922a59b-eac5-4d44-920c-2c5e28411cd6",
   "metadata": {},
   "source": [
    "### Splitting the data"
   ]
  },
  {
   "cell_type": "code",
   "execution_count": 95,
   "id": "a1028589-febc-44bf-a56c-e17b1ed40c2d",
   "metadata": {},
   "outputs": [],
   "source": [
    "x_train, x_test, y_train, y_test = train_test_split( x , y )"
   ]
  },
  {
   "cell_type": "code",
   "execution_count": 96,
   "id": "65386726-e81e-4f88-a686-2dd303b71914",
   "metadata": {},
   "outputs": [
    {
     "data": {
      "text/html": [
       "<div>\n",
       "<style scoped>\n",
       "    .dataframe tbody tr th:only-of-type {\n",
       "        vertical-align: middle;\n",
       "    }\n",
       "\n",
       "    .dataframe tbody tr th {\n",
       "        vertical-align: top;\n",
       "    }\n",
       "\n",
       "    .dataframe thead th {\n",
       "        text-align: right;\n",
       "    }\n",
       "</style>\n",
       "<table border=\"1\" class=\"dataframe\">\n",
       "  <thead>\n",
       "    <tr style=\"text-align: right;\">\n",
       "      <th></th>\n",
       "      <th>Avg. Session Length</th>\n",
       "      <th>Time on App</th>\n",
       "      <th>Time on Website</th>\n",
       "      <th>Length of Membership</th>\n",
       "    </tr>\n",
       "  </thead>\n",
       "  <tbody>\n",
       "    <tr>\n",
       "      <th>230</th>\n",
       "      <td>32.351478</td>\n",
       "      <td>13.105159</td>\n",
       "      <td>35.574842</td>\n",
       "      <td>3.641497</td>\n",
       "    </tr>\n",
       "    <tr>\n",
       "      <th>436</th>\n",
       "      <td>35.433165</td>\n",
       "      <td>11.912210</td>\n",
       "      <td>36.089644</td>\n",
       "      <td>4.000964</td>\n",
       "    </tr>\n",
       "    <tr>\n",
       "      <th>43</th>\n",
       "      <td>32.893981</td>\n",
       "      <td>11.529878</td>\n",
       "      <td>36.888086</td>\n",
       "      <td>4.643259</td>\n",
       "    </tr>\n",
       "    <tr>\n",
       "      <th>133</th>\n",
       "      <td>32.455176</td>\n",
       "      <td>12.759169</td>\n",
       "      <td>36.599112</td>\n",
       "      <td>4.131277</td>\n",
       "    </tr>\n",
       "    <tr>\n",
       "      <th>143</th>\n",
       "      <td>32.115119</td>\n",
       "      <td>11.919242</td>\n",
       "      <td>39.294043</td>\n",
       "      <td>1.443515</td>\n",
       "    </tr>\n",
       "    <tr>\n",
       "      <th>...</th>\n",
       "      <td>...</td>\n",
       "      <td>...</td>\n",
       "      <td>...</td>\n",
       "      <td>...</td>\n",
       "    </tr>\n",
       "    <tr>\n",
       "      <th>179</th>\n",
       "      <td>33.075703</td>\n",
       "      <td>12.319845</td>\n",
       "      <td>37.819155</td>\n",
       "      <td>3.442799</td>\n",
       "    </tr>\n",
       "    <tr>\n",
       "      <th>32</th>\n",
       "      <td>32.175501</td>\n",
       "      <td>13.387492</td>\n",
       "      <td>35.694175</td>\n",
       "      <td>4.343063</td>\n",
       "    </tr>\n",
       "    <tr>\n",
       "      <th>401</th>\n",
       "      <td>33.247322</td>\n",
       "      <td>11.956426</td>\n",
       "      <td>36.517346</td>\n",
       "      <td>3.451751</td>\n",
       "    </tr>\n",
       "    <tr>\n",
       "      <th>97</th>\n",
       "      <td>34.183821</td>\n",
       "      <td>13.349913</td>\n",
       "      <td>37.827394</td>\n",
       "      <td>4.252006</td>\n",
       "    </tr>\n",
       "    <tr>\n",
       "      <th>481</th>\n",
       "      <td>32.047815</td>\n",
       "      <td>12.482670</td>\n",
       "      <td>35.536025</td>\n",
       "      <td>3.393903</td>\n",
       "    </tr>\n",
       "  </tbody>\n",
       "</table>\n",
       "<p>375 rows × 4 columns</p>\n",
       "</div>"
      ],
      "text/plain": [
       "     Avg. Session Length  Time on App  Time on Website  Length of Membership\n",
       "230            32.351478    13.105159        35.574842              3.641497\n",
       "436            35.433165    11.912210        36.089644              4.000964\n",
       "43             32.893981    11.529878        36.888086              4.643259\n",
       "133            32.455176    12.759169        36.599112              4.131277\n",
       "143            32.115119    11.919242        39.294043              1.443515\n",
       "..                   ...          ...              ...                   ...\n",
       "179            33.075703    12.319845        37.819155              3.442799\n",
       "32             32.175501    13.387492        35.694175              4.343063\n",
       "401            33.247322    11.956426        36.517346              3.451751\n",
       "97             34.183821    13.349913        37.827394              4.252006\n",
       "481            32.047815    12.482670        35.536025              3.393903\n",
       "\n",
       "[375 rows x 4 columns]"
      ]
     },
     "execution_count": 96,
     "metadata": {},
     "output_type": "execute_result"
    }
   ],
   "source": [
    "x_train"
   ]
  },
  {
   "cell_type": "markdown",
   "id": "301bdafa-0caa-4672-8327-45824fbfb3fa",
   "metadata": {},
   "source": [
    "### Training"
   ]
  },
  {
   "cell_type": "code",
   "execution_count": 97,
   "id": "af2eabc0-a38f-4221-b4ad-d806593f5e91",
   "metadata": {},
   "outputs": [],
   "source": [
    "model = LinearRegression()"
   ]
  },
  {
   "cell_type": "code",
   "execution_count": 98,
   "id": "dd055fa4-0495-421d-b9c4-9bbc408eed65",
   "metadata": {},
   "outputs": [
    {
     "data": {
      "text/html": [
       "<style>#sk-container-id-3 {color: black;}#sk-container-id-3 pre{padding: 0;}#sk-container-id-3 div.sk-toggleable {background-color: white;}#sk-container-id-3 label.sk-toggleable__label {cursor: pointer;display: block;width: 100%;margin-bottom: 0;padding: 0.3em;box-sizing: border-box;text-align: center;}#sk-container-id-3 label.sk-toggleable__label-arrow:before {content: \"▸\";float: left;margin-right: 0.25em;color: #696969;}#sk-container-id-3 label.sk-toggleable__label-arrow:hover:before {color: black;}#sk-container-id-3 div.sk-estimator:hover label.sk-toggleable__label-arrow:before {color: black;}#sk-container-id-3 div.sk-toggleable__content {max-height: 0;max-width: 0;overflow: hidden;text-align: left;background-color: #f0f8ff;}#sk-container-id-3 div.sk-toggleable__content pre {margin: 0.2em;color: black;border-radius: 0.25em;background-color: #f0f8ff;}#sk-container-id-3 input.sk-toggleable__control:checked~div.sk-toggleable__content {max-height: 200px;max-width: 100%;overflow: auto;}#sk-container-id-3 input.sk-toggleable__control:checked~label.sk-toggleable__label-arrow:before {content: \"▾\";}#sk-container-id-3 div.sk-estimator input.sk-toggleable__control:checked~label.sk-toggleable__label {background-color: #d4ebff;}#sk-container-id-3 div.sk-label input.sk-toggleable__control:checked~label.sk-toggleable__label {background-color: #d4ebff;}#sk-container-id-3 input.sk-hidden--visually {border: 0;clip: rect(1px 1px 1px 1px);clip: rect(1px, 1px, 1px, 1px);height: 1px;margin: -1px;overflow: hidden;padding: 0;position: absolute;width: 1px;}#sk-container-id-3 div.sk-estimator {font-family: monospace;background-color: #f0f8ff;border: 1px dotted black;border-radius: 0.25em;box-sizing: border-box;margin-bottom: 0.5em;}#sk-container-id-3 div.sk-estimator:hover {background-color: #d4ebff;}#sk-container-id-3 div.sk-parallel-item::after {content: \"\";width: 100%;border-bottom: 1px solid gray;flex-grow: 1;}#sk-container-id-3 div.sk-label:hover label.sk-toggleable__label {background-color: #d4ebff;}#sk-container-id-3 div.sk-serial::before {content: \"\";position: absolute;border-left: 1px solid gray;box-sizing: border-box;top: 0;bottom: 0;left: 50%;z-index: 0;}#sk-container-id-3 div.sk-serial {display: flex;flex-direction: column;align-items: center;background-color: white;padding-right: 0.2em;padding-left: 0.2em;position: relative;}#sk-container-id-3 div.sk-item {position: relative;z-index: 1;}#sk-container-id-3 div.sk-parallel {display: flex;align-items: stretch;justify-content: center;background-color: white;position: relative;}#sk-container-id-3 div.sk-item::before, #sk-container-id-3 div.sk-parallel-item::before {content: \"\";position: absolute;border-left: 1px solid gray;box-sizing: border-box;top: 0;bottom: 0;left: 50%;z-index: -1;}#sk-container-id-3 div.sk-parallel-item {display: flex;flex-direction: column;z-index: 1;position: relative;background-color: white;}#sk-container-id-3 div.sk-parallel-item:first-child::after {align-self: flex-end;width: 50%;}#sk-container-id-3 div.sk-parallel-item:last-child::after {align-self: flex-start;width: 50%;}#sk-container-id-3 div.sk-parallel-item:only-child::after {width: 0;}#sk-container-id-3 div.sk-dashed-wrapped {border: 1px dashed gray;margin: 0 0.4em 0.5em 0.4em;box-sizing: border-box;padding-bottom: 0.4em;background-color: white;}#sk-container-id-3 div.sk-label label {font-family: monospace;font-weight: bold;display: inline-block;line-height: 1.2em;}#sk-container-id-3 div.sk-label-container {text-align: center;}#sk-container-id-3 div.sk-container {/* jupyter's `normalize.less` sets `[hidden] { display: none; }` but bootstrap.min.css set `[hidden] { display: none !important; }` so we also need the `!important` here to be able to override the default hidden behavior on the sphinx rendered scikit-learn.org. See: https://github.com/scikit-learn/scikit-learn/issues/21755 */display: inline-block !important;position: relative;}#sk-container-id-3 div.sk-text-repr-fallback {display: none;}</style><div id=\"sk-container-id-3\" class=\"sk-top-container\"><div class=\"sk-text-repr-fallback\"><pre>LinearRegression()</pre><b>In a Jupyter environment, please rerun this cell to show the HTML representation or trust the notebook. <br />On GitHub, the HTML representation is unable to render, please try loading this page with nbviewer.org.</b></div><div class=\"sk-container\" hidden><div class=\"sk-item\"><div class=\"sk-estimator sk-toggleable\"><input class=\"sk-toggleable__control sk-hidden--visually\" id=\"sk-estimator-id-3\" type=\"checkbox\" checked><label for=\"sk-estimator-id-3\" class=\"sk-toggleable__label sk-toggleable__label-arrow\">LinearRegression</label><div class=\"sk-toggleable__content\"><pre>LinearRegression()</pre></div></div></div></div></div>"
      ],
      "text/plain": [
       "LinearRegression()"
      ]
     },
     "execution_count": 98,
     "metadata": {},
     "output_type": "execute_result"
    }
   ],
   "source": [
    "model.fit(x_train, y_train)"
   ]
  },
  {
   "cell_type": "markdown",
   "id": "34e3e41e-edc5-42ce-ba11-96f45812bc02",
   "metadata": {},
   "source": [
    "### Predicting"
   ]
  },
  {
   "cell_type": "code",
   "execution_count": 99,
   "id": "7f1a397a-dc21-4eab-9049-6a03755b8769",
   "metadata": {
    "collapsed": true,
    "jupyter": {
     "outputs_hidden": true
    }
   },
   "outputs": [
    {
     "data": {
      "text/plain": [
       "array([[461.15],\n",
       "       [614.96],\n",
       "       [524.77],\n",
       "       [412.5 ],\n",
       "       [702.53],\n",
       "       [615.59],\n",
       "       [542.82],\n",
       "       [416.55],\n",
       "       [449.75],\n",
       "       [518.02],\n",
       "       [537.63],\n",
       "       [497.05],\n",
       "       [305.66],\n",
       "       [478.18],\n",
       "       [448.71],\n",
       "       [444.56],\n",
       "       [437.54],\n",
       "       [432.16],\n",
       "       [501.59],\n",
       "       [576.81],\n",
       "       [513.03],\n",
       "       [389.35],\n",
       "       [574.91],\n",
       "       [280.  ],\n",
       "       [501.74],\n",
       "       [313.82],\n",
       "       [480.27],\n",
       "       [585.11],\n",
       "       [412.92],\n",
       "       [566.61],\n",
       "       [515.21],\n",
       "       [542.75],\n",
       "       [471.71],\n",
       "       [467.9 ],\n",
       "       [563.8 ],\n",
       "       [420.96],\n",
       "       [520.23],\n",
       "       [557.32],\n",
       "       [587.91],\n",
       "       [481.25],\n",
       "       [468.44],\n",
       "       [608.96],\n",
       "       [398.91],\n",
       "       [506.7 ],\n",
       "       [561.83],\n",
       "       [525.41],\n",
       "       [445.26],\n",
       "       [484.37],\n",
       "       [556.5 ],\n",
       "       [420.85],\n",
       "       [499.07],\n",
       "       [441.85],\n",
       "       [396.72],\n",
       "       [512.08],\n",
       "       [393.98],\n",
       "       [593.75],\n",
       "       [482.27],\n",
       "       [395.82],\n",
       "       [516.03],\n",
       "       [475.02],\n",
       "       [487.6 ],\n",
       "       [558.24],\n",
       "       [451.38],\n",
       "       [376.6 ],\n",
       "       [597.91],\n",
       "       [553.83],\n",
       "       [417.47],\n",
       "       [547.79],\n",
       "       [509.46],\n",
       "       [642.63],\n",
       "       [370.68],\n",
       "       [442.96],\n",
       "       [480.68],\n",
       "       [356.19],\n",
       "       [432.74],\n",
       "       [511.44],\n",
       "       [530.43],\n",
       "       [598.34],\n",
       "       [526.81],\n",
       "       [558.84],\n",
       "       [675.38],\n",
       "       [494.63],\n",
       "       [460.17],\n",
       "       [608.1 ],\n",
       "       [582.73],\n",
       "       [650.76],\n",
       "       [465.61],\n",
       "       [325.51],\n",
       "       [692.81],\n",
       "       [458.28],\n",
       "       [505.37],\n",
       "       [417.05],\n",
       "       [387.45],\n",
       "       [493.33],\n",
       "       [424.61],\n",
       "       [478.24],\n",
       "       [498.29],\n",
       "       [463.73],\n",
       "       [468.99],\n",
       "       [575.73],\n",
       "       [572.67],\n",
       "       [406.74],\n",
       "       [529.53],\n",
       "       [444.06],\n",
       "       [508.19],\n",
       "       [507.43],\n",
       "       [511.88],\n",
       "       [519.85],\n",
       "       [620.44],\n",
       "       [451.73],\n",
       "       [528.18],\n",
       "       [417.17],\n",
       "       [614.99],\n",
       "       [499.25],\n",
       "       [633.91],\n",
       "       [501.09],\n",
       "       [459.98],\n",
       "       [427.16],\n",
       "       [479.21],\n",
       "       [569.77],\n",
       "       [402.6 ],\n",
       "       [494.47],\n",
       "       [618.25],\n",
       "       [426.08],\n",
       "       [455.82]])"
      ]
     },
     "execution_count": 99,
     "metadata": {},
     "output_type": "execute_result"
    }
   ],
   "source": [
    "predict = model.predict(x_test)\n",
    "predict.round(2)"
   ]
  },
  {
   "cell_type": "code",
   "execution_count": 100,
   "id": "99bfa050-900e-4031-bc28-de0a4e8ba9b7",
   "metadata": {},
   "outputs": [
    {
     "data": {
      "text/plain": [
       "8.218442024004839"
      ]
     },
     "execution_count": 100,
     "metadata": {},
     "output_type": "execute_result"
    }
   ],
   "source": [
    "metrics.mean_absolute_error(y_test, predict)"
   ]
  },
  {
   "cell_type": "code",
   "execution_count": 101,
   "id": "9e81e922-29d4-47aa-83c8-ea75f87a43ea",
   "metadata": {},
   "outputs": [
    {
     "data": {
      "text/plain": [
       "109.82550057376571"
      ]
     },
     "execution_count": 101,
     "metadata": {},
     "output_type": "execute_result"
    }
   ],
   "source": [
    "mse = metrics.mean_squared_error(y_test, predict)\n",
    "mse"
   ]
  },
  {
   "cell_type": "code",
   "execution_count": 102,
   "id": "b4bb97c9-c6e4-467a-b9c5-bbc1c9c27c0a",
   "metadata": {},
   "outputs": [
    {
     "data": {
      "text/plain": [
       "10.479766246141452"
      ]
     },
     "execution_count": 102,
     "metadata": {},
     "output_type": "execute_result"
    }
   ],
   "source": [
    "rmse = np.sqrt(mse)\n",
    "rmse"
   ]
  },
  {
   "cell_type": "markdown",
   "id": "34955f9b-dfb3-4cf4-8661-a10bee52ec69",
   "metadata": {},
   "source": [
    "### Model Evaluation"
   ]
  },
  {
   "cell_type": "code",
   "execution_count": 103,
   "id": "95781800-c41a-46de-bf99-d2a68b45f84e",
   "metadata": {},
   "outputs": [
    {
     "data": {
      "text/plain": [
       "array([-1042.80988957])"
      ]
     },
     "execution_count": 103,
     "metadata": {},
     "output_type": "execute_result"
    }
   ],
   "source": [
    "model.intercept_"
   ]
  },
  {
   "cell_type": "code",
   "execution_count": 106,
   "id": "d057bf04-a61b-4ec6-b4b0-2720831bbc37",
   "metadata": {},
   "outputs": [
    {
     "data": {
      "text/plain": [
       "array([[25.77917047, 38.47629813,  0.23196372, 61.51211187]])"
      ]
     },
     "execution_count": 106,
     "metadata": {},
     "output_type": "execute_result"
    }
   ],
   "source": [
    "model.coef_"
   ]
  },
  {
   "cell_type": "markdown",
   "id": "6b995d57-a727-48b7-96bc-d6680f29ffc0",
   "metadata": {},
   "source": [
    "---"
   ]
  }
 ],
 "metadata": {
  "kernelspec": {
   "display_name": "Python 3 (ipykernel)",
   "language": "python",
   "name": "python3"
  },
  "language_info": {
   "codemirror_mode": {
    "name": "ipython",
    "version": 3
   },
   "file_extension": ".py",
   "mimetype": "text/x-python",
   "name": "python",
   "nbconvert_exporter": "python",
   "pygments_lexer": "ipython3",
   "version": "3.11.3"
  }
 },
 "nbformat": 4,
 "nbformat_minor": 5
}
