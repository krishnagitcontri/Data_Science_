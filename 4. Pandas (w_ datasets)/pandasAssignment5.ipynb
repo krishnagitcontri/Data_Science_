{
 "cells": [
  {
   "cell_type": "markdown",
   "id": "0d421114-593d-4fc2-b296-3c868df2d0da",
   "metadata": {},
   "source": [
    "---"
   ]
  },
  {
   "cell_type": "markdown",
   "id": "1100b6e5-c357-4d38-b047-23e84e92e797",
   "metadata": {},
   "source": [
    "# Pandas - Lab 5 Task 1\n",
    "---"
   ]
  },
  {
   "cell_type": "markdown",
   "id": "764ce2bb-8a59-4eae-841d-f6d76b990663",
   "metadata": {},
   "source": [
    "### Abhiraj Chaudhuri\n",
    "### 22000214\n",
    "### BCA - Batch A\n",
    "---"
   ]
  },
  {
   "cell_type": "markdown",
   "id": "e0ac1ddb-721b-4a6e-be19-bc9a6a95d4e7",
   "metadata": {},
   "source": [
    "## 1. Create 3 lists - viz. productId, productName, productPrice with 5 elements each. Add this element to create a DataFrame."
   ]
  },
  {
   "cell_type": "code",
   "execution_count": 79,
   "id": "9d490f8b-3b94-4b93-a1ec-2780074b430d",
   "metadata": {},
   "outputs": [],
   "source": [
    "import numpy as np\n",
    "import pandas as pd"
   ]
  },
  {
   "cell_type": "code",
   "execution_count": 83,
   "id": "59eb119a-957c-4bfd-b737-327b187aa29e",
   "metadata": {},
   "outputs": [],
   "source": [
    "l1 = [114,115,116,169,181]\n",
    "l2 = ['Mango', 'Banana', 'Strawberry', 'Pineapple', 'Orange']\n",
    "l3 = [100,40,75,89,50] "
   ]
  },
  {
   "cell_type": "code",
   "execution_count": 85,
   "id": "8c127b6a-27bf-4c53-9115-11d09162c8d5",
   "metadata": {},
   "outputs": [
    {
     "data": {
      "text/html": [
       "<div>\n",
       "<style scoped>\n",
       "    .dataframe tbody tr th:only-of-type {\n",
       "        vertical-align: middle;\n",
       "    }\n",
       "\n",
       "    .dataframe tbody tr th {\n",
       "        vertical-align: top;\n",
       "    }\n",
       "\n",
       "    .dataframe thead th {\n",
       "        text-align: right;\n",
       "    }\n",
       "</style>\n",
       "<table border=\"1\" class=\"dataframe\">\n",
       "  <thead>\n",
       "    <tr style=\"text-align: right;\">\n",
       "      <th></th>\n",
       "      <th>Product ID</th>\n",
       "      <th>Product Name</th>\n",
       "      <th>Product Price</th>\n",
       "    </tr>\n",
       "  </thead>\n",
       "  <tbody>\n",
       "    <tr>\n",
       "      <th>1</th>\n",
       "      <td>114</td>\n",
       "      <td>Mango</td>\n",
       "      <td>100</td>\n",
       "    </tr>\n",
       "    <tr>\n",
       "      <th>2</th>\n",
       "      <td>115</td>\n",
       "      <td>Banana</td>\n",
       "      <td>40</td>\n",
       "    </tr>\n",
       "    <tr>\n",
       "      <th>3</th>\n",
       "      <td>116</td>\n",
       "      <td>Strawberry</td>\n",
       "      <td>75</td>\n",
       "    </tr>\n",
       "    <tr>\n",
       "      <th>4</th>\n",
       "      <td>169</td>\n",
       "      <td>Pineapple</td>\n",
       "      <td>89</td>\n",
       "    </tr>\n",
       "    <tr>\n",
       "      <th>5</th>\n",
       "      <td>181</td>\n",
       "      <td>Orange</td>\n",
       "      <td>50</td>\n",
       "    </tr>\n",
       "  </tbody>\n",
       "</table>\n",
       "</div>"
      ],
      "text/plain": [
       "   Product ID Product Name  Product Price\n",
       "1         114        Mango            100\n",
       "2         115       Banana             40\n",
       "3         116   Strawberry             75\n",
       "4         169    Pineapple             89\n",
       "5         181       Orange             50"
      ]
     },
     "execution_count": 85,
     "metadata": {},
     "output_type": "execute_result"
    }
   ],
   "source": [
    "df = pd.DataFrame(\n",
    "    zip(l1,l2,l3), \n",
    "    columns = [\"Product ID\", \"Product Name\", \"Product Price\"], \n",
    "    index = [i for i in range(1,6)]\n",
    ")\n",
    "df"
   ]
  },
  {
   "cell_type": "markdown",
   "id": "1f5a7e90-2d92-4d76-acf2-702a3318f0b3",
   "metadata": {},
   "source": [
    "## 2. Extract one by one column and display separately from above df."
   ]
  },
  {
   "cell_type": "code",
   "execution_count": 86,
   "id": "7b46b8d0-e214-4623-ba15-2b33e8fe615b",
   "metadata": {},
   "outputs": [
    {
     "name": "stdout",
     "output_type": "stream",
     "text": [
      "1    114\n",
      "2    115\n",
      "3    116\n",
      "4    169\n",
      "5    181\n",
      "Name: Product ID, dtype: int64 \n",
      "\n",
      "1         Mango\n",
      "2        Banana\n",
      "3    Strawberry\n",
      "4     Pineapple\n",
      "5        Orange\n",
      "Name: Product Name, dtype: object \n",
      "\n",
      "1    100\n",
      "2     40\n",
      "3     75\n",
      "4     89\n",
      "5     50\n",
      "Name: Product Price, dtype: int64 \n",
      "\n"
     ]
    }
   ],
   "source": [
    "print(df['Product ID'],'\\n')\n",
    "print(df['Product Name'],'\\n')\n",
    "print(df['Product Price'],'\\n')"
   ]
  },
  {
   "cell_type": "markdown",
   "id": "1e9e11a4-9309-493d-a6b6-ba1e0ef8c493",
   "metadata": {},
   "source": [
    "## 3. Display separately each and every row from an above df (use loc or iloc)"
   ]
  },
  {
   "cell_type": "code",
   "execution_count": 87,
   "id": "31d41416-437d-4f01-a23d-b8ec88059b97",
   "metadata": {},
   "outputs": [
    {
     "name": "stdout",
     "output_type": "stream",
     "text": [
      "   Product ID Product Name  Product Price\n",
      "1         114        Mango            100 \n",
      "\n",
      "   Product ID Product Name  Product Price\n",
      "2         115       Banana             40 \n",
      "\n",
      "   Product ID Product Name  Product Price\n",
      "3         116   Strawberry             75 \n",
      "\n",
      "   Product ID Product Name  Product Price\n",
      "4         169    Pineapple             89 \n",
      "\n",
      "   Product ID Product Name  Product Price\n",
      "5         181       Orange             50 \n",
      "\n"
     ]
    }
   ],
   "source": [
    "print(df[:1],'\\n')\n",
    "print(df[1:2],'\\n')\n",
    "print(df[2:3],'\\n')\n",
    "print(df[3:4],'\\n')\n",
    "print(df[4:5],'\\n')"
   ]
  },
  {
   "cell_type": "code",
   "execution_count": 88,
   "id": "8f80100a-16d8-4108-a1a7-2e43296aa5c9",
   "metadata": {
    "scrolled": true
   },
   "outputs": [
    {
     "name": "stdout",
     "output_type": "stream",
     "text": [
      "Product ID         114\n",
      "Product Name     Mango\n",
      "Product Price      100\n",
      "Name: 1, dtype: object \n",
      "\n",
      "Product ID          115\n",
      "Product Name     Banana\n",
      "Product Price        40\n",
      "Name: 2, dtype: object \n",
      "\n",
      "Product ID              116\n",
      "Product Name     Strawberry\n",
      "Product Price            75\n",
      "Name: 3, dtype: object \n",
      "\n",
      "Product ID             169\n",
      "Product Name     Pineapple\n",
      "Product Price           89\n",
      "Name: 4, dtype: object \n",
      "\n",
      "Product ID          181\n",
      "Product Name     Orange\n",
      "Product Price        50\n",
      "Name: 5, dtype: object \n",
      "\n"
     ]
    }
   ],
   "source": [
    "print(df.loc[1],'\\n')\n",
    "print(df.loc[2],'\\n')\n",
    "print(df.loc[3],'\\n')\n",
    "print(df.loc[4],'\\n')\n",
    "print(df.loc[5],'\\n')"
   ]
  },
  {
   "cell_type": "markdown",
   "id": "a6037cdc-344f-4b23-8cdf-3fd3b11bc5eb",
   "metadata": {},
   "source": [
    "## 4. Display data name from 3 row using loc function"
   ]
  },
  {
   "cell_type": "code",
   "execution_count": 89,
   "id": "2c277a9e-e594-445a-b6d4-1628db78eb2f",
   "metadata": {},
   "outputs": [
    {
     "data": {
      "text/html": [
       "<div>\n",
       "<style scoped>\n",
       "    .dataframe tbody tr th:only-of-type {\n",
       "        vertical-align: middle;\n",
       "    }\n",
       "\n",
       "    .dataframe tbody tr th {\n",
       "        vertical-align: top;\n",
       "    }\n",
       "\n",
       "    .dataframe thead th {\n",
       "        text-align: right;\n",
       "    }\n",
       "</style>\n",
       "<table border=\"1\" class=\"dataframe\">\n",
       "  <thead>\n",
       "    <tr style=\"text-align: right;\">\n",
       "      <th></th>\n",
       "      <th>Product Name</th>\n",
       "    </tr>\n",
       "  </thead>\n",
       "  <tbody>\n",
       "    <tr>\n",
       "      <th>3</th>\n",
       "      <td>Strawberry</td>\n",
       "    </tr>\n",
       "    <tr>\n",
       "      <th>4</th>\n",
       "      <td>Pineapple</td>\n",
       "    </tr>\n",
       "    <tr>\n",
       "      <th>5</th>\n",
       "      <td>Orange</td>\n",
       "    </tr>\n",
       "  </tbody>\n",
       "</table>\n",
       "</div>"
      ],
      "text/plain": [
       "  Product Name\n",
       "3   Strawberry\n",
       "4    Pineapple\n",
       "5       Orange"
      ]
     },
     "execution_count": 89,
     "metadata": {},
     "output_type": "execute_result"
    }
   ],
   "source": [
    "df.loc[3:6,['Product Name']]"
   ]
  },
  {
   "cell_type": "markdown",
   "id": "c5d29a50-eb96-44d8-b10c-a0daf15dec7a",
   "metadata": {},
   "source": [
    "## 5. Display price located in 2 row using iloc function"
   ]
  },
  {
   "cell_type": "code",
   "execution_count": 90,
   "id": "1848ef03-fa6d-4e55-bc8e-da70e39fe4ac",
   "metadata": {},
   "outputs": [
    {
     "data": {
      "text/plain": [
       "75"
      ]
     },
     "execution_count": 90,
     "metadata": {},
     "output_type": "execute_result"
    }
   ],
   "source": [
    "df.iloc[2,2]"
   ]
  },
  {
   "cell_type": "markdown",
   "id": "8e068d69-da96-4285-aaed-be1615949f4c",
   "metadata": {},
   "source": [
    "## 6. Display 2nd to 4th row data excluding price."
   ]
  },
  {
   "cell_type": "code",
   "execution_count": 91,
   "id": "5fef3c3d-6eaa-4f26-befe-1de616bf478e",
   "metadata": {},
   "outputs": [
    {
     "data": {
      "text/html": [
       "<div>\n",
       "<style scoped>\n",
       "    .dataframe tbody tr th:only-of-type {\n",
       "        vertical-align: middle;\n",
       "    }\n",
       "\n",
       "    .dataframe tbody tr th {\n",
       "        vertical-align: top;\n",
       "    }\n",
       "\n",
       "    .dataframe thead th {\n",
       "        text-align: right;\n",
       "    }\n",
       "</style>\n",
       "<table border=\"1\" class=\"dataframe\">\n",
       "  <thead>\n",
       "    <tr style=\"text-align: right;\">\n",
       "      <th></th>\n",
       "      <th>Product ID</th>\n",
       "      <th>Product Name</th>\n",
       "    </tr>\n",
       "  </thead>\n",
       "  <tbody>\n",
       "    <tr>\n",
       "      <th>2</th>\n",
       "      <td>115</td>\n",
       "      <td>Banana</td>\n",
       "    </tr>\n",
       "    <tr>\n",
       "      <th>3</th>\n",
       "      <td>116</td>\n",
       "      <td>Strawberry</td>\n",
       "    </tr>\n",
       "    <tr>\n",
       "      <th>4</th>\n",
       "      <td>169</td>\n",
       "      <td>Pineapple</td>\n",
       "    </tr>\n",
       "  </tbody>\n",
       "</table>\n",
       "</div>"
      ],
      "text/plain": [
       "   Product ID Product Name\n",
       "2         115       Banana\n",
       "3         116   Strawberry\n",
       "4         169    Pineapple"
      ]
     },
     "execution_count": 91,
     "metadata": {},
     "output_type": "execute_result"
    }
   ],
   "source": [
    "df.iloc[1:4, 0:2]"
   ]
  },
  {
   "cell_type": "markdown",
   "id": "0934ae74-2a2f-4b01-a9b3-f6f8b31dbbef",
   "metadata": {},
   "source": [
    "## 7. Display 1 to 3rd row price data only."
   ]
  },
  {
   "cell_type": "code",
   "execution_count": 92,
   "id": "ab65c942-3b8e-4af6-aa1e-800e58e600e2",
   "metadata": {},
   "outputs": [
    {
     "data": {
      "text/plain": [
       "1    100\n",
       "2     40\n",
       "3     75\n",
       "Name: Product Price, dtype: int64"
      ]
     },
     "execution_count": 92,
     "metadata": {},
     "output_type": "execute_result"
    }
   ],
   "source": [
    "df.iloc[0:3, df.columns.get_loc('Product Price')]"
   ]
  },
  {
   "cell_type": "markdown",
   "id": "135250b6-d575-4fab-8a05-a57c8d849615",
   "metadata": {},
   "source": [
    "## New DataFrame"
   ]
  },
  {
   "cell_type": "code",
   "execution_count": 93,
   "id": "440cf471-596d-492d-a4f7-4592627b0f72",
   "metadata": {},
   "outputs": [
    {
     "data": {
      "text/html": [
       "<div>\n",
       "<style scoped>\n",
       "    .dataframe tbody tr th:only-of-type {\n",
       "        vertical-align: middle;\n",
       "    }\n",
       "\n",
       "    .dataframe tbody tr th {\n",
       "        vertical-align: top;\n",
       "    }\n",
       "\n",
       "    .dataframe thead th {\n",
       "        text-align: right;\n",
       "    }\n",
       "</style>\n",
       "<table border=\"1\" class=\"dataframe\">\n",
       "  <thead>\n",
       "    <tr style=\"text-align: right;\">\n",
       "      <th></th>\n",
       "      <th>Name</th>\n",
       "      <th>Maths</th>\n",
       "      <th>Science</th>\n",
       "      <th>English</th>\n",
       "    </tr>\n",
       "  </thead>\n",
       "  <tbody>\n",
       "    <tr>\n",
       "      <th>0</th>\n",
       "      <td>Abhie</td>\n",
       "      <td>62</td>\n",
       "      <td>79</td>\n",
       "      <td>84</td>\n",
       "    </tr>\n",
       "    <tr>\n",
       "      <th>1</th>\n",
       "      <td>Abhishek</td>\n",
       "      <td>49</td>\n",
       "      <td>66</td>\n",
       "      <td>80</td>\n",
       "    </tr>\n",
       "    <tr>\n",
       "      <th>2</th>\n",
       "      <td>Ajin</td>\n",
       "      <td>61</td>\n",
       "      <td>93</td>\n",
       "      <td>49</td>\n",
       "    </tr>\n",
       "    <tr>\n",
       "      <th>3</th>\n",
       "      <td>Parita</td>\n",
       "      <td>85</td>\n",
       "      <td>31</td>\n",
       "      <td>60</td>\n",
       "    </tr>\n",
       "    <tr>\n",
       "      <th>4</th>\n",
       "      <td>Rohan</td>\n",
       "      <td>98</td>\n",
       "      <td>95</td>\n",
       "      <td>56</td>\n",
       "    </tr>\n",
       "    <tr>\n",
       "      <th>5</th>\n",
       "      <td>Sandra</td>\n",
       "      <td>64</td>\n",
       "      <td>55</td>\n",
       "      <td>64</td>\n",
       "    </tr>\n",
       "    <tr>\n",
       "      <th>6</th>\n",
       "      <td>Riya</td>\n",
       "      <td>42</td>\n",
       "      <td>73</td>\n",
       "      <td>54</td>\n",
       "    </tr>\n",
       "  </tbody>\n",
       "</table>\n",
       "</div>"
      ],
      "text/plain": [
       "       Name  Maths  Science  English\n",
       "0     Abhie     62       79       84\n",
       "1  Abhishek     49       66       80\n",
       "2      Ajin     61       93       49\n",
       "3    Parita     85       31       60\n",
       "4     Rohan     98       95       56\n",
       "5    Sandra     64       55       64\n",
       "6      Riya     42       73       54"
      ]
     },
     "execution_count": 93,
     "metadata": {},
     "output_type": "execute_result"
    }
   ],
   "source": [
    "data = {\n",
    "    'Name': ['Abhie', 'Abhishek', 'Ajin', 'Parita', 'Rohan', 'Sandra', 'Riya'],\n",
    "    'Maths': np.random.randint(30, 100, 7),\n",
    "    'Science': np.random.randint(30, 100, 7),\n",
    "    'English': np.random.randint(30, 100, 7),\n",
    "}\n",
    "dff = pd.DataFrame(data)\n",
    "dff"
   ]
  },
  {
   "cell_type": "markdown",
   "id": "6802fdc6-6901-4665-935e-ee830257e414",
   "metadata": {},
   "source": [
    "## 8. Change marks in Maths column to 41 for students who have scored less than 40."
   ]
  },
  {
   "cell_type": "code",
   "execution_count": 94,
   "id": "ab17addc-afb4-4386-92b6-9f4485577f25",
   "metadata": {},
   "outputs": [
    {
     "data": {
      "text/plain": [
       "0    62\n",
       "1    49\n",
       "2    61\n",
       "3    85\n",
       "4    98\n",
       "5    64\n",
       "6    42\n",
       "Name: Maths, dtype: int64"
      ]
     },
     "execution_count": 94,
     "metadata": {},
     "output_type": "execute_result"
    }
   ],
   "source": [
    "dff['Maths'].where(dff['Maths'] >= 40, 41)"
   ]
  },
  {
   "cell_type": "markdown",
   "id": "e35390a0-7651-4961-a7c0-bead611f3298",
   "metadata": {},
   "source": [
    "## 9. Add 2 marks to all the subjects marks. If any of the marks exceeds 100 change it to 100.\n"
   ]
  },
  {
   "cell_type": "code",
   "execution_count": 95,
   "id": "fe3271d8-0124-4123-964f-6373d4d12903",
   "metadata": {},
   "outputs": [
    {
     "data": {
      "text/html": [
       "<div>\n",
       "<style scoped>\n",
       "    .dataframe tbody tr th:only-of-type {\n",
       "        vertical-align: middle;\n",
       "    }\n",
       "\n",
       "    .dataframe tbody tr th {\n",
       "        vertical-align: top;\n",
       "    }\n",
       "\n",
       "    .dataframe thead th {\n",
       "        text-align: right;\n",
       "    }\n",
       "</style>\n",
       "<table border=\"1\" class=\"dataframe\">\n",
       "  <thead>\n",
       "    <tr style=\"text-align: right;\">\n",
       "      <th></th>\n",
       "      <th>Name</th>\n",
       "      <th>Maths</th>\n",
       "      <th>Science</th>\n",
       "      <th>English</th>\n",
       "    </tr>\n",
       "  </thead>\n",
       "  <tbody>\n",
       "    <tr>\n",
       "      <th>0</th>\n",
       "      <td>Abhie</td>\n",
       "      <td>64</td>\n",
       "      <td>81</td>\n",
       "      <td>86</td>\n",
       "    </tr>\n",
       "    <tr>\n",
       "      <th>1</th>\n",
       "      <td>Abhishek</td>\n",
       "      <td>51</td>\n",
       "      <td>68</td>\n",
       "      <td>82</td>\n",
       "    </tr>\n",
       "    <tr>\n",
       "      <th>2</th>\n",
       "      <td>Ajin</td>\n",
       "      <td>63</td>\n",
       "      <td>95</td>\n",
       "      <td>51</td>\n",
       "    </tr>\n",
       "    <tr>\n",
       "      <th>3</th>\n",
       "      <td>Parita</td>\n",
       "      <td>87</td>\n",
       "      <td>33</td>\n",
       "      <td>62</td>\n",
       "    </tr>\n",
       "    <tr>\n",
       "      <th>4</th>\n",
       "      <td>Rohan</td>\n",
       "      <td>100</td>\n",
       "      <td>97</td>\n",
       "      <td>58</td>\n",
       "    </tr>\n",
       "    <tr>\n",
       "      <th>5</th>\n",
       "      <td>Sandra</td>\n",
       "      <td>66</td>\n",
       "      <td>57</td>\n",
       "      <td>66</td>\n",
       "    </tr>\n",
       "    <tr>\n",
       "      <th>6</th>\n",
       "      <td>Riya</td>\n",
       "      <td>44</td>\n",
       "      <td>75</td>\n",
       "      <td>56</td>\n",
       "    </tr>\n",
       "  </tbody>\n",
       "</table>\n",
       "</div>"
      ],
      "text/plain": [
       "       Name  Maths  Science  English\n",
       "0     Abhie     64       81       86\n",
       "1  Abhishek     51       68       82\n",
       "2      Ajin     63       95       51\n",
       "3    Parita     87       33       62\n",
       "4     Rohan    100       97       58\n",
       "5    Sandra     66       57       66\n",
       "6      Riya     44       75       56"
      ]
     },
     "execution_count": 95,
     "metadata": {},
     "output_type": "execute_result"
    }
   ],
   "source": [
    "subjects = ['Maths', 'Science', 'English']\n",
    "for i in subjects:\n",
    "    dff[i] = dff[i].apply(lambda x: min(x + 2, 100))\n",
    "dff"
   ]
  },
  {
   "cell_type": "markdown",
   "id": "782ca2d3-148c-4a42-b2f3-9da35399b8b6",
   "metadata": {},
   "source": [
    "## 10. Display students who have scored more than 50 marks in Maths and more than 60 marks in Science.\n"
   ]
  },
  {
   "cell_type": "code",
   "execution_count": 96,
   "id": "8afc2879-4ce9-4233-9e93-036157d4dfda",
   "metadata": {},
   "outputs": [
    {
     "data": {
      "text/html": [
       "<div>\n",
       "<style scoped>\n",
       "    .dataframe tbody tr th:only-of-type {\n",
       "        vertical-align: middle;\n",
       "    }\n",
       "\n",
       "    .dataframe tbody tr th {\n",
       "        vertical-align: top;\n",
       "    }\n",
       "\n",
       "    .dataframe thead th {\n",
       "        text-align: right;\n",
       "    }\n",
       "</style>\n",
       "<table border=\"1\" class=\"dataframe\">\n",
       "  <thead>\n",
       "    <tr style=\"text-align: right;\">\n",
       "      <th></th>\n",
       "      <th>Name</th>\n",
       "      <th>Maths</th>\n",
       "      <th>Science</th>\n",
       "      <th>English</th>\n",
       "    </tr>\n",
       "  </thead>\n",
       "  <tbody>\n",
       "    <tr>\n",
       "      <th>0</th>\n",
       "      <td>Abhie</td>\n",
       "      <td>64</td>\n",
       "      <td>81</td>\n",
       "      <td>86</td>\n",
       "    </tr>\n",
       "    <tr>\n",
       "      <th>1</th>\n",
       "      <td>Abhishek</td>\n",
       "      <td>51</td>\n",
       "      <td>68</td>\n",
       "      <td>82</td>\n",
       "    </tr>\n",
       "    <tr>\n",
       "      <th>2</th>\n",
       "      <td>Ajin</td>\n",
       "      <td>63</td>\n",
       "      <td>95</td>\n",
       "      <td>51</td>\n",
       "    </tr>\n",
       "    <tr>\n",
       "      <th>4</th>\n",
       "      <td>Rohan</td>\n",
       "      <td>100</td>\n",
       "      <td>97</td>\n",
       "      <td>58</td>\n",
       "    </tr>\n",
       "  </tbody>\n",
       "</table>\n",
       "</div>"
      ],
      "text/plain": [
       "       Name  Maths  Science  English\n",
       "0     Abhie     64       81       86\n",
       "1  Abhishek     51       68       82\n",
       "2      Ajin     63       95       51\n",
       "4     Rohan    100       97       58"
      ]
     },
     "execution_count": 96,
     "metadata": {},
     "output_type": "execute_result"
    }
   ],
   "source": [
    "dff[(dff['Maths'] > 50) & (dff['Science'] > 60)]"
   ]
  },
  {
   "cell_type": "markdown",
   "id": "ede7317a-af6b-4115-a1af-eb9e2b70e382",
   "metadata": {},
   "source": [
    "## 11. Display students records whose name starts with letter S.\n"
   ]
  },
  {
   "cell_type": "code",
   "execution_count": 97,
   "id": "5cec474b-3527-417a-8694-f8c336c0f7a2",
   "metadata": {},
   "outputs": [
    {
     "data": {
      "text/html": [
       "<div>\n",
       "<style scoped>\n",
       "    .dataframe tbody tr th:only-of-type {\n",
       "        vertical-align: middle;\n",
       "    }\n",
       "\n",
       "    .dataframe tbody tr th {\n",
       "        vertical-align: top;\n",
       "    }\n",
       "\n",
       "    .dataframe thead th {\n",
       "        text-align: right;\n",
       "    }\n",
       "</style>\n",
       "<table border=\"1\" class=\"dataframe\">\n",
       "  <thead>\n",
       "    <tr style=\"text-align: right;\">\n",
       "      <th></th>\n",
       "      <th>Name</th>\n",
       "      <th>Maths</th>\n",
       "      <th>Science</th>\n",
       "      <th>English</th>\n",
       "    </tr>\n",
       "  </thead>\n",
       "  <tbody>\n",
       "    <tr>\n",
       "      <th>5</th>\n",
       "      <td>Sandra</td>\n",
       "      <td>66</td>\n",
       "      <td>57</td>\n",
       "      <td>66</td>\n",
       "    </tr>\n",
       "  </tbody>\n",
       "</table>\n",
       "</div>"
      ],
      "text/plain": [
       "     Name  Maths  Science  English\n",
       "5  Sandra     66       57       66"
      ]
     },
     "execution_count": 97,
     "metadata": {},
     "output_type": "execute_result"
    }
   ],
   "source": [
    "dff[dff['Name'].str.startswith('S')]"
   ]
  },
  {
   "cell_type": "markdown",
   "id": "6b3df1dd-c648-4450-8003-8791937feb0a",
   "metadata": {},
   "source": [
    "## 12. Display students records whose name ends with letter a.\n"
   ]
  },
  {
   "cell_type": "code",
   "execution_count": 98,
   "id": "4d0188d9-002d-4205-9bd3-b08619fe4108",
   "metadata": {},
   "outputs": [
    {
     "data": {
      "text/html": [
       "<div>\n",
       "<style scoped>\n",
       "    .dataframe tbody tr th:only-of-type {\n",
       "        vertical-align: middle;\n",
       "    }\n",
       "\n",
       "    .dataframe tbody tr th {\n",
       "        vertical-align: top;\n",
       "    }\n",
       "\n",
       "    .dataframe thead th {\n",
       "        text-align: right;\n",
       "    }\n",
       "</style>\n",
       "<table border=\"1\" class=\"dataframe\">\n",
       "  <thead>\n",
       "    <tr style=\"text-align: right;\">\n",
       "      <th></th>\n",
       "      <th>Name</th>\n",
       "      <th>Maths</th>\n",
       "      <th>Science</th>\n",
       "      <th>English</th>\n",
       "    </tr>\n",
       "  </thead>\n",
       "  <tbody>\n",
       "    <tr>\n",
       "      <th>3</th>\n",
       "      <td>Parita</td>\n",
       "      <td>87</td>\n",
       "      <td>33</td>\n",
       "      <td>62</td>\n",
       "    </tr>\n",
       "    <tr>\n",
       "      <th>5</th>\n",
       "      <td>Sandra</td>\n",
       "      <td>66</td>\n",
       "      <td>57</td>\n",
       "      <td>66</td>\n",
       "    </tr>\n",
       "    <tr>\n",
       "      <th>6</th>\n",
       "      <td>Riya</td>\n",
       "      <td>44</td>\n",
       "      <td>75</td>\n",
       "      <td>56</td>\n",
       "    </tr>\n",
       "  </tbody>\n",
       "</table>\n",
       "</div>"
      ],
      "text/plain": [
       "     Name  Maths  Science  English\n",
       "3  Parita     87       33       62\n",
       "5  Sandra     66       57       66\n",
       "6    Riya     44       75       56"
      ]
     },
     "execution_count": 98,
     "metadata": {},
     "output_type": "execute_result"
    }
   ],
   "source": [
    "dff[dff['Name'].str.endswith('a')]"
   ]
  },
  {
   "cell_type": "markdown",
   "id": "27317b70-bf3e-46f8-a987-597af1e094df",
   "metadata": {},
   "source": [
    "## 13. Calculate total and percentage for all the students.\n"
   ]
  },
  {
   "cell_type": "code",
   "execution_count": 99,
   "id": "5ef61712-9ca3-4fc7-9152-29f3bd833b6f",
   "metadata": {},
   "outputs": [
    {
     "data": {
      "text/html": [
       "<div>\n",
       "<style scoped>\n",
       "    .dataframe tbody tr th:only-of-type {\n",
       "        vertical-align: middle;\n",
       "    }\n",
       "\n",
       "    .dataframe tbody tr th {\n",
       "        vertical-align: top;\n",
       "    }\n",
       "\n",
       "    .dataframe thead th {\n",
       "        text-align: right;\n",
       "    }\n",
       "</style>\n",
       "<table border=\"1\" class=\"dataframe\">\n",
       "  <thead>\n",
       "    <tr style=\"text-align: right;\">\n",
       "      <th></th>\n",
       "      <th>Name</th>\n",
       "      <th>Maths</th>\n",
       "      <th>Science</th>\n",
       "      <th>English</th>\n",
       "      <th>Total</th>\n",
       "      <th>Percentage</th>\n",
       "    </tr>\n",
       "  </thead>\n",
       "  <tbody>\n",
       "    <tr>\n",
       "      <th>0</th>\n",
       "      <td>Abhie</td>\n",
       "      <td>64</td>\n",
       "      <td>81</td>\n",
       "      <td>86</td>\n",
       "      <td>231</td>\n",
       "      <td>77.000000</td>\n",
       "    </tr>\n",
       "    <tr>\n",
       "      <th>1</th>\n",
       "      <td>Abhishek</td>\n",
       "      <td>51</td>\n",
       "      <td>68</td>\n",
       "      <td>82</td>\n",
       "      <td>201</td>\n",
       "      <td>67.000000</td>\n",
       "    </tr>\n",
       "    <tr>\n",
       "      <th>2</th>\n",
       "      <td>Ajin</td>\n",
       "      <td>63</td>\n",
       "      <td>95</td>\n",
       "      <td>51</td>\n",
       "      <td>209</td>\n",
       "      <td>69.666667</td>\n",
       "    </tr>\n",
       "    <tr>\n",
       "      <th>3</th>\n",
       "      <td>Parita</td>\n",
       "      <td>87</td>\n",
       "      <td>33</td>\n",
       "      <td>62</td>\n",
       "      <td>182</td>\n",
       "      <td>60.666667</td>\n",
       "    </tr>\n",
       "    <tr>\n",
       "      <th>4</th>\n",
       "      <td>Rohan</td>\n",
       "      <td>100</td>\n",
       "      <td>97</td>\n",
       "      <td>58</td>\n",
       "      <td>255</td>\n",
       "      <td>85.000000</td>\n",
       "    </tr>\n",
       "    <tr>\n",
       "      <th>5</th>\n",
       "      <td>Sandra</td>\n",
       "      <td>66</td>\n",
       "      <td>57</td>\n",
       "      <td>66</td>\n",
       "      <td>189</td>\n",
       "      <td>63.000000</td>\n",
       "    </tr>\n",
       "    <tr>\n",
       "      <th>6</th>\n",
       "      <td>Riya</td>\n",
       "      <td>44</td>\n",
       "      <td>75</td>\n",
       "      <td>56</td>\n",
       "      <td>175</td>\n",
       "      <td>58.333333</td>\n",
       "    </tr>\n",
       "  </tbody>\n",
       "</table>\n",
       "</div>"
      ],
      "text/plain": [
       "       Name  Maths  Science  English  Total  Percentage\n",
       "0     Abhie     64       81       86    231   77.000000\n",
       "1  Abhishek     51       68       82    201   67.000000\n",
       "2      Ajin     63       95       51    209   69.666667\n",
       "3    Parita     87       33       62    182   60.666667\n",
       "4     Rohan    100       97       58    255   85.000000\n",
       "5    Sandra     66       57       66    189   63.000000\n",
       "6      Riya     44       75       56    175   58.333333"
      ]
     },
     "execution_count": 99,
     "metadata": {},
     "output_type": "execute_result"
    }
   ],
   "source": [
    "dff['Total'] = dff[subjects].sum(axis=1)\n",
    "dff['Percentage'] = dff['Total'] / 300 * 100\n",
    "dff"
   ]
  },
  {
   "cell_type": "markdown",
   "id": "6928c2fa-e449-472f-8fdf-241159cb5ef1",
   "metadata": {},
   "source": [
    "## 14. Calculate Status (PASS / FAIL) for the Students.\n"
   ]
  },
  {
   "cell_type": "code",
   "execution_count": 100,
   "id": "d976ac1c-1596-4f53-8ee9-421f6b4d2012",
   "metadata": {},
   "outputs": [
    {
     "data": {
      "text/plain": [
       "['PASS', 'PASS', 'PASS', 'FAIL', 'PASS', 'FAIL', 'FAIL']"
      ]
     },
     "execution_count": 100,
     "metadata": {},
     "output_type": "execute_result"
    }
   ],
   "source": [
    "['PASS' if marks >= 200 else 'FAIL' for marks in dff['Total']]"
   ]
  },
  {
   "cell_type": "markdown",
   "id": "f1c07153-2d0b-43cf-9c1d-ddadfcf3c180",
   "metadata": {},
   "source": [
    "## 15. Calculate percentage based grade value:\n",
    "###    per>=90 then A-grade, \n",
    "###    per>=80 then B-grade, \n",
    "###   per>=70 then C-grade, \n",
    "###    per>=60 then D-grade, \n",
    "###    per>=50 then E-grade, \n",
    "###    per<50 then F-grade \n"
   ]
  },
  {
   "cell_type": "code",
   "execution_count": 101,
   "id": "8939a5f3-954d-4b8e-9b23-0256a84e8b9f",
   "metadata": {},
   "outputs": [],
   "source": [
    "dff.loc[dff['Percentage']<=49.9,'Grade']='F'\n",
    "dff.loc[dff['Percentage']>49.9,'Grade']='E'\n",
    "dff.loc[dff['Percentage']>59.9,'Grade']='D'\n",
    "dff.loc[dff['Percentage']>69.9,'Grade']='C'\n",
    "dff.loc[dff['Percentage']>79.9,'Grade']='B'\n",
    "dff.loc[dff['Percentage']>89.9,'Grade']='A'"
   ]
  },
  {
   "cell_type": "code",
   "execution_count": 102,
   "id": "9089a606-8c05-4da4-beab-94211453fe7c",
   "metadata": {},
   "outputs": [],
   "source": [
    "dff['Grade'] = dff['Percentage'].apply(lambda x: 'A' if x > 89.9 else ('B' if x > 79.9 else ('C' if x > 69.9 else ('D' if x > 59.9 else ('E' if x > 49.9 else 'F')))))"
   ]
  },
  {
   "cell_type": "code",
   "execution_count": 103,
   "id": "46f1a4cf-c6b5-48a5-a4ac-4a601d436bef",
   "metadata": {},
   "outputs": [
    {
     "data": {
      "text/html": [
       "<div>\n",
       "<style scoped>\n",
       "    .dataframe tbody tr th:only-of-type {\n",
       "        vertical-align: middle;\n",
       "    }\n",
       "\n",
       "    .dataframe tbody tr th {\n",
       "        vertical-align: top;\n",
       "    }\n",
       "\n",
       "    .dataframe thead th {\n",
       "        text-align: right;\n",
       "    }\n",
       "</style>\n",
       "<table border=\"1\" class=\"dataframe\">\n",
       "  <thead>\n",
       "    <tr style=\"text-align: right;\">\n",
       "      <th></th>\n",
       "      <th>Name</th>\n",
       "      <th>Maths</th>\n",
       "      <th>Science</th>\n",
       "      <th>English</th>\n",
       "      <th>Total</th>\n",
       "      <th>Percentage</th>\n",
       "      <th>Grade</th>\n",
       "    </tr>\n",
       "  </thead>\n",
       "  <tbody>\n",
       "    <tr>\n",
       "      <th>0</th>\n",
       "      <td>Abhie</td>\n",
       "      <td>64</td>\n",
       "      <td>81</td>\n",
       "      <td>86</td>\n",
       "      <td>231</td>\n",
       "      <td>77.000000</td>\n",
       "      <td>C</td>\n",
       "    </tr>\n",
       "    <tr>\n",
       "      <th>1</th>\n",
       "      <td>Abhishek</td>\n",
       "      <td>51</td>\n",
       "      <td>68</td>\n",
       "      <td>82</td>\n",
       "      <td>201</td>\n",
       "      <td>67.000000</td>\n",
       "      <td>D</td>\n",
       "    </tr>\n",
       "    <tr>\n",
       "      <th>2</th>\n",
       "      <td>Ajin</td>\n",
       "      <td>63</td>\n",
       "      <td>95</td>\n",
       "      <td>51</td>\n",
       "      <td>209</td>\n",
       "      <td>69.666667</td>\n",
       "      <td>D</td>\n",
       "    </tr>\n",
       "    <tr>\n",
       "      <th>3</th>\n",
       "      <td>Parita</td>\n",
       "      <td>87</td>\n",
       "      <td>33</td>\n",
       "      <td>62</td>\n",
       "      <td>182</td>\n",
       "      <td>60.666667</td>\n",
       "      <td>D</td>\n",
       "    </tr>\n",
       "    <tr>\n",
       "      <th>4</th>\n",
       "      <td>Rohan</td>\n",
       "      <td>100</td>\n",
       "      <td>97</td>\n",
       "      <td>58</td>\n",
       "      <td>255</td>\n",
       "      <td>85.000000</td>\n",
       "      <td>B</td>\n",
       "    </tr>\n",
       "    <tr>\n",
       "      <th>5</th>\n",
       "      <td>Sandra</td>\n",
       "      <td>66</td>\n",
       "      <td>57</td>\n",
       "      <td>66</td>\n",
       "      <td>189</td>\n",
       "      <td>63.000000</td>\n",
       "      <td>D</td>\n",
       "    </tr>\n",
       "    <tr>\n",
       "      <th>6</th>\n",
       "      <td>Riya</td>\n",
       "      <td>44</td>\n",
       "      <td>75</td>\n",
       "      <td>56</td>\n",
       "      <td>175</td>\n",
       "      <td>58.333333</td>\n",
       "      <td>E</td>\n",
       "    </tr>\n",
       "  </tbody>\n",
       "</table>\n",
       "</div>"
      ],
      "text/plain": [
       "       Name  Maths  Science  English  Total  Percentage Grade\n",
       "0     Abhie     64       81       86    231   77.000000     C\n",
       "1  Abhishek     51       68       82    201   67.000000     D\n",
       "2      Ajin     63       95       51    209   69.666667     D\n",
       "3    Parita     87       33       62    182   60.666667     D\n",
       "4     Rohan    100       97       58    255   85.000000     B\n",
       "5    Sandra     66       57       66    189   63.000000     D\n",
       "6      Riya     44       75       56    175   58.333333     E"
      ]
     },
     "execution_count": 103,
     "metadata": {},
     "output_type": "execute_result"
    }
   ],
   "source": [
    "dff"
   ]
  },
  {
   "cell_type": "markdown",
   "id": "2197516b-bc4e-4ee9-b50c-b0925441b055",
   "metadata": {},
   "source": [
    "## 16. Also calculate overall columns total, maximum, minimum and standard deviation for each numeric columns\n"
   ]
  },
  {
   "cell_type": "code",
   "execution_count": 104,
   "id": "7b209bef-5439-4805-b90f-90ac7de955da",
   "metadata": {},
   "outputs": [
    {
     "name": "stdout",
     "output_type": "stream",
     "text": [
      "Maths Total:  475 \n",
      "Science Total:  506 \n",
      "English Total:  461 \n",
      "Total:  1442 \n",
      "Percentage Total:  480.6666666666667\n"
     ]
    },
    {
     "data": {
      "text/html": [
       "<div>\n",
       "<style scoped>\n",
       "    .dataframe tbody tr th:only-of-type {\n",
       "        vertical-align: middle;\n",
       "    }\n",
       "\n",
       "    .dataframe tbody tr th {\n",
       "        vertical-align: top;\n",
       "    }\n",
       "\n",
       "    .dataframe thead th {\n",
       "        text-align: right;\n",
       "    }\n",
       "</style>\n",
       "<table border=\"1\" class=\"dataframe\">\n",
       "  <thead>\n",
       "    <tr style=\"text-align: right;\">\n",
       "      <th></th>\n",
       "      <th>Maths</th>\n",
       "      <th>Science</th>\n",
       "      <th>English</th>\n",
       "      <th>Total</th>\n",
       "      <th>Percentage</th>\n",
       "    </tr>\n",
       "  </thead>\n",
       "  <tbody>\n",
       "    <tr>\n",
       "      <th>count</th>\n",
       "      <td>7.000000</td>\n",
       "      <td>7.000000</td>\n",
       "      <td>7.000000</td>\n",
       "      <td>7.000000</td>\n",
       "      <td>7.000000</td>\n",
       "    </tr>\n",
       "    <tr>\n",
       "      <th>mean</th>\n",
       "      <td>67.857143</td>\n",
       "      <td>72.285714</td>\n",
       "      <td>65.857143</td>\n",
       "      <td>206.000000</td>\n",
       "      <td>68.666667</td>\n",
       "    </tr>\n",
       "    <tr>\n",
       "      <th>std</th>\n",
       "      <td>19.556999</td>\n",
       "      <td>22.380902</td>\n",
       "      <td>13.296974</td>\n",
       "      <td>28.536526</td>\n",
       "      <td>9.512175</td>\n",
       "    </tr>\n",
       "    <tr>\n",
       "      <th>min</th>\n",
       "      <td>44.000000</td>\n",
       "      <td>33.000000</td>\n",
       "      <td>51.000000</td>\n",
       "      <td>175.000000</td>\n",
       "      <td>58.333333</td>\n",
       "    </tr>\n",
       "    <tr>\n",
       "      <th>25%</th>\n",
       "      <td>57.000000</td>\n",
       "      <td>62.500000</td>\n",
       "      <td>57.000000</td>\n",
       "      <td>185.500000</td>\n",
       "      <td>61.833333</td>\n",
       "    </tr>\n",
       "    <tr>\n",
       "      <th>50%</th>\n",
       "      <td>64.000000</td>\n",
       "      <td>75.000000</td>\n",
       "      <td>62.000000</td>\n",
       "      <td>201.000000</td>\n",
       "      <td>67.000000</td>\n",
       "    </tr>\n",
       "    <tr>\n",
       "      <th>75%</th>\n",
       "      <td>76.500000</td>\n",
       "      <td>88.000000</td>\n",
       "      <td>74.000000</td>\n",
       "      <td>220.000000</td>\n",
       "      <td>73.333333</td>\n",
       "    </tr>\n",
       "    <tr>\n",
       "      <th>max</th>\n",
       "      <td>100.000000</td>\n",
       "      <td>97.000000</td>\n",
       "      <td>86.000000</td>\n",
       "      <td>255.000000</td>\n",
       "      <td>85.000000</td>\n",
       "    </tr>\n",
       "  </tbody>\n",
       "</table>\n",
       "</div>"
      ],
      "text/plain": [
       "            Maths    Science    English       Total  Percentage\n",
       "count    7.000000   7.000000   7.000000    7.000000    7.000000\n",
       "mean    67.857143  72.285714  65.857143  206.000000   68.666667\n",
       "std     19.556999  22.380902  13.296974   28.536526    9.512175\n",
       "min     44.000000  33.000000  51.000000  175.000000   58.333333\n",
       "25%     57.000000  62.500000  57.000000  185.500000   61.833333\n",
       "50%     64.000000  75.000000  62.000000  201.000000   67.000000\n",
       "75%     76.500000  88.000000  74.000000  220.000000   73.333333\n",
       "max    100.000000  97.000000  86.000000  255.000000   85.000000"
      ]
     },
     "execution_count": 104,
     "metadata": {},
     "output_type": "execute_result"
    }
   ],
   "source": [
    "mathSum = sum(dff['Maths'])\n",
    "sciSum = sum(dff['Science'])\n",
    "engSum = sum(dff['English'])\n",
    "totSum = sum(dff['Total'])\n",
    "perSum = sum(dff['Percentage'])\n",
    "\n",
    "print(\"Maths Total: \",mathSum,\"\\nScience Total: \", sciSum,\"\\nEnglish Total: \", engSum,\"\\nTotal: \", totSum,\"\\nPercentage Total: \", perSum)\n",
    "dff.describe()"
   ]
  },
  {
   "cell_type": "markdown",
   "id": "c60f9f28-891c-4091-a870-fc4c42344abc",
   "metadata": {},
   "source": [
    "## 16.5 Convert the above dataframe to excel, Json and html."
   ]
  },
  {
   "cell_type": "code",
   "execution_count": 105,
   "id": "f07346cf-cf02-4d05-905a-e33b436607e0",
   "metadata": {},
   "outputs": [],
   "source": [
    "dff.to_csv('lab5_1.csv')\n",
    "dff.to_json('lab5_1.json')\n",
    "# dff.to_sql('pandu.sql', engine)\n",
    "dff.to_excel('lab5_1.xlsx')\n",
    "dff.to_html('lab5_1.html')"
   ]
  },
  {
   "cell_type": "markdown",
   "id": "b7e94bf0-e7a5-468d-99b6-0c2e58f9130b",
   "metadata": {},
   "source": [
    "### 17. Display meta-data for each column for the above dataframe."
   ]
  },
  {
   "cell_type": "code",
   "execution_count": 106,
   "id": "56beb720-4a40-4d48-b7ce-06670d6fe708",
   "metadata": {},
   "outputs": [
    {
     "data": {
      "text/html": [
       "<div>\n",
       "<style scoped>\n",
       "    .dataframe tbody tr th:only-of-type {\n",
       "        vertical-align: middle;\n",
       "    }\n",
       "\n",
       "    .dataframe tbody tr th {\n",
       "        vertical-align: top;\n",
       "    }\n",
       "\n",
       "    .dataframe thead th {\n",
       "        text-align: right;\n",
       "    }\n",
       "</style>\n",
       "<table border=\"1\" class=\"dataframe\">\n",
       "  <thead>\n",
       "    <tr style=\"text-align: right;\">\n",
       "      <th></th>\n",
       "      <th>Maths</th>\n",
       "      <th>Science</th>\n",
       "      <th>English</th>\n",
       "      <th>Total</th>\n",
       "      <th>Percentage</th>\n",
       "    </tr>\n",
       "  </thead>\n",
       "  <tbody>\n",
       "    <tr>\n",
       "      <th>count</th>\n",
       "      <td>7.000000</td>\n",
       "      <td>7.000000</td>\n",
       "      <td>7.000000</td>\n",
       "      <td>7.000000</td>\n",
       "      <td>7.000000</td>\n",
       "    </tr>\n",
       "    <tr>\n",
       "      <th>mean</th>\n",
       "      <td>67.857143</td>\n",
       "      <td>72.285714</td>\n",
       "      <td>65.857143</td>\n",
       "      <td>206.000000</td>\n",
       "      <td>68.666667</td>\n",
       "    </tr>\n",
       "    <tr>\n",
       "      <th>std</th>\n",
       "      <td>19.556999</td>\n",
       "      <td>22.380902</td>\n",
       "      <td>13.296974</td>\n",
       "      <td>28.536526</td>\n",
       "      <td>9.512175</td>\n",
       "    </tr>\n",
       "    <tr>\n",
       "      <th>min</th>\n",
       "      <td>44.000000</td>\n",
       "      <td>33.000000</td>\n",
       "      <td>51.000000</td>\n",
       "      <td>175.000000</td>\n",
       "      <td>58.333333</td>\n",
       "    </tr>\n",
       "    <tr>\n",
       "      <th>25%</th>\n",
       "      <td>57.000000</td>\n",
       "      <td>62.500000</td>\n",
       "      <td>57.000000</td>\n",
       "      <td>185.500000</td>\n",
       "      <td>61.833333</td>\n",
       "    </tr>\n",
       "    <tr>\n",
       "      <th>50%</th>\n",
       "      <td>64.000000</td>\n",
       "      <td>75.000000</td>\n",
       "      <td>62.000000</td>\n",
       "      <td>201.000000</td>\n",
       "      <td>67.000000</td>\n",
       "    </tr>\n",
       "    <tr>\n",
       "      <th>75%</th>\n",
       "      <td>76.500000</td>\n",
       "      <td>88.000000</td>\n",
       "      <td>74.000000</td>\n",
       "      <td>220.000000</td>\n",
       "      <td>73.333333</td>\n",
       "    </tr>\n",
       "    <tr>\n",
       "      <th>max</th>\n",
       "      <td>100.000000</td>\n",
       "      <td>97.000000</td>\n",
       "      <td>86.000000</td>\n",
       "      <td>255.000000</td>\n",
       "      <td>85.000000</td>\n",
       "    </tr>\n",
       "  </tbody>\n",
       "</table>\n",
       "</div>"
      ],
      "text/plain": [
       "            Maths    Science    English       Total  Percentage\n",
       "count    7.000000   7.000000   7.000000    7.000000    7.000000\n",
       "mean    67.857143  72.285714  65.857143  206.000000   68.666667\n",
       "std     19.556999  22.380902  13.296974   28.536526    9.512175\n",
       "min     44.000000  33.000000  51.000000  175.000000   58.333333\n",
       "25%     57.000000  62.500000  57.000000  185.500000   61.833333\n",
       "50%     64.000000  75.000000  62.000000  201.000000   67.000000\n",
       "75%     76.500000  88.000000  74.000000  220.000000   73.333333\n",
       "max    100.000000  97.000000  86.000000  255.000000   85.000000"
      ]
     },
     "execution_count": 106,
     "metadata": {},
     "output_type": "execute_result"
    }
   ],
   "source": [
    "dff.describe()"
   ]
  },
  {
   "cell_type": "markdown",
   "id": "401ffde1-bbec-4ba8-aa17-567cc5d1a8b7",
   "metadata": {},
   "source": [
    "### 18. Convert the above DataFrame to list within a dictionary."
   ]
  },
  {
   "cell_type": "code",
   "execution_count": 109,
   "id": "1fcb6f95-5fa8-4943-8f26-fe578281b4f8",
   "metadata": {},
   "outputs": [
    {
     "data": {
      "text/plain": [
       "{'Name': ['Abhie', 'Abhishek', 'Ajin', 'Parita', 'Rohan', 'Sandra', 'Riya'],\n",
       " 'Maths': [64, 51, 63, 87, 100, 66, 44],\n",
       " 'Science': [81, 68, 95, 33, 97, 57, 75],\n",
       " 'English': [86, 82, 51, 62, 58, 66, 56],\n",
       " 'Total': [231, 201, 209, 182, 255, 189, 175],\n",
       " 'Percentage': [77.0,\n",
       "  67.0,\n",
       "  69.66666666666667,\n",
       "  60.66666666666667,\n",
       "  85.0,\n",
       "  63.0,\n",
       "  58.333333333333336],\n",
       " 'Grade': ['C', 'D', 'D', 'D', 'B', 'D', 'E']}"
      ]
     },
     "execution_count": 109,
     "metadata": {},
     "output_type": "execute_result"
    }
   ],
   "source": [
    "dff.to_dict(orient='list')"
   ]
  },
  {
   "cell_type": "markdown",
   "id": "5a497016-fccf-471c-b36a-cb995170d64b",
   "metadata": {},
   "source": [
    "### 19. Convert this dictionary again to a separate dataframe by adding 500 to each element in product price column"
   ]
  },
  {
   "cell_type": "code",
   "execution_count": 111,
   "id": "f25e1030-9f4f-4c2f-8a9c-fb06b4bb84de",
   "metadata": {},
   "outputs": [
    {
     "data": {
      "text/html": [
       "<div>\n",
       "<style scoped>\n",
       "    .dataframe tbody tr th:only-of-type {\n",
       "        vertical-align: middle;\n",
       "    }\n",
       "\n",
       "    .dataframe tbody tr th {\n",
       "        vertical-align: top;\n",
       "    }\n",
       "\n",
       "    .dataframe thead th {\n",
       "        text-align: right;\n",
       "    }\n",
       "</style>\n",
       "<table border=\"1\" class=\"dataframe\">\n",
       "  <thead>\n",
       "    <tr style=\"text-align: right;\">\n",
       "      <th></th>\n",
       "      <th>Product ID</th>\n",
       "      <th>Product Name</th>\n",
       "      <th>Product Price</th>\n",
       "    </tr>\n",
       "  </thead>\n",
       "  <tbody>\n",
       "    <tr>\n",
       "      <th>1</th>\n",
       "      <td>114</td>\n",
       "      <td>Mango</td>\n",
       "      <td>600</td>\n",
       "    </tr>\n",
       "    <tr>\n",
       "      <th>2</th>\n",
       "      <td>115</td>\n",
       "      <td>Banana</td>\n",
       "      <td>540</td>\n",
       "    </tr>\n",
       "    <tr>\n",
       "      <th>3</th>\n",
       "      <td>116</td>\n",
       "      <td>Strawberry</td>\n",
       "      <td>575</td>\n",
       "    </tr>\n",
       "    <tr>\n",
       "      <th>4</th>\n",
       "      <td>169</td>\n",
       "      <td>Pineapple</td>\n",
       "      <td>589</td>\n",
       "    </tr>\n",
       "    <tr>\n",
       "      <th>5</th>\n",
       "      <td>181</td>\n",
       "      <td>Orange</td>\n",
       "      <td>550</td>\n",
       "    </tr>\n",
       "  </tbody>\n",
       "</table>\n",
       "</div>"
      ],
      "text/plain": [
       "   Product ID Product Name  Product Price\n",
       "1         114        Mango            600\n",
       "2         115       Banana            540\n",
       "3         116   Strawberry            575\n",
       "4         169    Pineapple            589\n",
       "5         181       Orange            550"
      ]
     },
     "execution_count": 111,
     "metadata": {},
     "output_type": "execute_result"
    }
   ],
   "source": [
    "df['Product Price']+=500\n",
    "df"
   ]
  },
  {
   "cell_type": "markdown",
   "id": "fa121f43-296b-4bda-b0e8-2b06da177978",
   "metadata": {},
   "source": [
    "---"
   ]
  },
  {
   "cell_type": "markdown",
   "id": "c6acce67-ef47-4510-8172-a7b043a28c6f",
   "metadata": {},
   "source": [
    "# Task 2"
   ]
  },
  {
   "cell_type": "markdown",
   "id": "a21197c6-7271-4610-865c-704d55f1fc3f",
   "metadata": {},
   "source": [
    "## Preprocessing"
   ]
  },
  {
   "cell_type": "code",
   "execution_count": 51,
   "id": "93f5de64-1d8a-4746-acb4-479489aa9744",
   "metadata": {},
   "outputs": [],
   "source": [
    "import pandas as pd"
   ]
  },
  {
   "cell_type": "code",
   "execution_count": 52,
   "id": "68afead5-b49e-49ff-b0be-f66c6e6d6620",
   "metadata": {},
   "outputs": [],
   "source": [
    "sal = pd.read_csv('datasets/Salaries.csv', low_memory = False)"
   ]
  },
  {
   "cell_type": "code",
   "execution_count": 53,
   "id": "b39a863d-4cc2-4614-8343-02a2b6e5273f",
   "metadata": {
    "scrolled": true
   },
   "outputs": [
    {
     "data": {
      "text/html": [
       "<div>\n",
       "<style scoped>\n",
       "    .dataframe tbody tr th:only-of-type {\n",
       "        vertical-align: middle;\n",
       "    }\n",
       "\n",
       "    .dataframe tbody tr th {\n",
       "        vertical-align: top;\n",
       "    }\n",
       "\n",
       "    .dataframe thead th {\n",
       "        text-align: right;\n",
       "    }\n",
       "</style>\n",
       "<table border=\"1\" class=\"dataframe\">\n",
       "  <thead>\n",
       "    <tr style=\"text-align: right;\">\n",
       "      <th></th>\n",
       "      <th>Id</th>\n",
       "      <th>EmployeeName</th>\n",
       "      <th>JobTitle</th>\n",
       "      <th>BasePay</th>\n",
       "      <th>OvertimePay</th>\n",
       "      <th>OtherPay</th>\n",
       "      <th>Benefits</th>\n",
       "      <th>TotalPay</th>\n",
       "      <th>TotalPayBenefits</th>\n",
       "      <th>Year</th>\n",
       "      <th>Notes</th>\n",
       "      <th>Agency</th>\n",
       "      <th>Status</th>\n",
       "    </tr>\n",
       "  </thead>\n",
       "  <tbody>\n",
       "    <tr>\n",
       "      <th>0</th>\n",
       "      <td>1</td>\n",
       "      <td>NATHANIEL FORD</td>\n",
       "      <td>GENERAL MANAGER-METROPOLITAN TRANSIT AUTHORITY</td>\n",
       "      <td>167411.18</td>\n",
       "      <td>0.0</td>\n",
       "      <td>400184.25</td>\n",
       "      <td>NaN</td>\n",
       "      <td>567595.43</td>\n",
       "      <td>567595.43</td>\n",
       "      <td>2011</td>\n",
       "      <td>NaN</td>\n",
       "      <td>San Francisco</td>\n",
       "      <td>NaN</td>\n",
       "    </tr>\n",
       "    <tr>\n",
       "      <th>1</th>\n",
       "      <td>2</td>\n",
       "      <td>GARY JIMENEZ</td>\n",
       "      <td>CAPTAIN III (POLICE DEPARTMENT)</td>\n",
       "      <td>155966.02</td>\n",
       "      <td>245131.88</td>\n",
       "      <td>137811.38</td>\n",
       "      <td>NaN</td>\n",
       "      <td>538909.28</td>\n",
       "      <td>538909.28</td>\n",
       "      <td>2011</td>\n",
       "      <td>NaN</td>\n",
       "      <td>San Francisco</td>\n",
       "      <td>NaN</td>\n",
       "    </tr>\n",
       "    <tr>\n",
       "      <th>2</th>\n",
       "      <td>3</td>\n",
       "      <td>ALBERT PARDINI</td>\n",
       "      <td>CAPTAIN III (POLICE DEPARTMENT)</td>\n",
       "      <td>212739.13</td>\n",
       "      <td>106088.18</td>\n",
       "      <td>16452.6</td>\n",
       "      <td>NaN</td>\n",
       "      <td>335279.91</td>\n",
       "      <td>335279.91</td>\n",
       "      <td>2011</td>\n",
       "      <td>NaN</td>\n",
       "      <td>San Francisco</td>\n",
       "      <td>NaN</td>\n",
       "    </tr>\n",
       "    <tr>\n",
       "      <th>3</th>\n",
       "      <td>4</td>\n",
       "      <td>CHRISTOPHER CHONG</td>\n",
       "      <td>WIRE ROPE CABLE MAINTENANCE MECHANIC</td>\n",
       "      <td>77916.0</td>\n",
       "      <td>56120.71</td>\n",
       "      <td>198306.9</td>\n",
       "      <td>NaN</td>\n",
       "      <td>332343.61</td>\n",
       "      <td>332343.61</td>\n",
       "      <td>2011</td>\n",
       "      <td>NaN</td>\n",
       "      <td>San Francisco</td>\n",
       "      <td>NaN</td>\n",
       "    </tr>\n",
       "    <tr>\n",
       "      <th>4</th>\n",
       "      <td>5</td>\n",
       "      <td>PATRICK GARDNER</td>\n",
       "      <td>DEPUTY CHIEF OF DEPARTMENT,(FIRE DEPARTMENT)</td>\n",
       "      <td>134401.6</td>\n",
       "      <td>9737.0</td>\n",
       "      <td>182234.59</td>\n",
       "      <td>NaN</td>\n",
       "      <td>326373.19</td>\n",
       "      <td>326373.19</td>\n",
       "      <td>2011</td>\n",
       "      <td>NaN</td>\n",
       "      <td>San Francisco</td>\n",
       "      <td>NaN</td>\n",
       "    </tr>\n",
       "    <tr>\n",
       "      <th>...</th>\n",
       "      <td>...</td>\n",
       "      <td>...</td>\n",
       "      <td>...</td>\n",
       "      <td>...</td>\n",
       "      <td>...</td>\n",
       "      <td>...</td>\n",
       "      <td>...</td>\n",
       "      <td>...</td>\n",
       "      <td>...</td>\n",
       "      <td>...</td>\n",
       "      <td>...</td>\n",
       "      <td>...</td>\n",
       "      <td>...</td>\n",
       "    </tr>\n",
       "    <tr>\n",
       "      <th>148649</th>\n",
       "      <td>148650</td>\n",
       "      <td>Roy I Tillery</td>\n",
       "      <td>Custodian</td>\n",
       "      <td>0.00</td>\n",
       "      <td>0.00</td>\n",
       "      <td>0.00</td>\n",
       "      <td>0.00</td>\n",
       "      <td>0.00</td>\n",
       "      <td>0.00</td>\n",
       "      <td>2014</td>\n",
       "      <td>NaN</td>\n",
       "      <td>San Francisco</td>\n",
       "      <td>PT</td>\n",
       "    </tr>\n",
       "    <tr>\n",
       "      <th>148650</th>\n",
       "      <td>148651</td>\n",
       "      <td>Not provided</td>\n",
       "      <td>Not provided</td>\n",
       "      <td>Not Provided</td>\n",
       "      <td>Not Provided</td>\n",
       "      <td>Not Provided</td>\n",
       "      <td>Not Provided</td>\n",
       "      <td>0.00</td>\n",
       "      <td>0.00</td>\n",
       "      <td>2014</td>\n",
       "      <td>NaN</td>\n",
       "      <td>San Francisco</td>\n",
       "      <td>NaN</td>\n",
       "    </tr>\n",
       "    <tr>\n",
       "      <th>148651</th>\n",
       "      <td>148652</td>\n",
       "      <td>Not provided</td>\n",
       "      <td>Not provided</td>\n",
       "      <td>Not Provided</td>\n",
       "      <td>Not Provided</td>\n",
       "      <td>Not Provided</td>\n",
       "      <td>Not Provided</td>\n",
       "      <td>0.00</td>\n",
       "      <td>0.00</td>\n",
       "      <td>2014</td>\n",
       "      <td>NaN</td>\n",
       "      <td>San Francisco</td>\n",
       "      <td>NaN</td>\n",
       "    </tr>\n",
       "    <tr>\n",
       "      <th>148652</th>\n",
       "      <td>148653</td>\n",
       "      <td>Not provided</td>\n",
       "      <td>Not provided</td>\n",
       "      <td>Not Provided</td>\n",
       "      <td>Not Provided</td>\n",
       "      <td>Not Provided</td>\n",
       "      <td>Not Provided</td>\n",
       "      <td>0.00</td>\n",
       "      <td>0.00</td>\n",
       "      <td>2014</td>\n",
       "      <td>NaN</td>\n",
       "      <td>San Francisco</td>\n",
       "      <td>NaN</td>\n",
       "    </tr>\n",
       "    <tr>\n",
       "      <th>148653</th>\n",
       "      <td>148654</td>\n",
       "      <td>Joe Lopez</td>\n",
       "      <td>Counselor, Log Cabin Ranch</td>\n",
       "      <td>0.00</td>\n",
       "      <td>0.00</td>\n",
       "      <td>-618.13</td>\n",
       "      <td>0.00</td>\n",
       "      <td>-618.13</td>\n",
       "      <td>-618.13</td>\n",
       "      <td>2014</td>\n",
       "      <td>NaN</td>\n",
       "      <td>San Francisco</td>\n",
       "      <td>PT</td>\n",
       "    </tr>\n",
       "  </tbody>\n",
       "</table>\n",
       "<p>148654 rows × 13 columns</p>\n",
       "</div>"
      ],
      "text/plain": [
       "            Id       EmployeeName  \\\n",
       "0            1     NATHANIEL FORD   \n",
       "1            2       GARY JIMENEZ   \n",
       "2            3     ALBERT PARDINI   \n",
       "3            4  CHRISTOPHER CHONG   \n",
       "4            5    PATRICK GARDNER   \n",
       "...        ...                ...   \n",
       "148649  148650      Roy I Tillery   \n",
       "148650  148651       Not provided   \n",
       "148651  148652       Not provided   \n",
       "148652  148653       Not provided   \n",
       "148653  148654          Joe Lopez   \n",
       "\n",
       "                                              JobTitle       BasePay  \\\n",
       "0       GENERAL MANAGER-METROPOLITAN TRANSIT AUTHORITY     167411.18   \n",
       "1                      CAPTAIN III (POLICE DEPARTMENT)     155966.02   \n",
       "2                      CAPTAIN III (POLICE DEPARTMENT)     212739.13   \n",
       "3                 WIRE ROPE CABLE MAINTENANCE MECHANIC       77916.0   \n",
       "4         DEPUTY CHIEF OF DEPARTMENT,(FIRE DEPARTMENT)      134401.6   \n",
       "...                                                ...           ...   \n",
       "148649                                       Custodian          0.00   \n",
       "148650                                    Not provided  Not Provided   \n",
       "148651                                    Not provided  Not Provided   \n",
       "148652                                    Not provided  Not Provided   \n",
       "148653                      Counselor, Log Cabin Ranch          0.00   \n",
       "\n",
       "         OvertimePay      OtherPay      Benefits   TotalPay  TotalPayBenefits  \\\n",
       "0                0.0     400184.25           NaN  567595.43         567595.43   \n",
       "1          245131.88     137811.38           NaN  538909.28         538909.28   \n",
       "2          106088.18       16452.6           NaN  335279.91         335279.91   \n",
       "3           56120.71      198306.9           NaN  332343.61         332343.61   \n",
       "4             9737.0     182234.59           NaN  326373.19         326373.19   \n",
       "...              ...           ...           ...        ...               ...   \n",
       "148649          0.00          0.00          0.00       0.00              0.00   \n",
       "148650  Not Provided  Not Provided  Not Provided       0.00              0.00   \n",
       "148651  Not Provided  Not Provided  Not Provided       0.00              0.00   \n",
       "148652  Not Provided  Not Provided  Not Provided       0.00              0.00   \n",
       "148653          0.00       -618.13          0.00    -618.13           -618.13   \n",
       "\n",
       "        Year  Notes         Agency Status  \n",
       "0       2011    NaN  San Francisco    NaN  \n",
       "1       2011    NaN  San Francisco    NaN  \n",
       "2       2011    NaN  San Francisco    NaN  \n",
       "3       2011    NaN  San Francisco    NaN  \n",
       "4       2011    NaN  San Francisco    NaN  \n",
       "...      ...    ...            ...    ...  \n",
       "148649  2014    NaN  San Francisco     PT  \n",
       "148650  2014    NaN  San Francisco    NaN  \n",
       "148651  2014    NaN  San Francisco    NaN  \n",
       "148652  2014    NaN  San Francisco    NaN  \n",
       "148653  2014    NaN  San Francisco     PT  \n",
       "\n",
       "[148654 rows x 13 columns]"
      ]
     },
     "execution_count": 53,
     "metadata": {},
     "output_type": "execute_result"
    }
   ],
   "source": [
    "sal"
   ]
  },
  {
   "cell_type": "code",
   "execution_count": 54,
   "id": "23fc65ab-fc56-49ce-8c42-26d5e00c0763",
   "metadata": {},
   "outputs": [
    {
     "data": {
      "text/html": [
       "<div>\n",
       "<style scoped>\n",
       "    .dataframe tbody tr th:only-of-type {\n",
       "        vertical-align: middle;\n",
       "    }\n",
       "\n",
       "    .dataframe tbody tr th {\n",
       "        vertical-align: top;\n",
       "    }\n",
       "\n",
       "    .dataframe thead th {\n",
       "        text-align: right;\n",
       "    }\n",
       "</style>\n",
       "<table border=\"1\" class=\"dataframe\">\n",
       "  <thead>\n",
       "    <tr style=\"text-align: right;\">\n",
       "      <th></th>\n",
       "      <th>Id</th>\n",
       "      <th>TotalPay</th>\n",
       "      <th>TotalPayBenefits</th>\n",
       "      <th>Year</th>\n",
       "      <th>Notes</th>\n",
       "    </tr>\n",
       "  </thead>\n",
       "  <tbody>\n",
       "    <tr>\n",
       "      <th>count</th>\n",
       "      <td>148654.000000</td>\n",
       "      <td>148654.000000</td>\n",
       "      <td>148654.000000</td>\n",
       "      <td>148654.000000</td>\n",
       "      <td>0.0</td>\n",
       "    </tr>\n",
       "    <tr>\n",
       "      <th>mean</th>\n",
       "      <td>74327.500000</td>\n",
       "      <td>74768.321972</td>\n",
       "      <td>93692.554811</td>\n",
       "      <td>2012.522643</td>\n",
       "      <td>NaN</td>\n",
       "    </tr>\n",
       "    <tr>\n",
       "      <th>std</th>\n",
       "      <td>42912.857795</td>\n",
       "      <td>50517.005274</td>\n",
       "      <td>62793.533483</td>\n",
       "      <td>1.117538</td>\n",
       "      <td>NaN</td>\n",
       "    </tr>\n",
       "    <tr>\n",
       "      <th>min</th>\n",
       "      <td>1.000000</td>\n",
       "      <td>-618.130000</td>\n",
       "      <td>-618.130000</td>\n",
       "      <td>2011.000000</td>\n",
       "      <td>NaN</td>\n",
       "    </tr>\n",
       "    <tr>\n",
       "      <th>25%</th>\n",
       "      <td>37164.250000</td>\n",
       "      <td>36168.995000</td>\n",
       "      <td>44065.650000</td>\n",
       "      <td>2012.000000</td>\n",
       "      <td>NaN</td>\n",
       "    </tr>\n",
       "    <tr>\n",
       "      <th>50%</th>\n",
       "      <td>74327.500000</td>\n",
       "      <td>71426.610000</td>\n",
       "      <td>92404.090000</td>\n",
       "      <td>2013.000000</td>\n",
       "      <td>NaN</td>\n",
       "    </tr>\n",
       "    <tr>\n",
       "      <th>75%</th>\n",
       "      <td>111490.750000</td>\n",
       "      <td>105839.135000</td>\n",
       "      <td>132876.450000</td>\n",
       "      <td>2014.000000</td>\n",
       "      <td>NaN</td>\n",
       "    </tr>\n",
       "    <tr>\n",
       "      <th>max</th>\n",
       "      <td>148654.000000</td>\n",
       "      <td>567595.430000</td>\n",
       "      <td>567595.430000</td>\n",
       "      <td>2014.000000</td>\n",
       "      <td>NaN</td>\n",
       "    </tr>\n",
       "  </tbody>\n",
       "</table>\n",
       "</div>"
      ],
      "text/plain": [
       "                  Id       TotalPay  TotalPayBenefits           Year  Notes\n",
       "count  148654.000000  148654.000000     148654.000000  148654.000000    0.0\n",
       "mean    74327.500000   74768.321972      93692.554811    2012.522643    NaN\n",
       "std     42912.857795   50517.005274      62793.533483       1.117538    NaN\n",
       "min         1.000000    -618.130000       -618.130000    2011.000000    NaN\n",
       "25%     37164.250000   36168.995000      44065.650000    2012.000000    NaN\n",
       "50%     74327.500000   71426.610000      92404.090000    2013.000000    NaN\n",
       "75%    111490.750000  105839.135000     132876.450000    2014.000000    NaN\n",
       "max    148654.000000  567595.430000     567595.430000    2014.000000    NaN"
      ]
     },
     "execution_count": 54,
     "metadata": {},
     "output_type": "execute_result"
    }
   ],
   "source": [
    "sal.describe()"
   ]
  },
  {
   "cell_type": "code",
   "execution_count": 55,
   "id": "cd81fa94-5ad0-4d56-a828-5ab80fafb2ba",
   "metadata": {
    "scrolled": true
   },
   "outputs": [
    {
     "data": {
      "text/html": [
       "<div>\n",
       "<style scoped>\n",
       "    .dataframe tbody tr th:only-of-type {\n",
       "        vertical-align: middle;\n",
       "    }\n",
       "\n",
       "    .dataframe tbody tr th {\n",
       "        vertical-align: top;\n",
       "    }\n",
       "\n",
       "    .dataframe thead th {\n",
       "        text-align: right;\n",
       "    }\n",
       "</style>\n",
       "<table border=\"1\" class=\"dataframe\">\n",
       "  <thead>\n",
       "    <tr style=\"text-align: right;\">\n",
       "      <th></th>\n",
       "      <th>Id</th>\n",
       "      <th>EmployeeName</th>\n",
       "      <th>JobTitle</th>\n",
       "      <th>BasePay</th>\n",
       "      <th>OvertimePay</th>\n",
       "      <th>OtherPay</th>\n",
       "      <th>Benefits</th>\n",
       "      <th>TotalPay</th>\n",
       "      <th>TotalPayBenefits</th>\n",
       "      <th>Year</th>\n",
       "      <th>Notes</th>\n",
       "      <th>Agency</th>\n",
       "      <th>Status</th>\n",
       "    </tr>\n",
       "  </thead>\n",
       "  <tbody>\n",
       "    <tr>\n",
       "      <th>0</th>\n",
       "      <td>1</td>\n",
       "      <td>NATHANIEL FORD</td>\n",
       "      <td>GENERAL MANAGER-METROPOLITAN TRANSIT AUTHORITY</td>\n",
       "      <td>167411.18</td>\n",
       "      <td>0.0</td>\n",
       "      <td>400184.25</td>\n",
       "      <td>NaN</td>\n",
       "      <td>567595.43</td>\n",
       "      <td>567595.43</td>\n",
       "      <td>2011</td>\n",
       "      <td>NaN</td>\n",
       "      <td>San Francisco</td>\n",
       "      <td>NaN</td>\n",
       "    </tr>\n",
       "    <tr>\n",
       "      <th>1</th>\n",
       "      <td>2</td>\n",
       "      <td>GARY JIMENEZ</td>\n",
       "      <td>CAPTAIN III (POLICE DEPARTMENT)</td>\n",
       "      <td>155966.02</td>\n",
       "      <td>245131.88</td>\n",
       "      <td>137811.38</td>\n",
       "      <td>NaN</td>\n",
       "      <td>538909.28</td>\n",
       "      <td>538909.28</td>\n",
       "      <td>2011</td>\n",
       "      <td>NaN</td>\n",
       "      <td>San Francisco</td>\n",
       "      <td>NaN</td>\n",
       "    </tr>\n",
       "    <tr>\n",
       "      <th>2</th>\n",
       "      <td>3</td>\n",
       "      <td>ALBERT PARDINI</td>\n",
       "      <td>CAPTAIN III (POLICE DEPARTMENT)</td>\n",
       "      <td>212739.13</td>\n",
       "      <td>106088.18</td>\n",
       "      <td>16452.6</td>\n",
       "      <td>NaN</td>\n",
       "      <td>335279.91</td>\n",
       "      <td>335279.91</td>\n",
       "      <td>2011</td>\n",
       "      <td>NaN</td>\n",
       "      <td>San Francisco</td>\n",
       "      <td>NaN</td>\n",
       "    </tr>\n",
       "    <tr>\n",
       "      <th>3</th>\n",
       "      <td>4</td>\n",
       "      <td>CHRISTOPHER CHONG</td>\n",
       "      <td>WIRE ROPE CABLE MAINTENANCE MECHANIC</td>\n",
       "      <td>77916.0</td>\n",
       "      <td>56120.71</td>\n",
       "      <td>198306.9</td>\n",
       "      <td>NaN</td>\n",
       "      <td>332343.61</td>\n",
       "      <td>332343.61</td>\n",
       "      <td>2011</td>\n",
       "      <td>NaN</td>\n",
       "      <td>San Francisco</td>\n",
       "      <td>NaN</td>\n",
       "    </tr>\n",
       "    <tr>\n",
       "      <th>4</th>\n",
       "      <td>5</td>\n",
       "      <td>PATRICK GARDNER</td>\n",
       "      <td>DEPUTY CHIEF OF DEPARTMENT,(FIRE DEPARTMENT)</td>\n",
       "      <td>134401.6</td>\n",
       "      <td>9737.0</td>\n",
       "      <td>182234.59</td>\n",
       "      <td>NaN</td>\n",
       "      <td>326373.19</td>\n",
       "      <td>326373.19</td>\n",
       "      <td>2011</td>\n",
       "      <td>NaN</td>\n",
       "      <td>San Francisco</td>\n",
       "      <td>NaN</td>\n",
       "    </tr>\n",
       "  </tbody>\n",
       "</table>\n",
       "</div>"
      ],
      "text/plain": [
       "   Id       EmployeeName                                        JobTitle  \\\n",
       "0   1     NATHANIEL FORD  GENERAL MANAGER-METROPOLITAN TRANSIT AUTHORITY   \n",
       "1   2       GARY JIMENEZ                 CAPTAIN III (POLICE DEPARTMENT)   \n",
       "2   3     ALBERT PARDINI                 CAPTAIN III (POLICE DEPARTMENT)   \n",
       "3   4  CHRISTOPHER CHONG            WIRE ROPE CABLE MAINTENANCE MECHANIC   \n",
       "4   5    PATRICK GARDNER    DEPUTY CHIEF OF DEPARTMENT,(FIRE DEPARTMENT)   \n",
       "\n",
       "     BasePay OvertimePay   OtherPay Benefits   TotalPay  TotalPayBenefits  \\\n",
       "0  167411.18         0.0  400184.25      NaN  567595.43         567595.43   \n",
       "1  155966.02   245131.88  137811.38      NaN  538909.28         538909.28   \n",
       "2  212739.13   106088.18    16452.6      NaN  335279.91         335279.91   \n",
       "3    77916.0    56120.71   198306.9      NaN  332343.61         332343.61   \n",
       "4   134401.6      9737.0  182234.59      NaN  326373.19         326373.19   \n",
       "\n",
       "   Year  Notes         Agency Status  \n",
       "0  2011    NaN  San Francisco    NaN  \n",
       "1  2011    NaN  San Francisco    NaN  \n",
       "2  2011    NaN  San Francisco    NaN  \n",
       "3  2011    NaN  San Francisco    NaN  \n",
       "4  2011    NaN  San Francisco    NaN  "
      ]
     },
     "execution_count": 55,
     "metadata": {},
     "output_type": "execute_result"
    }
   ],
   "source": [
    "sal.head()"
   ]
  },
  {
   "cell_type": "code",
   "execution_count": 56,
   "id": "fa2c92a9-5a22-4c92-a4b7-b2e2cfca2476",
   "metadata": {},
   "outputs": [
    {
     "data": {
      "text/html": [
       "<div>\n",
       "<style scoped>\n",
       "    .dataframe tbody tr th:only-of-type {\n",
       "        vertical-align: middle;\n",
       "    }\n",
       "\n",
       "    .dataframe tbody tr th {\n",
       "        vertical-align: top;\n",
       "    }\n",
       "\n",
       "    .dataframe thead th {\n",
       "        text-align: right;\n",
       "    }\n",
       "</style>\n",
       "<table border=\"1\" class=\"dataframe\">\n",
       "  <thead>\n",
       "    <tr style=\"text-align: right;\">\n",
       "      <th></th>\n",
       "      <th>Id</th>\n",
       "      <th>EmployeeName</th>\n",
       "      <th>JobTitle</th>\n",
       "      <th>BasePay</th>\n",
       "      <th>OvertimePay</th>\n",
       "      <th>OtherPay</th>\n",
       "      <th>Benefits</th>\n",
       "      <th>TotalPay</th>\n",
       "      <th>TotalPayBenefits</th>\n",
       "      <th>Year</th>\n",
       "      <th>Notes</th>\n",
       "      <th>Agency</th>\n",
       "      <th>Status</th>\n",
       "    </tr>\n",
       "  </thead>\n",
       "  <tbody>\n",
       "    <tr>\n",
       "      <th>148649</th>\n",
       "      <td>148650</td>\n",
       "      <td>Roy I Tillery</td>\n",
       "      <td>Custodian</td>\n",
       "      <td>0.00</td>\n",
       "      <td>0.00</td>\n",
       "      <td>0.00</td>\n",
       "      <td>0.00</td>\n",
       "      <td>0.00</td>\n",
       "      <td>0.00</td>\n",
       "      <td>2014</td>\n",
       "      <td>NaN</td>\n",
       "      <td>San Francisco</td>\n",
       "      <td>PT</td>\n",
       "    </tr>\n",
       "    <tr>\n",
       "      <th>148650</th>\n",
       "      <td>148651</td>\n",
       "      <td>Not provided</td>\n",
       "      <td>Not provided</td>\n",
       "      <td>Not Provided</td>\n",
       "      <td>Not Provided</td>\n",
       "      <td>Not Provided</td>\n",
       "      <td>Not Provided</td>\n",
       "      <td>0.00</td>\n",
       "      <td>0.00</td>\n",
       "      <td>2014</td>\n",
       "      <td>NaN</td>\n",
       "      <td>San Francisco</td>\n",
       "      <td>NaN</td>\n",
       "    </tr>\n",
       "    <tr>\n",
       "      <th>148651</th>\n",
       "      <td>148652</td>\n",
       "      <td>Not provided</td>\n",
       "      <td>Not provided</td>\n",
       "      <td>Not Provided</td>\n",
       "      <td>Not Provided</td>\n",
       "      <td>Not Provided</td>\n",
       "      <td>Not Provided</td>\n",
       "      <td>0.00</td>\n",
       "      <td>0.00</td>\n",
       "      <td>2014</td>\n",
       "      <td>NaN</td>\n",
       "      <td>San Francisco</td>\n",
       "      <td>NaN</td>\n",
       "    </tr>\n",
       "    <tr>\n",
       "      <th>148652</th>\n",
       "      <td>148653</td>\n",
       "      <td>Not provided</td>\n",
       "      <td>Not provided</td>\n",
       "      <td>Not Provided</td>\n",
       "      <td>Not Provided</td>\n",
       "      <td>Not Provided</td>\n",
       "      <td>Not Provided</td>\n",
       "      <td>0.00</td>\n",
       "      <td>0.00</td>\n",
       "      <td>2014</td>\n",
       "      <td>NaN</td>\n",
       "      <td>San Francisco</td>\n",
       "      <td>NaN</td>\n",
       "    </tr>\n",
       "    <tr>\n",
       "      <th>148653</th>\n",
       "      <td>148654</td>\n",
       "      <td>Joe Lopez</td>\n",
       "      <td>Counselor, Log Cabin Ranch</td>\n",
       "      <td>0.00</td>\n",
       "      <td>0.00</td>\n",
       "      <td>-618.13</td>\n",
       "      <td>0.00</td>\n",
       "      <td>-618.13</td>\n",
       "      <td>-618.13</td>\n",
       "      <td>2014</td>\n",
       "      <td>NaN</td>\n",
       "      <td>San Francisco</td>\n",
       "      <td>PT</td>\n",
       "    </tr>\n",
       "  </tbody>\n",
       "</table>\n",
       "</div>"
      ],
      "text/plain": [
       "            Id   EmployeeName                    JobTitle       BasePay  \\\n",
       "148649  148650  Roy I Tillery                   Custodian          0.00   \n",
       "148650  148651   Not provided                Not provided  Not Provided   \n",
       "148651  148652   Not provided                Not provided  Not Provided   \n",
       "148652  148653   Not provided                Not provided  Not Provided   \n",
       "148653  148654      Joe Lopez  Counselor, Log Cabin Ranch          0.00   \n",
       "\n",
       "         OvertimePay      OtherPay      Benefits  TotalPay  TotalPayBenefits  \\\n",
       "148649          0.00          0.00          0.00      0.00              0.00   \n",
       "148650  Not Provided  Not Provided  Not Provided      0.00              0.00   \n",
       "148651  Not Provided  Not Provided  Not Provided      0.00              0.00   \n",
       "148652  Not Provided  Not Provided  Not Provided      0.00              0.00   \n",
       "148653          0.00       -618.13          0.00   -618.13           -618.13   \n",
       "\n",
       "        Year  Notes         Agency Status  \n",
       "148649  2014    NaN  San Francisco     PT  \n",
       "148650  2014    NaN  San Francisco    NaN  \n",
       "148651  2014    NaN  San Francisco    NaN  \n",
       "148652  2014    NaN  San Francisco    NaN  \n",
       "148653  2014    NaN  San Francisco     PT  "
      ]
     },
     "execution_count": 56,
     "metadata": {},
     "output_type": "execute_result"
    }
   ],
   "source": [
    "sal.tail()"
   ]
  },
  {
   "cell_type": "code",
   "execution_count": 57,
   "id": "0a267bcc-3f5d-4158-96fb-e088c466d89a",
   "metadata": {},
   "outputs": [
    {
     "data": {
      "text/plain": [
       "(148654, 13)"
      ]
     },
     "execution_count": 57,
     "metadata": {},
     "output_type": "execute_result"
    }
   ],
   "source": [
    "sal.shape"
   ]
  },
  {
   "cell_type": "code",
   "execution_count": 58,
   "id": "2c074b88-aa4d-42e4-a6cb-db402d776cb7",
   "metadata": {},
   "outputs": [
    {
     "data": {
      "text/plain": [
       "Index(['Id', 'EmployeeName', 'JobTitle', 'BasePay', 'OvertimePay', 'OtherPay',\n",
       "       'Benefits', 'TotalPay', 'TotalPayBenefits', 'Year', 'Notes', 'Agency',\n",
       "       'Status'],\n",
       "      dtype='object')"
      ]
     },
     "execution_count": 58,
     "metadata": {},
     "output_type": "execute_result"
    }
   ],
   "source": [
    "sal.columns"
   ]
  },
  {
   "cell_type": "code",
   "execution_count": 59,
   "id": "a7356869-162d-4549-bff3-cf12ae30f5e7",
   "metadata": {
    "scrolled": true
   },
   "outputs": [
    {
     "name": "stdout",
     "output_type": "stream",
     "text": [
      "<class 'pandas.core.frame.DataFrame'>\n",
      "RangeIndex: 148654 entries, 0 to 148653\n",
      "Data columns (total 13 columns):\n",
      " #   Column            Non-Null Count   Dtype  \n",
      "---  ------            --------------   -----  \n",
      " 0   Id                148654 non-null  int64  \n",
      " 1   EmployeeName      148654 non-null  object \n",
      " 2   JobTitle          148654 non-null  object \n",
      " 3   BasePay           148049 non-null  object \n",
      " 4   OvertimePay       148654 non-null  object \n",
      " 5   OtherPay          148654 non-null  object \n",
      " 6   Benefits          112495 non-null  object \n",
      " 7   TotalPay          148654 non-null  float64\n",
      " 8   TotalPayBenefits  148654 non-null  float64\n",
      " 9   Year              148654 non-null  int64  \n",
      " 10  Notes             0 non-null       float64\n",
      " 11  Agency            148654 non-null  object \n",
      " 12  Status            38119 non-null   object \n",
      "dtypes: float64(3), int64(2), object(8)\n",
      "memory usage: 14.7+ MB\n"
     ]
    }
   ],
   "source": [
    "sal.info()"
   ]
  },
  {
   "cell_type": "markdown",
   "id": "175be227-2c56-4f9a-bd6a-359ffcab355b",
   "metadata": {},
   "source": [
    "---\n",
    "## Handling Missing Values\n",
    "---\n",
    "- `isnull()` - selects NaN or None\n",
    "- `notnull()` - opposite \n",
    "- `dropna()` - removes entire row\n",
    "    - `dropna(axis = 1)` - removes entire column\n",
    "    - `dropna(thresh=2)` - removes data if data >= 2\n",
    "- `fillna(value = 0)`\n",
    "    - `fillna(df.marks.mean())`\n",
    "    - `fillna(method = 'ffill')` - ffill - forward filling - previous value to NaN\n",
    "    - `fillna(method = 'bfill')` - ffill - backward filling - next value to NaN\n",
    "    - `fillna(method = 'pad')` -\n",
    "- eg: `df.replace(toreplace = 'Not Provided', 'NaN')`\n",
    "#### Interpolation - process of determining unknown data points between two known data points."
   ]
  },
  {
   "cell_type": "code",
   "execution_count": 60,
   "id": "9a99994a-1c93-43c3-bfd2-416c4f438be4",
   "metadata": {},
   "outputs": [],
   "source": [
    "#fill nan with 0\n",
    "sal = sal.fillna(0)"
   ]
  },
  {
   "cell_type": "code",
   "execution_count": 61,
   "id": "8eb5a319-fd76-489a-a529-b6bea565e64c",
   "metadata": {},
   "outputs": [],
   "source": [
    "#convert non zero to 0\n",
    "sal['OtherPay'] = sal['OtherPay'].replace('Not Provided', '0.00')\n",
    "sal['BasePay'] = sal['BasePay'].replace('Not Provided', '0.00')\n",
    "sal['OvertimePay'] = sal['OvertimePay'].replace('Not Provided', '0.00')\n",
    "sal['Benefits'] = sal['Benefits'].replace('Not Provided', '0.00')\n",
    "sal['OtherPay'] = sal['OtherPay'].astype(float)\n",
    "sal['BasePay'] = sal['BasePay'].astype(float)\n",
    "sal['OvertimePay'] = sal['OvertimePay'].astype(float)\n",
    "sal['Benefits'] = sal['Benefits'].astype(float)"
   ]
  },
  {
   "cell_type": "code",
   "execution_count": 62,
   "id": "5008dc78-d727-46f5-9f05-f98cb556a475",
   "metadata": {},
   "outputs": [
    {
     "data": {
      "text/plain": [
       "Id                    int64\n",
       "EmployeeName         object\n",
       "JobTitle             object\n",
       "BasePay             float64\n",
       "OvertimePay         float64\n",
       "OtherPay            float64\n",
       "Benefits            float64\n",
       "TotalPay            float64\n",
       "TotalPayBenefits    float64\n",
       "Year                  int64\n",
       "Notes               float64\n",
       "Agency               object\n",
       "Status               object\n",
       "dtype: object"
      ]
     },
     "execution_count": 62,
     "metadata": {},
     "output_type": "execute_result"
    }
   ],
   "source": [
    "sal.dtypes"
   ]
  },
  {
   "cell_type": "markdown",
   "id": "5156f2d1-b9eb-4f7d-817a-0de2f0387962",
   "metadata": {},
   "source": [
    "# Tasks "
   ]
  },
  {
   "cell_type": "markdown",
   "id": "9f8ba433-6992-4f18-a2e3-30ca28ed474e",
   "metadata": {},
   "source": [
    "### 1. Import pandas as pd."
   ]
  },
  {
   "cell_type": "code",
   "execution_count": 63,
   "id": "92d41d11-64f6-49a4-a50c-c2ef86e4bdc5",
   "metadata": {},
   "outputs": [],
   "source": [
    "import pandas as pd"
   ]
  },
  {
   "cell_type": "markdown",
   "id": "54d4a4c1-a4c0-424f-acb8-254b6ccf40ba",
   "metadata": {},
   "source": [
    "### 2. Read Salaries.cs as a dataframe called sal."
   ]
  },
  {
   "cell_type": "code",
   "execution_count": 64,
   "id": "959d479e-55b8-474e-a788-9f3bd5dd7a5b",
   "metadata": {},
   "outputs": [],
   "source": [
    "#sal69 = pd.read_csv('datasets/Salaries.csv', low_memory = False)"
   ]
  },
  {
   "cell_type": "markdown",
   "id": "ff106a52-3d8b-40f5-8897-fb3550e57f3b",
   "metadata": {},
   "source": [
    "### 3. Check the head of the DataFrame."
   ]
  },
  {
   "cell_type": "code",
   "execution_count": 65,
   "id": "ba1ce707-e814-492c-8417-f77d09317b0b",
   "metadata": {
    "scrolled": true
   },
   "outputs": [
    {
     "data": {
      "text/html": [
       "<div>\n",
       "<style scoped>\n",
       "    .dataframe tbody tr th:only-of-type {\n",
       "        vertical-align: middle;\n",
       "    }\n",
       "\n",
       "    .dataframe tbody tr th {\n",
       "        vertical-align: top;\n",
       "    }\n",
       "\n",
       "    .dataframe thead th {\n",
       "        text-align: right;\n",
       "    }\n",
       "</style>\n",
       "<table border=\"1\" class=\"dataframe\">\n",
       "  <thead>\n",
       "    <tr style=\"text-align: right;\">\n",
       "      <th></th>\n",
       "      <th>Id</th>\n",
       "      <th>EmployeeName</th>\n",
       "      <th>JobTitle</th>\n",
       "      <th>BasePay</th>\n",
       "      <th>OvertimePay</th>\n",
       "      <th>OtherPay</th>\n",
       "      <th>Benefits</th>\n",
       "      <th>TotalPay</th>\n",
       "      <th>TotalPayBenefits</th>\n",
       "      <th>Year</th>\n",
       "      <th>Notes</th>\n",
       "      <th>Agency</th>\n",
       "      <th>Status</th>\n",
       "    </tr>\n",
       "  </thead>\n",
       "  <tbody>\n",
       "    <tr>\n",
       "      <th>0</th>\n",
       "      <td>1</td>\n",
       "      <td>NATHANIEL FORD</td>\n",
       "      <td>GENERAL MANAGER-METROPOLITAN TRANSIT AUTHORITY</td>\n",
       "      <td>167411.18</td>\n",
       "      <td>0.00</td>\n",
       "      <td>400184.25</td>\n",
       "      <td>0.0</td>\n",
       "      <td>567595.43</td>\n",
       "      <td>567595.43</td>\n",
       "      <td>2011</td>\n",
       "      <td>0.0</td>\n",
       "      <td>San Francisco</td>\n",
       "      <td>0</td>\n",
       "    </tr>\n",
       "    <tr>\n",
       "      <th>1</th>\n",
       "      <td>2</td>\n",
       "      <td>GARY JIMENEZ</td>\n",
       "      <td>CAPTAIN III (POLICE DEPARTMENT)</td>\n",
       "      <td>155966.02</td>\n",
       "      <td>245131.88</td>\n",
       "      <td>137811.38</td>\n",
       "      <td>0.0</td>\n",
       "      <td>538909.28</td>\n",
       "      <td>538909.28</td>\n",
       "      <td>2011</td>\n",
       "      <td>0.0</td>\n",
       "      <td>San Francisco</td>\n",
       "      <td>0</td>\n",
       "    </tr>\n",
       "    <tr>\n",
       "      <th>2</th>\n",
       "      <td>3</td>\n",
       "      <td>ALBERT PARDINI</td>\n",
       "      <td>CAPTAIN III (POLICE DEPARTMENT)</td>\n",
       "      <td>212739.13</td>\n",
       "      <td>106088.18</td>\n",
       "      <td>16452.60</td>\n",
       "      <td>0.0</td>\n",
       "      <td>335279.91</td>\n",
       "      <td>335279.91</td>\n",
       "      <td>2011</td>\n",
       "      <td>0.0</td>\n",
       "      <td>San Francisco</td>\n",
       "      <td>0</td>\n",
       "    </tr>\n",
       "    <tr>\n",
       "      <th>3</th>\n",
       "      <td>4</td>\n",
       "      <td>CHRISTOPHER CHONG</td>\n",
       "      <td>WIRE ROPE CABLE MAINTENANCE MECHANIC</td>\n",
       "      <td>77916.00</td>\n",
       "      <td>56120.71</td>\n",
       "      <td>198306.90</td>\n",
       "      <td>0.0</td>\n",
       "      <td>332343.61</td>\n",
       "      <td>332343.61</td>\n",
       "      <td>2011</td>\n",
       "      <td>0.0</td>\n",
       "      <td>San Francisco</td>\n",
       "      <td>0</td>\n",
       "    </tr>\n",
       "    <tr>\n",
       "      <th>4</th>\n",
       "      <td>5</td>\n",
       "      <td>PATRICK GARDNER</td>\n",
       "      <td>DEPUTY CHIEF OF DEPARTMENT,(FIRE DEPARTMENT)</td>\n",
       "      <td>134401.60</td>\n",
       "      <td>9737.00</td>\n",
       "      <td>182234.59</td>\n",
       "      <td>0.0</td>\n",
       "      <td>326373.19</td>\n",
       "      <td>326373.19</td>\n",
       "      <td>2011</td>\n",
       "      <td>0.0</td>\n",
       "      <td>San Francisco</td>\n",
       "      <td>0</td>\n",
       "    </tr>\n",
       "  </tbody>\n",
       "</table>\n",
       "</div>"
      ],
      "text/plain": [
       "   Id       EmployeeName                                        JobTitle  \\\n",
       "0   1     NATHANIEL FORD  GENERAL MANAGER-METROPOLITAN TRANSIT AUTHORITY   \n",
       "1   2       GARY JIMENEZ                 CAPTAIN III (POLICE DEPARTMENT)   \n",
       "2   3     ALBERT PARDINI                 CAPTAIN III (POLICE DEPARTMENT)   \n",
       "3   4  CHRISTOPHER CHONG            WIRE ROPE CABLE MAINTENANCE MECHANIC   \n",
       "4   5    PATRICK GARDNER    DEPUTY CHIEF OF DEPARTMENT,(FIRE DEPARTMENT)   \n",
       "\n",
       "     BasePay  OvertimePay   OtherPay  Benefits   TotalPay  TotalPayBenefits  \\\n",
       "0  167411.18         0.00  400184.25       0.0  567595.43         567595.43   \n",
       "1  155966.02    245131.88  137811.38       0.0  538909.28         538909.28   \n",
       "2  212739.13    106088.18   16452.60       0.0  335279.91         335279.91   \n",
       "3   77916.00     56120.71  198306.90       0.0  332343.61         332343.61   \n",
       "4  134401.60      9737.00  182234.59       0.0  326373.19         326373.19   \n",
       "\n",
       "   Year  Notes         Agency Status  \n",
       "0  2011    0.0  San Francisco      0  \n",
       "1  2011    0.0  San Francisco      0  \n",
       "2  2011    0.0  San Francisco      0  \n",
       "3  2011    0.0  San Francisco      0  \n",
       "4  2011    0.0  San Francisco      0  "
      ]
     },
     "execution_count": 65,
     "metadata": {},
     "output_type": "execute_result"
    }
   ],
   "source": [
    "sal.head()"
   ]
  },
  {
   "cell_type": "markdown",
   "id": "be8a6da7-03b7-43f2-a47b-417c7873e769",
   "metadata": {},
   "source": [
    "### 4. Use the info() method to find out how many entries there are."
   ]
  },
  {
   "cell_type": "code",
   "execution_count": 66,
   "id": "9302b26e-5448-4476-9e85-8004d63b0cad",
   "metadata": {
    "scrolled": true
   },
   "outputs": [
    {
     "name": "stdout",
     "output_type": "stream",
     "text": [
      "<class 'pandas.core.frame.DataFrame'>\n",
      "RangeIndex: 148654 entries, 0 to 148653\n",
      "Data columns (total 13 columns):\n",
      " #   Column            Non-Null Count   Dtype  \n",
      "---  ------            --------------   -----  \n",
      " 0   Id                148654 non-null  int64  \n",
      " 1   EmployeeName      148654 non-null  object \n",
      " 2   JobTitle          148654 non-null  object \n",
      " 3   BasePay           148654 non-null  float64\n",
      " 4   OvertimePay       148654 non-null  float64\n",
      " 5   OtherPay          148654 non-null  float64\n",
      " 6   Benefits          148654 non-null  float64\n",
      " 7   TotalPay          148654 non-null  float64\n",
      " 8   TotalPayBenefits  148654 non-null  float64\n",
      " 9   Year              148654 non-null  int64  \n",
      " 10  Notes             148654 non-null  float64\n",
      " 11  Agency            148654 non-null  object \n",
      " 12  Status            148654 non-null  object \n",
      "dtypes: float64(7), int64(2), object(4)\n",
      "memory usage: 14.7+ MB\n"
     ]
    }
   ],
   "source": [
    "sal.info()"
   ]
  },
  {
   "cell_type": "markdown",
   "id": "3560aa67-57b5-4c2f-a195-9d7af892e952",
   "metadata": {},
   "source": [
    "### 5. What is the average BasePay ?"
   ]
  },
  {
   "cell_type": "code",
   "execution_count": 67,
   "id": "b3e3f3dd-ae52-4a92-a7a2-ed29e3a34053",
   "metadata": {},
   "outputs": [
    {
     "data": {
      "text/plain": [
       "66053.72928807836"
      ]
     },
     "execution_count": 67,
     "metadata": {},
     "output_type": "execute_result"
    }
   ],
   "source": [
    "sal['BasePay'].mean()"
   ]
  },
  {
   "cell_type": "markdown",
   "id": "0091e442-4eff-4b83-814a-2b337ffcfb40",
   "metadata": {},
   "source": [
    "### 6. What is the highest amount of OvertimePay in the dataset ?"
   ]
  },
  {
   "cell_type": "code",
   "execution_count": 68,
   "id": "e9e1e724-da8c-4852-83f6-8b5e2d4ebe64",
   "metadata": {},
   "outputs": [
    {
     "data": {
      "text/plain": [
       "245131.88"
      ]
     },
     "execution_count": 68,
     "metadata": {},
     "output_type": "execute_result"
    }
   ],
   "source": [
    "sal['OvertimePay'].max()"
   ]
  },
  {
   "cell_type": "markdown",
   "id": "4234261d-e364-4902-bd57-f2e3a68c6b96",
   "metadata": {},
   "source": [
    "### 7. What is the job title of JOSEPH DRISCOLL? Note: Use all caps, otherwise you may get an answer that doesn't match up (there is also a lowercase Joseph Driscoll)."
   ]
  },
  {
   "cell_type": "code",
   "execution_count": 69,
   "id": "5633956e-fbe5-408b-9bf6-303e9cb7bffa",
   "metadata": {},
   "outputs": [
    {
     "data": {
      "text/plain": [
       "24    CAPTAIN, FIRE SUPPRESSION\n",
       "Name: JobTitle, dtype: object"
      ]
     },
     "execution_count": 69,
     "metadata": {},
     "output_type": "execute_result"
    }
   ],
   "source": [
    "sal[sal['EmployeeName']=='JOSEPH DRISCOLL']['JobTitle']"
   ]
  },
  {
   "cell_type": "markdown",
   "id": "143c3c9d-b0b6-48c6-8e73-7d0030e55c75",
   "metadata": {},
   "source": [
    "### 8. How much does JOSEPH DRISCOLL make (including benefits)?"
   ]
  },
  {
   "cell_type": "code",
   "execution_count": 70,
   "id": "f7e79853-9bcd-4275-a257-116a62af81b7",
   "metadata": {},
   "outputs": [
    {
     "name": "stdout",
     "output_type": "stream",
     "text": [
      "Joseph Driscoll's Total Pay including benefits: 270324.91\n"
     ]
    }
   ],
   "source": [
    "print(\"Joseph Driscoll's Total Pay including benefits:\",sum(sal[sal['EmployeeName']=='JOSEPH DRISCOLL']['TotalPayBenefits']))"
   ]
  },
  {
   "cell_type": "markdown",
   "id": "5e88add0-c2f9-40fd-9768-99e0d9d97d2d",
   "metadata": {},
   "source": [
    "### 9. What is the name of highest paid person (including benefits)?"
   ]
  },
  {
   "cell_type": "code",
   "execution_count": 71,
   "id": "b6e53206-db33-4783-b28f-ba3fa1aecbdf",
   "metadata": {},
   "outputs": [
    {
     "data": {
      "text/plain": [
       "0    NATHANIEL FORD\n",
       "Name: EmployeeName, dtype: object"
      ]
     },
     "execution_count": 71,
     "metadata": {},
     "output_type": "execute_result"
    }
   ],
   "source": [
    "sal[sal['TotalPayBenefits']==sal['TotalPayBenefits'].max()]['EmployeeName']"
   ]
  },
  {
   "cell_type": "markdown",
   "id": "be625110-e404-425e-8fb2-d95ed90fe4b9",
   "metadata": {},
   "source": [
    "### 10. What is the name of lowest paid person (including benefits)? Do you notice something strange about how much he or she is paid?"
   ]
  },
  {
   "cell_type": "code",
   "execution_count": 72,
   "id": "db764e6c-e8d1-4b07-b40d-5f922b7b9a23",
   "metadata": {},
   "outputs": [
    {
     "data": {
      "text/plain": [
       "148653    Joe Lopez\n",
       "Name: EmployeeName, dtype: object"
      ]
     },
     "execution_count": 72,
     "metadata": {},
     "output_type": "execute_result"
    }
   ],
   "source": [
    "sal[sal['TotalPayBenefits']==sal['TotalPayBenefits'].min()]['EmployeeName']"
   ]
  },
  {
   "cell_type": "markdown",
   "id": "b0e65929-00b7-497c-a423-306c0dfd656f",
   "metadata": {},
   "source": [
    "### 11. What was the average (mean) BasePay of all employees per year? (2011-2014) ?"
   ]
  },
  {
   "cell_type": "code",
   "execution_count": 73,
   "id": "b3e2dd1f-ba9a-42f8-b495-51ea8f4dadf4",
   "metadata": {},
   "outputs": [
    {
     "data": {
      "text/plain": [
       "Year\n",
       "2011    63595.956517\n",
       "2012    65436.406857\n",
       "2013    68509.832156\n",
       "2014    66557.437750\n",
       "Name: BasePay, dtype: float64"
      ]
     },
     "execution_count": 73,
     "metadata": {},
     "output_type": "execute_result"
    }
   ],
   "source": [
    "sal.groupby('Year')['BasePay'].mean()"
   ]
  },
  {
   "cell_type": "markdown",
   "id": "857034ee-e185-44b0-a025-3437b7f50224",
   "metadata": {},
   "source": [
    "### 12. How many unique job titles are there?"
   ]
  },
  {
   "cell_type": "code",
   "execution_count": 74,
   "id": "6cfd39f5-2d7a-4f20-80c9-d0dc84e38951",
   "metadata": {},
   "outputs": [
    {
     "data": {
      "text/plain": [
       "2159"
      ]
     },
     "execution_count": 74,
     "metadata": {},
     "output_type": "execute_result"
    }
   ],
   "source": [
    "sal['JobTitle'].nunique()"
   ]
  },
  {
   "cell_type": "markdown",
   "id": "acf50937-fab6-46b5-b3fa-33d8899ad85d",
   "metadata": {},
   "source": [
    "### 13. What are the top 5 most common jobs?"
   ]
  },
  {
   "cell_type": "code",
   "execution_count": 75,
   "id": "1195eb89-d539-445d-829f-fa29e3bf3853",
   "metadata": {},
   "outputs": [
    {
     "data": {
      "text/plain": [
       "JobTitle\n",
       "Transit Operator                7036\n",
       "Special Nurse                   4389\n",
       "Registered Nurse                3736\n",
       "Public Svc Aide-Public Works    2518\n",
       "Police Officer 3                2421\n",
       "Name: count, dtype: int64"
      ]
     },
     "execution_count": 75,
     "metadata": {},
     "output_type": "execute_result"
    }
   ],
   "source": [
    "jobTitleCount = sal['JobTitle'].value_counts()\n",
    "jobTitleCount.nlargest(5)"
   ]
  },
  {
   "cell_type": "markdown",
   "id": "89d33acc-c58b-4787-8b14-3711f9157060",
   "metadata": {},
   "source": [
    "### 14. How many Job Titles were represented by only one person in 2013? (e.g. Job Titles with only one occurence in 2013?)"
   ]
  },
  {
   "cell_type": "code",
   "execution_count": 76,
   "id": "0c387506-5b7d-4d52-bf9a-29e9ae6f99c8",
   "metadata": {},
   "outputs": [
    {
     "data": {
      "text/plain": [
       "202"
      ]
     },
     "execution_count": 76,
     "metadata": {},
     "output_type": "execute_result"
    }
   ],
   "source": [
    "sum(sal[sal['Year'] == 2013]['JobTitle'].value_counts() == 1)"
   ]
  },
  {
   "cell_type": "markdown",
   "id": "a780c2fd-6d84-4e19-9fba-8b7ff65dc7a5",
   "metadata": {},
   "source": [
    "### 15. How many people have the word Chief in their job title?"
   ]
  },
  {
   "cell_type": "code",
   "execution_count": 77,
   "id": "dc170ef9-80da-42dc-9e64-202398eadb62",
   "metadata": {},
   "outputs": [
    {
     "data": {
      "text/plain": [
       "423"
      ]
     },
     "execution_count": 77,
     "metadata": {},
     "output_type": "execute_result"
    }
   ],
   "source": [
    "sal[sal['JobTitle'].str.contains(\"Chief\")].shape[0]"
   ]
  },
  {
   "cell_type": "code",
   "execution_count": 78,
   "id": "84777d93-3b00-44ed-bf84-e2a8bde8c327",
   "metadata": {},
   "outputs": [
    {
     "data": {
      "text/plain": [
       "627"
      ]
     },
     "execution_count": 78,
     "metadata": {},
     "output_type": "execute_result"
    }
   ],
   "source": [
    "sum(sal['JobTitle'].apply(lambda x: 'chief' in x.lower()))"
   ]
  },
  {
   "cell_type": "markdown",
   "id": "ffaae3fd-27f0-4195-9522-2ef42aa8f718",
   "metadata": {},
   "source": [
    "### 16. Is there a correlation between length of the Job Title string and Salary?"
   ]
  },
  {
   "cell_type": "markdown",
   "id": "0030d316-d7c7-49b7-9661-641da1db6662",
   "metadata": {},
   "source": [
    "No"
   ]
  },
  {
   "cell_type": "markdown",
   "id": "273de508-3e6f-40f4-8499-2ede6c613be9",
   "metadata": {},
   "source": [
    "---"
   ]
  }
 ],
 "metadata": {
  "kernelspec": {
   "display_name": "Python 3 (ipykernel)",
   "language": "python",
   "name": "python3"
  },
  "language_info": {
   "codemirror_mode": {
    "name": "ipython",
    "version": 3
   },
   "file_extension": ".py",
   "mimetype": "text/x-python",
   "name": "python",
   "nbconvert_exporter": "python",
   "pygments_lexer": "ipython3",
   "version": "3.11.3"
  }
 },
 "nbformat": 4,
 "nbformat_minor": 5
}
