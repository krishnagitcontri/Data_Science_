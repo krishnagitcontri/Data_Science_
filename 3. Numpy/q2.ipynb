{
 "cells": [
  {
   "cell_type": "markdown",
   "metadata": {},
   "source": [
    "### Question 2 - Lab 3"
   ]
  },
  {
   "cell_type": "code",
   "execution_count": 1,
   "metadata": {},
   "outputs": [
    {
     "name": "stdout",
     "output_type": "stream",
     "text": [
      "12345  Diksha      Diksha r@nuv.ac.in       \n",
      "None\n"
     ]
    }
   ],
   "source": [
    "myDict = {\n",
    "    \"Enrollment Id\" : [12345,45667,16789,69433],\n",
    "    \"Student Name\" : [\"Diksha \",\"Jiva\",\"Ronit\",\"Heena\"],\n",
    "    \"Email Id \": [\"Diksha r@nuv.ac.in\",\"Jiva@nuv.ac.in\",\"Ronitd@nuv.ac.in\", \"Heena@nuv.ac.in\"]\n",
    "}\n",
    "\n",
    "def searchById(id):\n",
    "    for i in range(len(myDict[\"Enrollment Id\"])):\n",
    "        enrollmentID = myDict[\"Enrollment Id\"][i]\n",
    "        sName = myDict[\"Student Name\"][i]\n",
    "        emailID = myDict[\"Email Id \"][i]\n",
    "        if (myDict[\"Enrollment Id\"][i] == id):\n",
    "            print(f\"{enrollmentID:<7}{sName:12}{emailID:25}\")\n",
    "\n",
    "inputID = int(input(\"Enter ID: \"))\n",
    "print(searchById(inputID))"
   ]
  },
  {
   "cell_type": "code",
   "execution_count": null,
   "metadata": {},
   "outputs": [],
   "source": []
  }
 ],
 "metadata": {
  "kernelspec": {
   "display_name": "Python 3",
   "language": "python",
   "name": "python3"
  },
  "language_info": {
   "codemirror_mode": {
    "name": "ipython",
    "version": 3
   },
   "file_extension": ".py",
   "mimetype": "text/x-python",
   "name": "python",
   "nbconvert_exporter": "python",
   "pygments_lexer": "ipython3",
   "version": "3.7.12"
  }
 },
 "nbformat": 4,
 "nbformat_minor": 2
}
