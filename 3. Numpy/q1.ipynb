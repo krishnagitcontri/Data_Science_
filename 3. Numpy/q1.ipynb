{
 "cells": [
  {
   "cell_type": "markdown",
   "metadata": {},
   "source": [
    "### Question 1 Lab - 3"
   ]
  },
  {
   "cell_type": "code",
   "execution_count": 4,
   "metadata": {},
   "outputs": [
    {
     "name": "stdout",
     "output_type": "stream",
     "text": [
      "ID: 12345, NAME: Diksha , EMAIL: Diksha r@nuv.ac.in\n",
      "None\n",
      "ID: 45667, NAME: Jiva, EMAIL: Jiva@nuv.ac.in\n",
      "None\n",
      "None\n"
     ]
    }
   ],
   "source": [
    "# Write a python program to access following data structure\n",
    "# data=[(12345,\"Diksha \",\"Diksha r@nuv.ac.in\"),(45667,\"Jiva\",\"Jiva@nuv.ac.in\"),\n",
    "# (16789,\"Ronit\",\"Ronitd@nuv.ac.in\"),(69433,\"Heena\",\"Heena@nuv.ac.in\")]\n",
    "\n",
    "data = [\n",
    "    (12345,\"Diksha \",\"Diksha r@nuv.ac.in\"),\n",
    "    (45667,\"Jiva\",\"Jiva@nuv.ac.in\"),\n",
    "    (16789,\"Ronit\",\"Ronitd@nuv.ac.in\"),\n",
    "    (69433,\"Heena\",\"Heena@nuv.ac.in\")\n",
    "]\n",
    "\n",
    "def searchById(id):\n",
    "    for i in data:\n",
    "        stuID = i[0]\n",
    "        stuName = i[1]\n",
    "        stuEmail = i[2]\n",
    "        if (i[0] == id):\n",
    "            print(f\"ID: {stuID}, NAME: {stuName}, EMAIL: {stuEmail}\")\n",
    "\n",
    "def searchByName(name):\n",
    "    for i in data:\n",
    "        stuID = i[0]\n",
    "        stuName = i[1]\n",
    "        stuEmail = i[2]\n",
    "        if i[1] == name:\n",
    "            print(f\"ID: {stuID}, NAME: {stuName}, EMAIL: {stuEmail}\")\n",
    "\n",
    "def searchByEmail(email):\n",
    "    for i in data:\n",
    "        stuID = i[0]\n",
    "        stuName = i[1]\n",
    "        stuEmail = i[2]\n",
    "        if i[2] == email:\n",
    "            print(f\"ID: {stuID}, NAME: {stuName}, EMAIL: {stuEmail}\")\n",
    "\n",
    "\n",
    "inputID = int(input(\"Enter ID: \"))\n",
    "print(searchById(inputID))\n",
    "inputName = input(\"Enter Name: \")\n",
    "print(searchByName(inputName))\n",
    "inputEmail = input(\"Enter Email: \")\n",
    "print(searchByEmail(inputEmail))"
   ]
  },
  {
   "cell_type": "code",
   "execution_count": null,
   "metadata": {},
   "outputs": [],
   "source": []
  }
 ],
 "metadata": {
  "kernelspec": {
   "display_name": "Python 3",
   "language": "python",
   "name": "python3"
  },
  "language_info": {
   "codemirror_mode": {
    "name": "ipython",
    "version": 3
   },
   "file_extension": ".py",
   "mimetype": "text/x-python",
   "name": "python",
   "nbconvert_exporter": "python",
   "pygments_lexer": "ipython3",
   "version": "3.7.12"
  }
 },
 "nbformat": 4,
 "nbformat_minor": 2
}
