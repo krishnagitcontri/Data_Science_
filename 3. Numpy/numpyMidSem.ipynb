{
 "cells": [
  {
   "cell_type": "code",
   "execution_count": 1,
   "id": "d8084a0b-b2a9-45e8-bf0c-ecac10e84f80",
   "metadata": {},
   "outputs": [],
   "source": [
    "import numpy as np"
   ]
  },
  {
   "cell_type": "code",
   "execution_count": 2,
   "id": "6bd7fcf9-7b08-419d-9f28-2e110eb5192f",
   "metadata": {},
   "outputs": [
    {
     "data": {
      "text/plain": [
       "array([0., 0., 0., 0., 0., 0., 0., 0., 0., 0.])"
      ]
     },
     "execution_count": 2,
     "metadata": {},
     "output_type": "execute_result"
    }
   ],
   "source": [
    "np.zeros(10)"
   ]
  },
  {
   "cell_type": "code",
   "execution_count": 3,
   "id": "d1a85430-3d4a-4f48-839b-5d4f272f4df6",
   "metadata": {},
   "outputs": [
    {
     "data": {
      "text/plain": [
       "array([1., 1., 1., 1., 1., 1., 1., 1., 1., 1.])"
      ]
     },
     "execution_count": 3,
     "metadata": {},
     "output_type": "execute_result"
    }
   ],
   "source": [
    "np.ones(10)"
   ]
  },
  {
   "cell_type": "code",
   "execution_count": 4,
   "id": "a3ba0c7c-4656-4d8a-8bfa-96b5949bccbf",
   "metadata": {},
   "outputs": [
    {
     "data": {
      "text/plain": [
       "array([5., 5., 5., 5., 5.])"
      ]
     },
     "execution_count": 4,
     "metadata": {},
     "output_type": "execute_result"
    }
   ],
   "source": [
    "np.ones(5)*5"
   ]
  },
  {
   "cell_type": "code",
   "execution_count": 15,
   "id": "609052b3-ff39-4083-8156-27e60cb161bb",
   "metadata": {},
   "outputs": [
    {
     "data": {
      "text/plain": [
       "array([[10, 11, 12, 13],\n",
       "       [14, 15, 16, 17],\n",
       "       [18, 19, 20, 21],\n",
       "       [22, 23, 24, 25],\n",
       "       [26, 27, 28, 29],\n",
       "       [30, 31, 32, 33],\n",
       "       [34, 35, 36, 37],\n",
       "       [38, 39, 40, 41],\n",
       "       [42, 43, 44, 45],\n",
       "       [46, 47, 48, 49]])"
      ]
     },
     "execution_count": 15,
     "metadata": {},
     "output_type": "execute_result"
    }
   ],
   "source": [
    "a = np.arange(10,50).reshape(10,4)\n",
    "a"
   ]
  },
  {
   "cell_type": "code",
   "execution_count": 19,
   "id": "192767d1-3b45-4d95-9e7c-a0086c8fe615",
   "metadata": {},
   "outputs": [
    {
     "data": {
      "text/plain": [
       "(10, 4)"
      ]
     },
     "execution_count": 19,
     "metadata": {},
     "output_type": "execute_result"
    }
   ],
   "source": [
    "a.ndim\n",
    "a.shape\n",
    "# a.size"
   ]
  },
  {
   "cell_type": "code",
   "execution_count": 23,
   "id": "276d7053-e1ec-42dc-9868-ae62c31f1dc2",
   "metadata": {},
   "outputs": [],
   "source": [
    "b = np.ones(4)\n",
    "c = np.zeros(4)"
   ]
  },
  {
   "cell_type": "code",
   "execution_count": 25,
   "id": "9432eb72-f209-4413-81c2-17b7cd86d5fe",
   "metadata": {},
   "outputs": [],
   "source": [
    "# np.concatenate(b,c)"
   ]
  },
  {
   "cell_type": "code",
   "execution_count": 6,
   "id": "4e647b95-282a-498a-975f-1c8e96281696",
   "metadata": {},
   "outputs": [
    {
     "data": {
      "text/plain": [
       "array([[0, 1, 2],\n",
       "       [3, 4, 5],\n",
       "       [6, 7, 8]])"
      ]
     },
     "execution_count": 6,
     "metadata": {},
     "output_type": "execute_result"
    }
   ],
   "source": [
    "np.arange(0,9).reshape(3,3)"
   ]
  },
  {
   "cell_type": "code",
   "execution_count": 7,
   "id": "640cc770-aef6-4ac0-8332-a61d3f2173fb",
   "metadata": {},
   "outputs": [
    {
     "data": {
      "text/plain": [
       "array([[1., 0., 0.],\n",
       "       [0., 1., 0.],\n",
       "       [0., 0., 1.]])"
      ]
     },
     "execution_count": 7,
     "metadata": {},
     "output_type": "execute_result"
    }
   ],
   "source": [
    "np.eye(3)"
   ]
  },
  {
   "cell_type": "code",
   "execution_count": 29,
   "id": "fe5a8a5a-b530-46e0-9edc-c6e67d830893",
   "metadata": {},
   "outputs": [
    {
     "data": {
      "text/plain": [
       "array([0.1897025])"
      ]
     },
     "execution_count": 29,
     "metadata": {},
     "output_type": "execute_result"
    }
   ],
   "source": [
    "np.random.rand(1)"
   ]
  },
  {
   "cell_type": "code",
   "execution_count": 30,
   "id": "e04f79f6-a9b2-4f58-ab1c-77e1b11df39f",
   "metadata": {},
   "outputs": [
    {
     "data": {
      "text/plain": [
       "array([[-1.35741357, -2.88192004, -0.1149629 ,  0.69601981,  1.25389047],\n",
       "       [ 1.61416638,  1.19944814, -1.09199411, -1.2185195 , -1.27992072],\n",
       "       [ 0.80315865,  0.97700963,  0.18758445, -1.22766299, -2.49834572],\n",
       "       [-0.23485933, -1.79051058,  0.88797758,  0.99221779, -0.09597612],\n",
       "       [ 1.58234921,  2.67300712,  0.94674676, -0.14119767,  0.72014895]])"
      ]
     },
     "execution_count": 30,
     "metadata": {},
     "output_type": "execute_result"
    }
   ],
   "source": [
    "np.random.randn(25).reshape(5,5)"
   ]
  },
  {
   "cell_type": "code",
   "execution_count": 33,
   "id": "971270cd-cc6c-4110-89c0-07cfca2b6c3a",
   "metadata": {},
   "outputs": [
    {
     "data": {
      "text/plain": [
       "array([0.        , 0.05263158, 0.10526316, 0.15789474, 0.21052632,\n",
       "       0.26315789, 0.31578947, 0.36842105, 0.42105263, 0.47368421,\n",
       "       0.52631579, 0.57894737, 0.63157895, 0.68421053, 0.73684211,\n",
       "       0.78947368, 0.84210526, 0.89473684, 0.94736842, 1.        ])"
      ]
     },
     "execution_count": 33,
     "metadata": {},
     "output_type": "execute_result"
    }
   ],
   "source": [
    "np.linspace(0,1,20)"
   ]
  },
  {
   "cell_type": "code",
   "execution_count": 34,
   "id": "9f6a4c80-93d4-4cba-9580-4722afb2decb",
   "metadata": {},
   "outputs": [
    {
     "data": {
      "text/plain": [
       "1180"
      ]
     },
     "execution_count": 34,
     "metadata": {},
     "output_type": "execute_result"
    }
   ],
   "source": [
    "a.sum()"
   ]
  },
  {
   "cell_type": "code",
   "execution_count": 36,
   "id": "3699edfa-0850-405b-bac9-68fc47a67668",
   "metadata": {},
   "outputs": [
    {
     "data": {
      "text/plain": [
       "array([[ 1,  2,  3,  4,  5],\n",
       "       [ 6,  7,  8,  9, 10],\n",
       "       [11, 12, 13, 14, 15],\n",
       "       [16, 17, 18, 19, 20],\n",
       "       [21, 22, 23, 24, 25]])"
      ]
     },
     "execution_count": 36,
     "metadata": {},
     "output_type": "execute_result"
    }
   ],
   "source": [
    "a = np.arange(1,26).reshape(5,5)\n",
    "a"
   ]
  },
  {
   "cell_type": "code",
   "execution_count": 38,
   "id": "3e7c914d-949d-4e96-8f44-0edb15c700e6",
   "metadata": {},
   "outputs": [
    {
     "data": {
      "text/plain": [
       "array([55, 60, 65, 70, 75])"
      ]
     },
     "execution_count": 38,
     "metadata": {},
     "output_type": "execute_result"
    }
   ],
   "source": [
    "a.sum(axis=0)"
   ]
  },
  {
   "cell_type": "code",
   "execution_count": 39,
   "id": "172cbed9-dca8-4884-b1a8-96d61c38e61e",
   "metadata": {},
   "outputs": [
    {
     "data": {
      "text/plain": [
       "array([ 15,  40,  65,  90, 115])"
      ]
     },
     "execution_count": 39,
     "metadata": {},
     "output_type": "execute_result"
    }
   ],
   "source": [
    "a.sum(axis=1)"
   ]
  },
  {
   "cell_type": "code",
   "execution_count": 40,
   "id": "b4996749-fc06-4a8e-98fd-2f1e2bd02ffb",
   "metadata": {},
   "outputs": [
    {
     "data": {
      "text/plain": [
       "array([[ 6,  7,  8,  9, 10],\n",
       "       [11, 12, 13, 14, 15],\n",
       "       [16, 17, 18, 19, 20],\n",
       "       [21, 22, 23, 24, 25],\n",
       "       [26, 27, 28, 29, 30]])"
      ]
     },
     "execution_count": 40,
     "metadata": {},
     "output_type": "execute_result"
    }
   ],
   "source": [
    "a + 5"
   ]
  },
  {
   "cell_type": "code",
   "execution_count": 47,
   "id": "47bfe664-278e-4c19-bd7d-49862dbf1377",
   "metadata": {},
   "outputs": [],
   "source": [
    "x = np.random.randint(100,size = 10)"
   ]
  },
  {
   "cell_type": "code",
   "execution_count": 48,
   "id": "47bed172-6fc9-4db1-a2a2-0a78195b4dc3",
   "metadata": {},
   "outputs": [
    {
     "data": {
      "text/plain": [
       "array([43, 72,  7, 83, 88, 17, 14, 21, 89, 20])"
      ]
     },
     "execution_count": 48,
     "metadata": {},
     "output_type": "execute_result"
    }
   ],
   "source": [
    "x"
   ]
  },
  {
   "cell_type": "code",
   "execution_count": 49,
   "id": "5e3f08e1-c5d9-4e23-b6fc-386818ac1819",
   "metadata": {},
   "outputs": [
    {
     "data": {
      "text/plain": [
       "array([ 7, 17, 14])"
      ]
     },
     "execution_count": 49,
     "metadata": {},
     "output_type": "execute_result"
    }
   ],
   "source": [
    "ind = [2,5,6]\n",
    "x[ind]"
   ]
  },
  {
   "cell_type": "code",
   "execution_count": 57,
   "id": "84ce0736-4d75-4b0d-a2fe-cc2c93c4ab6a",
   "metadata": {},
   "outputs": [
    {
     "data": {
      "text/plain": [
       "2"
      ]
     },
     "execution_count": 57,
     "metadata": {},
     "output_type": "execute_result"
    }
   ],
   "source": [
    "x.argmin()"
   ]
  },
  {
   "cell_type": "code",
   "execution_count": 60,
   "id": "adc7afd9-633b-490c-a41a-9d9b64f18901",
   "metadata": {},
   "outputs": [
    {
     "data": {
      "text/plain": [
       "array(1)"
      ]
     },
     "execution_count": 60,
     "metadata": {},
     "output_type": "execute_result"
    }
   ],
   "source": [
    "od = np.array(1)\n",
    "od"
   ]
  },
  {
   "cell_type": "code",
   "execution_count": 62,
   "id": "3d54d606-742b-4962-b592-6993fabb632f",
   "metadata": {},
   "outputs": [
    {
     "data": {
      "text/plain": [
       "array([[10, 11, 12, 13, 14],\n",
       "       [15, 16, 17, 18, 19]])"
      ]
     },
     "execution_count": 62,
     "metadata": {},
     "output_type": "execute_result"
    }
   ],
   "source": [
    "td = np.arange(10,20).reshape(2,5)\n",
    "td"
   ]
  },
  {
   "cell_type": "code",
   "execution_count": 66,
   "id": "7d515701-8d77-41f3-9770-e01f47f3ce07",
   "metadata": {},
   "outputs": [
    {
     "data": {
      "text/plain": [
       "array([[[ 0,  1,  2],\n",
       "        [ 3,  4,  5],\n",
       "        [ 6,  7,  8]],\n",
       "\n",
       "       [[ 9, 10, 11],\n",
       "        [12, 13, 14],\n",
       "        [15, 16, 17]],\n",
       "\n",
       "       [[18, 19, 20],\n",
       "        [21, 22, 23],\n",
       "        [24, 25, 26]]])"
      ]
     },
     "execution_count": 66,
     "metadata": {},
     "output_type": "execute_result"
    }
   ],
   "source": [
    "dd = np.arange(0,27).reshape(3,3,3)\n",
    "dd"
   ]
  },
  {
   "cell_type": "code",
   "execution_count": 69,
   "id": "e2f33709-79a2-4cbe-a428-25507d7626dd",
   "metadata": {},
   "outputs": [
    {
     "data": {
      "text/plain": [
       "array([23, 28, 56,  9, 41, 93, 17, 65, 30, 43, 43, 56, 17, 75, 56, 25, 94,\n",
       "        9, 96, 39])"
      ]
     },
     "execution_count": 69,
     "metadata": {},
     "output_type": "execute_result"
    }
   ],
   "source": [
    "maths = np.random.randint(0,100,20)\n",
    "maths"
   ]
  },
  {
   "cell_type": "code",
   "execution_count": 72,
   "id": "a37a5e52-4fcd-40bb-b6eb-1e09d456c661",
   "metadata": {},
   "outputs": [
    {
     "data": {
      "text/plain": [
       "array([ 9,  9, 17, 17, 23, 25, 28, 30, 39, 41, 43, 43, 56, 56, 56, 65, 75,\n",
       "       93, 94, 96])"
      ]
     },
     "execution_count": 72,
     "metadata": {},
     "output_type": "execute_result"
    }
   ],
   "source": [
    "np.sort(maths)"
   ]
  },
  {
   "cell_type": "code",
   "execution_count": 74,
   "id": "9e656aee-b1bf-4c71-a619-cdce6bf7b2ee",
   "metadata": {},
   "outputs": [
    {
     "data": {
      "text/plain": [
       "array([96, 94, 93, 75, 65, 56, 56, 56, 43, 43, 41, 39, 30, 28, 25, 23, 17,\n",
       "       17,  9,  9])"
      ]
     },
     "execution_count": 74,
     "metadata": {},
     "output_type": "execute_result"
    }
   ],
   "source": [
    "np.sort(maths)[::-1]"
   ]
  },
  {
   "cell_type": "code",
   "execution_count": 77,
   "id": "26c549ca-28af-4c8c-bd4a-54cd58183c55",
   "metadata": {},
   "outputs": [
    {
     "data": {
      "text/plain": [
       "array([ 9,  9, 17, 17, 23, 25, 28, 30, 39, 41, 43, 43, 56, 56, 56, 65, 75,\n",
       "       93, 94, 96])"
      ]
     },
     "execution_count": 77,
     "metadata": {},
     "output_type": "execute_result"
    }
   ],
   "source": [
    "marks = maths.copy()\n",
    "marks"
   ]
  },
  {
   "cell_type": "code",
   "execution_count": 80,
   "id": "fa2c431f-c354-4bc5-9558-0a80e287578f",
   "metadata": {},
   "outputs": [
    {
     "data": {
      "text/plain": [
       "array([ 0,  1,  2,  3,  4,  5,  6,  7,  8,  9, 10, 11, 12, 13, 14, 15, 16,\n",
       "       17, 18, 19, 20, 21, 22, 23, 24])"
      ]
     },
     "execution_count": 80,
     "metadata": {},
     "output_type": "execute_result"
    }
   ],
   "source": [
    "np.arange(0,25).reshape(5,5).ravel()"
   ]
  },
  {
   "cell_type": "code",
   "execution_count": 86,
   "id": "ec9e91d3-d91e-42de-acfd-94b30bcc152a",
   "metadata": {},
   "outputs": [
    {
     "data": {
      "text/plain": [
       "array([[ 9,  9, 17, 17],\n",
       "       [23, 25, 28, 30],\n",
       "       [39, 41, 43, 43],\n",
       "       [56, 56, 56, 65],\n",
       "       [75, 93, 94, 96]])"
      ]
     },
     "execution_count": 86,
     "metadata": {},
     "output_type": "execute_result"
    }
   ],
   "source": [
    "marks = marks.reshape(5,4)\n",
    "marks"
   ]
  },
  {
   "cell_type": "code",
   "execution_count": 89,
   "id": "a46a4d43-a896-48ed-acd6-b71bc371e6fe",
   "metadata": {},
   "outputs": [
    {
     "data": {
      "text/plain": [
       "array([[ 9,  9, 17, 17],\n",
       "       [23, 25, 28, 30],\n",
       "       [39, 41, 43, 43],\n",
       "       [56, 56, 56, 65],\n",
       "       [75, 93, 94, 96],\n",
       "       [45, 34, 57, 76]])"
      ]
     },
     "execution_count": 89,
     "metadata": {},
     "output_type": "execute_result"
    }
   ],
   "source": [
    "marks2 = [45, 34, 57, 76]\n",
    "np.vstack((marks,marks2))"
   ]
  },
  {
   "cell_type": "code",
   "execution_count": 95,
   "id": "cb22fd15-2a99-44a3-ace3-4bf68a4ea267",
   "metadata": {},
   "outputs": [
    {
     "data": {
      "text/plain": [
       "[array([[ 9,  9],\n",
       "        [23, 25],\n",
       "        [39, 41],\n",
       "        [56, 56],\n",
       "        [75, 93]]),\n",
       " array([[17, 17],\n",
       "        [28, 30],\n",
       "        [43, 43],\n",
       "        [56, 65],\n",
       "        [94, 96]])]"
      ]
     },
     "execution_count": 95,
     "metadata": {},
     "output_type": "execute_result"
    }
   ],
   "source": [
    "np.hsplit(marks,2)"
   ]
  },
  {
   "cell_type": "code",
   "execution_count": 106,
   "id": "7b8cb1ff-6b5a-45b2-9ed5-b16e2c3a8e7a",
   "metadata": {},
   "outputs": [
    {
     "data": {
      "text/plain": [
       "[array([[ 9,  9, 17, 17],\n",
       "        [23, 25, 28, 30]]),\n",
       " array([[39, 41, 43, 43]]),\n",
       " array([[56, 56, 56, 65],\n",
       "        [75, 93, 94, 96]])]"
      ]
     },
     "execution_count": 106,
     "metadata": {},
     "output_type": "execute_result"
    }
   ],
   "source": [
    "np.vsplit(marks,(2,3))"
   ]
  },
  {
   "cell_type": "code",
   "execution_count": 113,
   "id": "efa90bdc-133e-4d04-ad05-4bfccaebcf41",
   "metadata": {},
   "outputs": [
    {
     "data": {
      "text/plain": [
       "array([ 9,  9, 17, 17])"
      ]
     },
     "execution_count": 113,
     "metadata": {},
     "output_type": "execute_result"
    }
   ],
   "source": [
    "np.amin(marks, axis=0)"
   ]
  },
  {
   "cell_type": "code",
   "execution_count": 111,
   "id": "c4821822-63c3-458a-842a-405539dcbbee",
   "metadata": {},
   "outputs": [
    {
     "data": {
      "text/plain": [
       "array([17, 30, 43, 65, 96])"
      ]
     },
     "execution_count": 111,
     "metadata": {},
     "output_type": "execute_result"
    }
   ],
   "source": [
    "np.amax(marks, axis=1)"
   ]
  },
  {
   "cell_type": "code",
   "execution_count": 115,
   "id": "21cfe882-36e1-4e2b-a2fb-7c6c03418314",
   "metadata": {},
   "outputs": [
    {
     "data": {
      "text/plain": [
       "array([16.    ,  7.25  ,  2.75  , 15.1875, 71.25  ])"
      ]
     },
     "execution_count": 115,
     "metadata": {},
     "output_type": "execute_result"
    }
   ],
   "source": [
    "np.var(marks, axis=1)"
   ]
  },
  {
   "cell_type": "code",
   "execution_count": 116,
   "id": "32f48425-3dcb-4a60-a257-ecbe8183d2d4",
   "metadata": {},
   "outputs": [
    {
     "data": {
      "text/plain": [
       "array([4.        , 2.6925824 , 1.6583124 , 3.89711432, 8.44097151])"
      ]
     },
     "execution_count": 116,
     "metadata": {},
     "output_type": "execute_result"
    }
   ],
   "source": [
    "np.std(marks, axis=1)"
   ]
  },
  {
   "cell_type": "code",
   "execution_count": 121,
   "id": "5c2c0b1e-c5cd-440c-981b-f7744970377c",
   "metadata": {},
   "outputs": [
    {
     "data": {
      "text/plain": [
       "array([[ 0.        ,  0.83333333,  1.66666667,  2.5       ,  3.33333333],\n",
       "       [ 4.16666667,  5.        ,  5.83333333,  6.66666667,  7.5       ],\n",
       "       [ 8.33333333,  9.16666667, 10.        , 10.83333333, 11.66666667],\n",
       "       [12.5       , 13.33333333, 14.16666667, 15.        , 15.83333333],\n",
       "       [16.66666667, 17.5       , 18.33333333, 19.16666667, 20.        ]])"
      ]
     },
     "execution_count": 121,
     "metadata": {},
     "output_type": "execute_result"
    }
   ],
   "source": [
    "def mat(s,e,st):\n",
    "    return np.linspace(s,e,st).reshape(5,5)\n",
    "mat(0,20,25)"
   ]
  },
  {
   "cell_type": "code",
   "execution_count": 122,
   "id": "c94ab4fe-1c4b-4315-a668-ec877dcd237d",
   "metadata": {},
   "outputs": [
    {
     "data": {
      "text/plain": [
       "(array([0, 0, 0, 0, 1, 1, 1, 1, 2, 2, 2, 2, 3, 3, 3, 3, 4, 4, 4, 4]),\n",
       " array([0, 1, 2, 3, 0, 1, 2, 3, 0, 1, 2, 3, 0, 1, 2, 3, 0, 1, 2, 3]))"
      ]
     },
     "execution_count": 122,
     "metadata": {},
     "output_type": "execute_result"
    }
   ],
   "source": [
    "np.nonzero(marks)"
   ]
  },
  {
   "cell_type": "code",
   "execution_count": 123,
   "id": "7dbdb718-2380-4f2c-b62e-0868017a93a3",
   "metadata": {},
   "outputs": [
    {
     "data": {
      "text/plain": [
       "(array([0, 0, 0, 0, 1, 1, 1, 1, 2, 2, 2, 2, 3, 3, 3, 3, 4, 4, 4, 4]),\n",
       " array([0, 1, 2, 3, 0, 1, 2, 3, 0, 1, 2, 3, 0, 1, 2, 3, 0, 1, 2, 3]))"
      ]
     },
     "execution_count": 123,
     "metadata": {},
     "output_type": "execute_result"
    }
   ],
   "source": [
    "np.where(marks!=0)"
   ]
  },
  {
   "cell_type": "code",
   "execution_count": 156,
   "id": "e44fa81b-5fa0-4493-b5cd-e5c22bf66adc",
   "metadata": {},
   "outputs": [
    {
     "data": {
      "text/plain": [
       "array([[1., 1., 1., 1., 1., 1., 1., 1., 1., 1.],\n",
       "       [1., 1., 1., 1., 1., 1., 1., 1., 1., 1.],\n",
       "       [1., 1., 1., 1., 1., 1., 1., 1., 1., 1.],\n",
       "       [1., 1., 1., 1., 1., 1., 1., 1., 1., 1.],\n",
       "       [1., 1., 1., 1., 1., 1., 1., 1., 1., 1.],\n",
       "       [1., 1., 1., 1., 1., 1., 1., 1., 1., 1.],\n",
       "       [1., 1., 1., 1., 1., 1., 1., 1., 1., 1.],\n",
       "       [1., 1., 1., 1., 1., 1., 1., 1., 1., 1.],\n",
       "       [1., 1., 1., 1., 1., 1., 1., 1., 1., 1.],\n",
       "       [1., 1., 1., 1., 1., 1., 1., 1., 1., 1.]])"
      ]
     },
     "execution_count": 156,
     "metadata": {},
     "output_type": "execute_result"
    }
   ],
   "source": [
    "m = np.ones((10,10))\n",
    "n = np.ones((10,10))\n",
    "m"
   ]
  },
  {
   "cell_type": "code",
   "execution_count": 157,
   "id": "f614b3ce-26fd-4e6a-8bef-e45eb63c87a0",
   "metadata": {},
   "outputs": [],
   "source": [
    "m[1:-1, 1:-1] = 0"
   ]
  },
  {
   "cell_type": "code",
   "execution_count": 158,
   "id": "69ed6e19-83d8-4ca6-914c-2806a162dce2",
   "metadata": {},
   "outputs": [
    {
     "data": {
      "text/plain": [
       "array([[1., 1., 1., 1., 1., 1., 1., 1., 1., 1.],\n",
       "       [1., 0., 0., 0., 0., 0., 0., 0., 0., 1.],\n",
       "       [1., 0., 0., 0., 0., 0., 0., 0., 0., 1.],\n",
       "       [1., 0., 0., 0., 0., 0., 0., 0., 0., 1.],\n",
       "       [1., 0., 0., 0., 0., 0., 0., 0., 0., 1.],\n",
       "       [1., 0., 0., 0., 0., 0., 0., 0., 0., 1.],\n",
       "       [1., 0., 0., 0., 0., 0., 0., 0., 0., 1.],\n",
       "       [1., 0., 0., 0., 0., 0., 0., 0., 0., 1.],\n",
       "       [1., 0., 0., 0., 0., 0., 0., 0., 0., 1.],\n",
       "       [1., 1., 1., 1., 1., 1., 1., 1., 1., 1.]])"
      ]
     },
     "execution_count": 158,
     "metadata": {},
     "output_type": "execute_result"
    }
   ],
   "source": [
    "m"
   ]
  },
  {
   "cell_type": "code",
   "execution_count": 159,
   "id": "f960cdec-2fb5-4379-9a1a-fb4b170742b5",
   "metadata": {},
   "outputs": [],
   "source": [
    "n[0,:] = 0\n",
    "n[-1,:] = 0\n",
    "n[:,0] = 0\n",
    "n[:,-1] = 0"
   ]
  },
  {
   "cell_type": "code",
   "execution_count": 160,
   "id": "3029e219-6805-48d2-9fef-bcfa7472bbe7",
   "metadata": {},
   "outputs": [
    {
     "data": {
      "text/plain": [
       "array([[0., 0., 0., 0., 0., 0., 0., 0., 0., 0.],\n",
       "       [0., 1., 1., 1., 1., 1., 1., 1., 1., 0.],\n",
       "       [0., 1., 1., 1., 1., 1., 1., 1., 1., 0.],\n",
       "       [0., 1., 1., 1., 1., 1., 1., 1., 1., 0.],\n",
       "       [0., 1., 1., 1., 1., 1., 1., 1., 1., 0.],\n",
       "       [0., 1., 1., 1., 1., 1., 1., 1., 1., 0.],\n",
       "       [0., 1., 1., 1., 1., 1., 1., 1., 1., 0.],\n",
       "       [0., 1., 1., 1., 1., 1., 1., 1., 1., 0.],\n",
       "       [0., 1., 1., 1., 1., 1., 1., 1., 1., 0.],\n",
       "       [0., 0., 0., 0., 0., 0., 0., 0., 0., 0.]])"
      ]
     },
     "execution_count": 160,
     "metadata": {},
     "output_type": "execute_result"
    }
   ],
   "source": [
    "n"
   ]
  },
  {
   "cell_type": "code",
   "execution_count": 162,
   "id": "5e66518e-f3d8-417c-b941-2460680c2981",
   "metadata": {},
   "outputs": [
    {
     "name": "stdout",
     "output_type": "stream",
     "text": [
      "[[0. 1. 0. 1. 0. 1. 0. 1.]\n",
      " [1. 0. 1. 0. 1. 0. 1. 0.]\n",
      " [0. 1. 0. 1. 0. 1. 0. 1.]\n",
      " [1. 0. 1. 0. 1. 0. 1. 0.]\n",
      " [0. 1. 0. 1. 0. 1. 0. 1.]\n",
      " [1. 0. 1. 0. 1. 0. 1. 0.]\n",
      " [0. 1. 0. 1. 0. 1. 0. 1.]\n",
      " [1. 0. 1. 0. 1. 0. 1. 0.]]\n"
     ]
    }
   ],
   "source": [
    "a = np.ones((8,8))\n",
    "a[::2,::2] = 0\n",
    "a[1::2,1::2] = 0\n",
    "print(a)"
   ]
  },
  {
   "cell_type": "code",
   "execution_count": 179,
   "id": "4c3bfde8-b51b-4f94-a504-eeb97f7563e5",
   "metadata": {},
   "outputs": [
    {
     "name": "stdout",
     "output_type": "stream",
     "text": [
      "[[nan  1. nan  1. nan  1. nan  1.]\n",
      " [ 1. nan  1. nan  1. nan  1. nan]\n",
      " [nan  1. nan  1. nan  1. nan  1.]\n",
      " [ 1. nan  1. nan  1. nan  1. nan]\n",
      " [nan  1. nan  1. nan  1. nan  1.]\n",
      " [ 1. nan  1. nan  1. nan  1. nan]\n",
      " [nan  1. nan  1. nan  1. nan  1.]\n",
      " [ 1. nan  1. nan  1. nan  1. nan]]\n"
     ]
    }
   ],
   "source": [
    "b = np.ones((8, 8))\n",
    "b[::2, ::2] = np.nan\n",
    "b[1::2, 1::2] = np.nan\n",
    "print(b)"
   ]
  },
  {
   "cell_type": "code",
   "execution_count": 180,
   "id": "d7afde25-b0ba-4d3e-a1d0-de422f5cfe89",
   "metadata": {},
   "outputs": [
    {
     "data": {
      "text/plain": [
       "array([[nan,  1., nan,  1., nan,  1., nan,  1., nan],\n",
       "       [ 1., nan,  1., nan,  1., nan,  1., nan, nan],\n",
       "       [nan,  1., nan,  1., nan,  1., nan,  1., nan],\n",
       "       [ 1., nan,  1., nan,  1., nan,  1., nan, nan],\n",
       "       [nan,  1., nan,  1., nan,  1., nan,  1., nan],\n",
       "       [ 1., nan,  1., nan,  1., nan,  1., nan, nan],\n",
       "       [nan,  1., nan,  1., nan,  1., nan,  1., nan],\n",
       "       [ 1., nan,  1., nan,  1., nan,  1., nan, nan]])"
      ]
     },
     "execution_count": 180,
     "metadata": {},
     "output_type": "execute_result"
    }
   ],
   "source": [
    "nan_column = np.full((8, 1), np.nan)\n",
    "b = np.hstack((b, nan_column))\n",
    "b"
   ]
  },
  {
   "cell_type": "code",
   "execution_count": 181,
   "id": "d5825d15-eada-4372-93a2-ad2ae6accffd",
   "metadata": {},
   "outputs": [
    {
     "name": "stdout",
     "output_type": "stream",
     "text": [
      "[[0. 1. 0. 1. 0. 1. 0. 1. 0.]\n",
      " [1. 0. 1. 0. 1. 0. 1. 0. 0.]\n",
      " [0. 1. 0. 1. 0. 1. 0. 1. 0.]\n",
      " [1. 0. 1. 0. 1. 0. 1. 0. 0.]\n",
      " [0. 1. 0. 1. 0. 1. 0. 1. 0.]\n",
      " [1. 0. 1. 0. 1. 0. 1. 0. 0.]\n",
      " [0. 1. 0. 1. 0. 1. 0. 1. 0.]\n",
      " [1. 0. 1. 0. 1. 0. 1. 0. 0.]]\n"
     ]
    }
   ],
   "source": [
    "# Convert NaNs to 1s\n",
    "b[np.isnan(b)] = 0\n",
    "\n",
    "print(b)"
   ]
  },
  {
   "cell_type": "code",
   "execution_count": null,
   "id": "85cba3c3-6b6a-4b52-b184-36f7b089a3e0",
   "metadata": {},
   "outputs": [],
   "source": []
  }
 ],
 "metadata": {
  "kernelspec": {
   "display_name": "Python 3 (ipykernel)",
   "language": "python",
   "name": "python3"
  },
  "language_info": {
   "codemirror_mode": {
    "name": "ipython",
    "version": 3
   },
   "file_extension": ".py",
   "mimetype": "text/x-python",
   "name": "python",
   "nbconvert_exporter": "python",
   "pygments_lexer": "ipython3",
   "version": "3.11.3"
  }
 },
 "nbformat": 4,
 "nbformat_minor": 5
}
