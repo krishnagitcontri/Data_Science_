{
 "cells": [
  {
   "cell_type": "markdown",
   "metadata": {},
   "source": [
    "---"
   ]
  },
  {
   "cell_type": "markdown",
   "metadata": {},
   "source": [
    "#### Question 3 - Lab 3"
   ]
  },
  {
   "cell_type": "markdown",
   "metadata": {},
   "source": [
    "---"
   ]
  },
  {
   "cell_type": "code",
   "execution_count": 6,
   "metadata": {},
   "outputs": [],
   "source": [
    "import pandas as pd\n",
    "data = [\n",
    "    (12345,\"Diksha \",\"Diksha r@nuv.ac.in\"),\n",
    "    (45667,\"Jiva\",\"Jiva@nuv.ac.in\"),\n",
    "    (16789,\"Ronit\",\"Ronit@nuv.ac.in\"),\n",
    "    (69433,\"Heena\",\"Heena@nuv.ac.in\")\n",
    "]"
   ]
  },
  {
   "cell_type": "code",
   "execution_count": 7,
   "metadata": {},
   "outputs": [
    {
     "name": "stdout",
     "output_type": "stream",
     "text": [
      "   Enrollment ID Student Name            Email ID\n",
      "0          12345      Diksha   Diksha r@nuv.ac.in\n",
      "1          45667         Jiva      Jiva@nuv.ac.in\n",
      "2          16789        Ronit     Ronit@nuv.ac.in\n",
      "3          69433        Heena     Heena@nuv.ac.in\n"
     ]
    }
   ],
   "source": [
    "keys = [\"Enrollment ID\", \"Student Name\", \"Email ID\"]\n",
    "myDict = dict(zip(keys, map(list, zip(*data))))\n",
    "dataFrame = pd.DataFrame(myDict)\n",
    "print(dataFrame)"
   ]
  },
  {
   "cell_type": "markdown",
   "metadata": {},
   "source": [
    "---"
   ]
  }
 ],
 "metadata": {
  "kernelspec": {
   "display_name": "Python 3",
   "language": "python",
   "name": "python3"
  },
  "language_info": {
   "codemirror_mode": {
    "name": "ipython",
    "version": 3
   },
   "file_extension": ".py",
   "mimetype": "text/x-python",
   "name": "python",
   "nbconvert_exporter": "python",
   "pygments_lexer": "ipython3",
   "version": "3.7.12"
  }
 },
 "nbformat": 4,
 "nbformat_minor": 2
}
