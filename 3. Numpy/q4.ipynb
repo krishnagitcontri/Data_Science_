{
 "cells": [
  {
   "cell_type": "markdown",
   "metadata": {},
   "source": [
    "---"
   ]
  },
  {
   "cell_type": "markdown",
   "metadata": {},
   "source": [
    "#### Question 4 - Lab 3"
   ]
  },
  {
   "cell_type": "markdown",
   "metadata": {},
   "source": [
    "---"
   ]
  },
  {
   "cell_type": "code",
   "execution_count": 12,
   "metadata": {},
   "outputs": [],
   "source": [
    "import json\n",
    "import pandas as pd"
   ]
  },
  {
   "cell_type": "code",
   "execution_count": 13,
   "metadata": {},
   "outputs": [],
   "source": [
    "class StudentDB:\n",
    "    def __innit__(self, filename):\n",
    "        self.filename = filename\n",
    "        try:\n",
    "            with open(self.filename, \"r\") as fr:\n",
    "                self.data = json.load(fr)\n",
    "        except FileNotFoundError:\n",
    "            self.data = {}\n",
    "\n",
    "    def save(self):\n",
    "        with open(self.filename, \"w\") as fw:\n",
    "            json.dump(self.data, fw)\n",
    "\n",
    "    def add(self, id, name, contact):\n",
    "        self.data[id] = {\"Student Name\": name, \"Contact Number\": contact}\n",
    "        self.save()\n",
    "\n",
    "    def update(self, id, name=None, contact=None):\n",
    "        if id in self.data:\n",
    "            if name:\n",
    "                self.data[id][\"Student Name\"] = name\n",
    "            if contact:\n",
    "                self.data[id][\"Contact Number\"] = contact\n",
    "            self.save()\n",
    "\n",
    "    def delete(self, id):\n",
    "        if id in self.data:\n",
    "            del self.data[id]\n",
    "            self.save()\n",
    "\n",
    "    def display(self):\n",
    "        if self.data:\n",
    "            df = pd.DataFrame(self.data.values(), index = self.data.keys())\n",
    "            print(df)\n",
    "        else:\n",
    "            print(\"No data to display.\\n\")"
   ]
  },
  {
   "cell_type": "code",
   "execution_count": 14,
   "metadata": {},
   "outputs": [
    {
     "ename": "TypeError",
     "evalue": "StudentDB() takes no arguments",
     "output_type": "error",
     "traceback": [
      "\u001b[0;31m---------------------------------------------------------------------------\u001b[0m",
      "\u001b[0;31mTypeError\u001b[0m                                 Traceback (most recent call last)",
      "Cell \u001b[0;32mIn[14], line 33\u001b[0m\n\u001b[1;32m     30\u001b[0m             \u001b[38;5;28mprint\u001b[39m(\u001b[38;5;124m\"\u001b[39m\u001b[38;5;124mInvalid choice. Please try again.\u001b[39m\u001b[38;5;130;01m\\n\u001b[39;00m\u001b[38;5;124m\"\u001b[39m)\n\u001b[1;32m     32\u001b[0m \u001b[38;5;28;01mif\u001b[39;00m \u001b[38;5;18m__name__\u001b[39m \u001b[38;5;241m==\u001b[39m \u001b[38;5;124m\"\u001b[39m\u001b[38;5;124m__main__\u001b[39m\u001b[38;5;124m\"\u001b[39m:\n\u001b[0;32m---> 33\u001b[0m     \u001b[43mmain\u001b[49m\u001b[43m(\u001b[49m\u001b[43m)\u001b[49m\n",
      "Cell \u001b[0;32mIn[14], line 2\u001b[0m, in \u001b[0;36mmain\u001b[0;34m()\u001b[0m\n\u001b[1;32m      1\u001b[0m \u001b[38;5;28;01mdef\u001b[39;00m \u001b[38;5;21mmain\u001b[39m():\n\u001b[0;32m----> 2\u001b[0m     db \u001b[38;5;241m=\u001b[39m \u001b[43mStudentDB\u001b[49m\u001b[43m(\u001b[49m\u001b[38;5;124;43m\"\u001b[39;49m\u001b[38;5;124;43mstudents.json\u001b[39;49m\u001b[38;5;124;43m\"\u001b[39;49m\u001b[43m)\u001b[49m\n\u001b[1;32m      4\u001b[0m     \u001b[38;5;28;01mwhile\u001b[39;00m \u001b[38;5;28;01mTrue\u001b[39;00m:\n\u001b[1;32m      5\u001b[0m         \u001b[38;5;28mprint\u001b[39m(\u001b[38;5;124m\"\u001b[39m\u001b[38;5;124m1. Add Student\u001b[39m\u001b[38;5;124m\"\u001b[39m)\n",
      "\u001b[0;31mTypeError\u001b[0m: StudentDB() takes no arguments"
     ]
    }
   ],
   "source": [
    "def main():\n",
    "    db = StudentDB(\"students.json\")\n",
    "\n",
    "    while True:\n",
    "        print(\"1. Add Student\")\n",
    "        print(\"2. Update Student\")\n",
    "        print(\"3. Delete Student\")\n",
    "        print(\"4. Display all students\")\n",
    "        print(\"5. Exit\")\n",
    "        choice = input(\"Enter your choice >>> \")\n",
    "\n",
    "        if choice == \"1\":\n",
    "            id = input(\"Enter Enrollment No >>> \")\n",
    "            name = input(\"Enter Student Name >>> \")\n",
    "            contact = input(\"Enter Contact No >>> \")\n",
    "            db.add(id, name, contact)\n",
    "        elif choice == \"2\":\n",
    "            id = input(\"Enter Enrollment No of the student to update: \")\n",
    "            name = input(\"Enter new Student Name (leave blank to keep the same): \")\n",
    "            contact = input(\"Enter new Contact Number (leave blank to keep the same): \")\n",
    "            db.update(id, name or None, contact or None)\n",
    "        elif choice == \"3\":\n",
    "            id = input(\"Enter Enrollment No of the student to delete: \")\n",
    "            db.delete(id)\n",
    "        elif choice == \"4\":\n",
    "            db.display()\n",
    "        elif choice == \"5\":\n",
    "            break\n",
    "        else:\n",
    "            print(\"Invalid choice. Please try again.\\n\")\n",
    "\n",
    "if __name__ == \"__main__\":\n",
    "    main()"
   ]
  },
  {
   "cell_type": "code",
   "execution_count": null,
   "metadata": {},
   "outputs": [],
   "source": []
  }
 ],
 "metadata": {
  "kernelspec": {
   "display_name": "Python 3",
   "language": "python",
   "name": "python3"
  },
  "language_info": {
   "codemirror_mode": {
    "name": "ipython",
    "version": 3
   },
   "file_extension": ".py",
   "mimetype": "text/x-python",
   "name": "python",
   "nbconvert_exporter": "python",
   "pygments_lexer": "ipython3",
   "version": "3.11.3"
  }
 },
 "nbformat": 4,
 "nbformat_minor": 2
}
